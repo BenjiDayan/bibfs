{
 "cells": [
  {
   "cell_type": "code",
   "execution_count": 32,
   "metadata": {},
   "outputs": [],
   "source": [
    "import os\n",
    "import numpy as np\n",
    "from tqdm import tqdm\n",
    "\n",
    "import matplotlib.pyplot as plt\n",
    "import math\n",
    "\n",
    "from IPython.core.interactiveshell import InteractiveShell\n",
    "InteractiveShell.ast_node_interactivity = \"all\""
   ]
  },
  {
   "cell_type": "code",
   "execution_count": 44,
   "metadata": {},
   "outputs": [],
   "source": [
    "dists_fn = './output_data/dist.csv'\n",
    "import pandas as pd\n",
    "df = pd.read_csv(dists_fn)\n",
    "\n",
    "df = df.loc[df.s != df.t]"
   ]
  },
  {
   "cell_type": "code",
   "execution_count": 79,
   "metadata": {},
   "outputs": [],
   "source": [
    "df2 = pd.read_csv('./output_data/dist_old.csv')"
   ]
  },
  {
   "cell_type": "code",
   "execution_count": 82,
   "metadata": {},
   "outputs": [
    {
     "data": {
      "text/html": [
       "<div>\n",
       "<style scoped>\n",
       "    .dataframe tbody tr th:only-of-type {\n",
       "        vertical-align: middle;\n",
       "    }\n",
       "\n",
       "    .dataframe tbody tr th {\n",
       "        vertical-align: top;\n",
       "    }\n",
       "\n",
       "    .dataframe thead th {\n",
       "        text-align: right;\n",
       "    }\n",
       "</style>\n",
       "<table border=\"1\" class=\"dataframe\">\n",
       "  <thead>\n",
       "    <tr style=\"text-align: right;\">\n",
       "      <th></th>\n",
       "      <th>graph</th>\n",
       "      <th>algo</th>\n",
       "      <th>seed</th>\n",
       "      <th>s</th>\n",
       "      <th>t</th>\n",
       "      <th>dist</th>\n",
       "      <th>time_dist</th>\n",
       "      <th>search_space</th>\n",
       "    </tr>\n",
       "  </thead>\n",
       "  <tbody>\n",
       "    <tr>\n",
       "      <th>400</th>\n",
       "      <td>08blocks</td>\n",
       "      <td>bfs_bi_node_exact</td>\n",
       "      <td>3404785993</td>\n",
       "      <td>4</td>\n",
       "      <td>23</td>\n",
       "      <td>2</td>\n",
       "      <td>0.004608</td>\n",
       "      <td>6</td>\n",
       "    </tr>\n",
       "    <tr>\n",
       "      <th>401</th>\n",
       "      <td>08blocks</td>\n",
       "      <td>bfs_bi_node_exact</td>\n",
       "      <td>3404785993</td>\n",
       "      <td>9</td>\n",
       "      <td>32</td>\n",
       "      <td>2</td>\n",
       "      <td>0.001002</td>\n",
       "      <td>6</td>\n",
       "    </tr>\n",
       "    <tr>\n",
       "      <th>402</th>\n",
       "      <td>08blocks</td>\n",
       "      <td>bfs_bi_node_exact</td>\n",
       "      <td>3404785993</td>\n",
       "      <td>17</td>\n",
       "      <td>24</td>\n",
       "      <td>2</td>\n",
       "      <td>0.000951</td>\n",
       "      <td>6</td>\n",
       "    </tr>\n",
       "    <tr>\n",
       "      <th>403</th>\n",
       "      <td>08blocks</td>\n",
       "      <td>bfs_bi_node_exact</td>\n",
       "      <td>3404785993</td>\n",
       "      <td>12</td>\n",
       "      <td>5</td>\n",
       "      <td>2</td>\n",
       "      <td>0.000832</td>\n",
       "      <td>6</td>\n",
       "    </tr>\n",
       "    <tr>\n",
       "      <th>404</th>\n",
       "      <td>08blocks</td>\n",
       "      <td>bfs_bi_node_exact</td>\n",
       "      <td>3404785993</td>\n",
       "      <td>26</td>\n",
       "      <td>32</td>\n",
       "      <td>2</td>\n",
       "      <td>0.000841</td>\n",
       "      <td>6</td>\n",
       "    </tr>\n",
       "    <tr>\n",
       "      <th>...</th>\n",
       "      <td>...</td>\n",
       "      <td>...</td>\n",
       "      <td>...</td>\n",
       "      <td>...</td>\n",
       "      <td>...</td>\n",
       "      <td>...</td>\n",
       "      <td>...</td>\n",
       "      <td>...</td>\n",
       "    </tr>\n",
       "    <tr>\n",
       "      <th>2015995</th>\n",
       "      <td>wing_nodal</td>\n",
       "      <td>bfs_bi_node_exact</td>\n",
       "      <td>3404785993</td>\n",
       "      <td>2870</td>\n",
       "      <td>8809</td>\n",
       "      <td>12</td>\n",
       "      <td>0.125438</td>\n",
       "      <td>21765</td>\n",
       "    </tr>\n",
       "    <tr>\n",
       "      <th>2015996</th>\n",
       "      <td>wing_nodal</td>\n",
       "      <td>bfs_bi_node_exact</td>\n",
       "      <td>3404785993</td>\n",
       "      <td>9061</td>\n",
       "      <td>5268</td>\n",
       "      <td>13</td>\n",
       "      <td>0.122813</td>\n",
       "      <td>24879</td>\n",
       "    </tr>\n",
       "    <tr>\n",
       "      <th>2015997</th>\n",
       "      <td>wing_nodal</td>\n",
       "      <td>bfs_bi_node_exact</td>\n",
       "      <td>3404785993</td>\n",
       "      <td>2090</td>\n",
       "      <td>10140</td>\n",
       "      <td>13</td>\n",
       "      <td>0.095511</td>\n",
       "      <td>17910</td>\n",
       "    </tr>\n",
       "    <tr>\n",
       "      <th>2015998</th>\n",
       "      <td>wing_nodal</td>\n",
       "      <td>bfs_bi_node_exact</td>\n",
       "      <td>3404785993</td>\n",
       "      <td>3095</td>\n",
       "      <td>9533</td>\n",
       "      <td>10</td>\n",
       "      <td>0.061306</td>\n",
       "      <td>11509</td>\n",
       "    </tr>\n",
       "    <tr>\n",
       "      <th>2015999</th>\n",
       "      <td>wing_nodal</td>\n",
       "      <td>bfs_bi_node_exact</td>\n",
       "      <td>3404785993</td>\n",
       "      <td>7537</td>\n",
       "      <td>2580</td>\n",
       "      <td>13</td>\n",
       "      <td>0.128324</td>\n",
       "      <td>23783</td>\n",
       "    </tr>\n",
       "  </tbody>\n",
       "</table>\n",
       "<p>403200 rows × 8 columns</p>\n",
       "</div>"
      ],
      "text/plain": [
       "              graph               algo        seed     s      t  dist  \\\n",
       "400        08blocks  bfs_bi_node_exact  3404785993     4     23     2   \n",
       "401        08blocks  bfs_bi_node_exact  3404785993     9     32     2   \n",
       "402        08blocks  bfs_bi_node_exact  3404785993    17     24     2   \n",
       "403        08blocks  bfs_bi_node_exact  3404785993    12      5     2   \n",
       "404        08blocks  bfs_bi_node_exact  3404785993    26     32     2   \n",
       "...             ...                ...         ...   ...    ...   ...   \n",
       "2015995  wing_nodal  bfs_bi_node_exact  3404785993  2870   8809    12   \n",
       "2015996  wing_nodal  bfs_bi_node_exact  3404785993  9061   5268    13   \n",
       "2015997  wing_nodal  bfs_bi_node_exact  3404785993  2090  10140    13   \n",
       "2015998  wing_nodal  bfs_bi_node_exact  3404785993  3095   9533    10   \n",
       "2015999  wing_nodal  bfs_bi_node_exact  3404785993  7537   2580    13   \n",
       "\n",
       "         time_dist  search_space  \n",
       "400       0.004608             6  \n",
       "401       0.001002             6  \n",
       "402       0.000951             6  \n",
       "403       0.000832             6  \n",
       "404       0.000841             6  \n",
       "...            ...           ...  \n",
       "2015995   0.125438         21765  \n",
       "2015996   0.122813         24879  \n",
       "2015997   0.095511         17910  \n",
       "2015998   0.061306         11509  \n",
       "2015999   0.128324         23783  \n",
       "\n",
       "[403200 rows x 8 columns]"
      ]
     },
     "execution_count": 82,
     "metadata": {},
     "output_type": "execute_result"
    }
   ],
   "source": [
    "df2.loc[df2.algo == 'bfs_bi_node_exact']"
   ]
  },
  {
   "cell_type": "code",
   "execution_count": 85,
   "metadata": {},
   "outputs": [
    {
     "data": {
      "text/plain": [
       "400            6\n",
       "401            6\n",
       "402            6\n",
       "403            6\n",
       "404            6\n",
       "           ...  \n",
       "2015995    21765\n",
       "2015996    24879\n",
       "2015997    17910\n",
       "2015998    11509\n",
       "2015999    23783\n",
       "Name: search_space, Length: 403200, dtype: int64"
      ]
     },
     "execution_count": 85,
     "metadata": {},
     "output_type": "execute_result"
    }
   ],
   "source": [
    "temp = df2.loc[df2.algo == 'bfs_bi_node_exact'].search_space\n",
    "temp2 = df.loc[df.algo == 'bfs_bi_node_exact'].search_space\n",
    "\n",
    "temp"
   ]
  },
  {
   "cell_type": "code",
   "execution_count": 95,
   "metadata": {},
   "outputs": [
    {
     "data": {
      "text/plain": [
       "24616"
      ]
     },
     "execution_count": 95,
     "metadata": {},
     "output_type": "execute_result"
    }
   ],
   "source": [
    "len(np.where(temp - temp2 > 0)[0])"
   ]
  },
  {
   "cell_type": "code",
   "execution_count": 99,
   "metadata": {},
   "outputs": [
    {
     "data": {
      "text/plain": [
       "400        0.0\n",
       "401        0.0\n",
       "402        0.0\n",
       "403        0.0\n",
       "404        0.0\n",
       "          ... \n",
       "2015995    NaN\n",
       "2015996    NaN\n",
       "2015997    NaN\n",
       "2015998    NaN\n",
       "2015999    NaN\n",
       "Name: search_space, Length: 753535, dtype: float64"
      ]
     },
     "execution_count": 99,
     "metadata": {},
     "output_type": "execute_result"
    }
   ],
   "source": [
    "a = temp - temp2\n",
    "a"
   ]
  },
  {
   "cell_type": "code",
   "execution_count": 100,
   "metadata": {},
   "outputs": [
    {
     "data": {
      "text/plain": [
       "902          2.0\n",
       "919         28.0\n",
       "993          2.0\n",
       "2444        40.0\n",
       "2471         1.0\n",
       "           ...  \n",
       "631900    2218.0\n",
       "631902    3638.0\n",
       "632400      40.0\n",
       "632401      21.0\n",
       "632404     111.0\n",
       "Name: search_space, Length: 24616, dtype: float64"
      ]
     },
     "execution_count": 100,
     "metadata": {},
     "output_type": "execute_result"
    }
   ],
   "source": [
    "a[temp - temp2 > 0]"
   ]
  },
  {
   "cell_type": "code",
   "execution_count": 101,
   "metadata": {},
   "outputs": [
    {
     "data": {
      "text/plain": [
       "403200"
      ]
     },
     "execution_count": 101,
     "metadata": {},
     "output_type": "execute_result"
    }
   ],
   "source": [
    "len(temp)"
   ]
  },
  {
   "cell_type": "code",
   "execution_count": 45,
   "metadata": {},
   "outputs": [
    {
     "data": {
      "text/plain": [
       "4032"
      ]
     },
     "execution_count": 45,
     "metadata": {},
     "output_type": "execute_result"
    }
   ],
   "source": [
    "len(df.graph.unique())"
   ]
  },
  {
   "cell_type": "code",
   "execution_count": 46,
   "metadata": {
    "scrolled": true
   },
   "outputs": [
    {
     "data": {
      "text/html": [
       "<div>\n",
       "<style scoped>\n",
       "    .dataframe tbody tr th:only-of-type {\n",
       "        vertical-align: middle;\n",
       "    }\n",
       "\n",
       "    .dataframe tbody tr th {\n",
       "        vertical-align: top;\n",
       "    }\n",
       "\n",
       "    .dataframe thead th {\n",
       "        text-align: right;\n",
       "    }\n",
       "</style>\n",
       "<table border=\"1\" class=\"dataframe\">\n",
       "  <thead>\n",
       "    <tr style=\"text-align: right;\">\n",
       "      <th></th>\n",
       "      <th>graph</th>\n",
       "      <th>algo</th>\n",
       "      <th>seed</th>\n",
       "      <th>s</th>\n",
       "      <th>t</th>\n",
       "      <th>dist</th>\n",
       "      <th>time_dist</th>\n",
       "      <th>search_space</th>\n",
       "    </tr>\n",
       "  </thead>\n",
       "  <tbody>\n",
       "    <tr>\n",
       "      <th>657019</th>\n",
       "      <td>GD95_a</td>\n",
       "      <td>bfs</td>\n",
       "      <td>3404785993</td>\n",
       "      <td>29</td>\n",
       "      <td>28</td>\n",
       "      <td>2</td>\n",
       "      <td>0.000311</td>\n",
       "      <td>9</td>\n",
       "    </tr>\n",
       "    <tr>\n",
       "      <th>657052</th>\n",
       "      <td>GD95_a</td>\n",
       "      <td>bfs</td>\n",
       "      <td>3404785993</td>\n",
       "      <td>29</td>\n",
       "      <td>27</td>\n",
       "      <td>1</td>\n",
       "      <td>0.000301</td>\n",
       "      <td>3</td>\n",
       "    </tr>\n",
       "    <tr>\n",
       "      <th>657063</th>\n",
       "      <td>GD95_a</td>\n",
       "      <td>bfs</td>\n",
       "      <td>3404785993</td>\n",
       "      <td>29</td>\n",
       "      <td>24</td>\n",
       "      <td>3</td>\n",
       "      <td>0.000632</td>\n",
       "      <td>40</td>\n",
       "    </tr>\n",
       "    <tr>\n",
       "      <th>657096</th>\n",
       "      <td>GD95_a</td>\n",
       "      <td>bfs</td>\n",
       "      <td>3404785993</td>\n",
       "      <td>29</td>\n",
       "      <td>17</td>\n",
       "      <td>5</td>\n",
       "      <td>0.000942</td>\n",
       "      <td>95</td>\n",
       "    </tr>\n",
       "    <tr>\n",
       "      <th>657119</th>\n",
       "      <td>GD95_a</td>\n",
       "      <td>bfs_bi_balanced</td>\n",
       "      <td>3404785993</td>\n",
       "      <td>29</td>\n",
       "      <td>28</td>\n",
       "      <td>2</td>\n",
       "      <td>0.000711</td>\n",
       "      <td>5</td>\n",
       "    </tr>\n",
       "    <tr>\n",
       "      <th>657152</th>\n",
       "      <td>GD95_a</td>\n",
       "      <td>bfs_bi_balanced</td>\n",
       "      <td>3404785993</td>\n",
       "      <td>29</td>\n",
       "      <td>27</td>\n",
       "      <td>1</td>\n",
       "      <td>0.000631</td>\n",
       "      <td>2</td>\n",
       "    </tr>\n",
       "    <tr>\n",
       "      <th>657163</th>\n",
       "      <td>GD95_a</td>\n",
       "      <td>bfs_bi_balanced</td>\n",
       "      <td>3404785993</td>\n",
       "      <td>29</td>\n",
       "      <td>24</td>\n",
       "      <td>3</td>\n",
       "      <td>0.004879</td>\n",
       "      <td>13</td>\n",
       "    </tr>\n",
       "    <tr>\n",
       "      <th>657196</th>\n",
       "      <td>GD95_a</td>\n",
       "      <td>bfs_bi_balanced</td>\n",
       "      <td>3404785993</td>\n",
       "      <td>29</td>\n",
       "      <td>17</td>\n",
       "      <td>5</td>\n",
       "      <td>0.000812</td>\n",
       "      <td>17</td>\n",
       "    </tr>\n",
       "    <tr>\n",
       "      <th>657219</th>\n",
       "      <td>GD95_a</td>\n",
       "      <td>bfs_bi_always_swap</td>\n",
       "      <td>3404785993</td>\n",
       "      <td>29</td>\n",
       "      <td>28</td>\n",
       "      <td>2</td>\n",
       "      <td>0.000691</td>\n",
       "      <td>6</td>\n",
       "    </tr>\n",
       "    <tr>\n",
       "      <th>657252</th>\n",
       "      <td>GD95_a</td>\n",
       "      <td>bfs_bi_always_swap</td>\n",
       "      <td>3404785993</td>\n",
       "      <td>29</td>\n",
       "      <td>27</td>\n",
       "      <td>1</td>\n",
       "      <td>0.000601</td>\n",
       "      <td>3</td>\n",
       "    </tr>\n",
       "    <tr>\n",
       "      <th>657263</th>\n",
       "      <td>GD95_a</td>\n",
       "      <td>bfs_bi_always_swap</td>\n",
       "      <td>3404785993</td>\n",
       "      <td>29</td>\n",
       "      <td>24</td>\n",
       "      <td>3</td>\n",
       "      <td>0.004749</td>\n",
       "      <td>13</td>\n",
       "    </tr>\n",
       "    <tr>\n",
       "      <th>657296</th>\n",
       "      <td>GD95_a</td>\n",
       "      <td>bfs_bi_always_swap</td>\n",
       "      <td>3404785993</td>\n",
       "      <td>29</td>\n",
       "      <td>17</td>\n",
       "      <td>5</td>\n",
       "      <td>0.000872</td>\n",
       "      <td>23</td>\n",
       "    </tr>\n",
       "    <tr>\n",
       "      <th>657319</th>\n",
       "      <td>GD95_a</td>\n",
       "      <td>bfs_bi_node</td>\n",
       "      <td>3404785993</td>\n",
       "      <td>29</td>\n",
       "      <td>28</td>\n",
       "      <td>2</td>\n",
       "      <td>0.000661</td>\n",
       "      <td>5</td>\n",
       "    </tr>\n",
       "    <tr>\n",
       "      <th>657352</th>\n",
       "      <td>GD95_a</td>\n",
       "      <td>bfs_bi_node</td>\n",
       "      <td>3404785993</td>\n",
       "      <td>29</td>\n",
       "      <td>27</td>\n",
       "      <td>1</td>\n",
       "      <td>0.000761</td>\n",
       "      <td>2</td>\n",
       "    </tr>\n",
       "    <tr>\n",
       "      <th>657363</th>\n",
       "      <td>GD95_a</td>\n",
       "      <td>bfs_bi_node</td>\n",
       "      <td>3404785993</td>\n",
       "      <td>29</td>\n",
       "      <td>24</td>\n",
       "      <td>4</td>\n",
       "      <td>0.005621</td>\n",
       "      <td>13</td>\n",
       "    </tr>\n",
       "    <tr>\n",
       "      <th>657396</th>\n",
       "      <td>GD95_a</td>\n",
       "      <td>bfs_bi_node</td>\n",
       "      <td>3404785993</td>\n",
       "      <td>29</td>\n",
       "      <td>17</td>\n",
       "      <td>5</td>\n",
       "      <td>0.000832</td>\n",
       "      <td>14</td>\n",
       "    </tr>\n",
       "    <tr>\n",
       "      <th>657419</th>\n",
       "      <td>GD95_a</td>\n",
       "      <td>bfs_bi_node_exact</td>\n",
       "      <td>3404785993</td>\n",
       "      <td>29</td>\n",
       "      <td>28</td>\n",
       "      <td>2</td>\n",
       "      <td>0.000781</td>\n",
       "      <td>8</td>\n",
       "    </tr>\n",
       "    <tr>\n",
       "      <th>657452</th>\n",
       "      <td>GD95_a</td>\n",
       "      <td>bfs_bi_node_exact</td>\n",
       "      <td>3404785993</td>\n",
       "      <td>29</td>\n",
       "      <td>27</td>\n",
       "      <td>1</td>\n",
       "      <td>0.000672</td>\n",
       "      <td>3</td>\n",
       "    </tr>\n",
       "    <tr>\n",
       "      <th>657463</th>\n",
       "      <td>GD95_a</td>\n",
       "      <td>bfs_bi_node_exact</td>\n",
       "      <td>3404785993</td>\n",
       "      <td>29</td>\n",
       "      <td>24</td>\n",
       "      <td>3</td>\n",
       "      <td>0.000871</td>\n",
       "      <td>19</td>\n",
       "    </tr>\n",
       "    <tr>\n",
       "      <th>657496</th>\n",
       "      <td>GD95_a</td>\n",
       "      <td>bfs_bi_node_exact</td>\n",
       "      <td>3404785993</td>\n",
       "      <td>29</td>\n",
       "      <td>17</td>\n",
       "      <td>5</td>\n",
       "      <td>0.001223</td>\n",
       "      <td>20</td>\n",
       "    </tr>\n",
       "  </tbody>\n",
       "</table>\n",
       "</div>"
      ],
      "text/plain": [
       "         graph                algo        seed   s   t  dist  time_dist  \\\n",
       "657019  GD95_a                 bfs  3404785993  29  28     2   0.000311   \n",
       "657052  GD95_a                 bfs  3404785993  29  27     1   0.000301   \n",
       "657063  GD95_a                 bfs  3404785993  29  24     3   0.000632   \n",
       "657096  GD95_a                 bfs  3404785993  29  17     5   0.000942   \n",
       "657119  GD95_a     bfs_bi_balanced  3404785993  29  28     2   0.000711   \n",
       "657152  GD95_a     bfs_bi_balanced  3404785993  29  27     1   0.000631   \n",
       "657163  GD95_a     bfs_bi_balanced  3404785993  29  24     3   0.004879   \n",
       "657196  GD95_a     bfs_bi_balanced  3404785993  29  17     5   0.000812   \n",
       "657219  GD95_a  bfs_bi_always_swap  3404785993  29  28     2   0.000691   \n",
       "657252  GD95_a  bfs_bi_always_swap  3404785993  29  27     1   0.000601   \n",
       "657263  GD95_a  bfs_bi_always_swap  3404785993  29  24     3   0.004749   \n",
       "657296  GD95_a  bfs_bi_always_swap  3404785993  29  17     5   0.000872   \n",
       "657319  GD95_a         bfs_bi_node  3404785993  29  28     2   0.000661   \n",
       "657352  GD95_a         bfs_bi_node  3404785993  29  27     1   0.000761   \n",
       "657363  GD95_a         bfs_bi_node  3404785993  29  24     4   0.005621   \n",
       "657396  GD95_a         bfs_bi_node  3404785993  29  17     5   0.000832   \n",
       "657419  GD95_a   bfs_bi_node_exact  3404785993  29  28     2   0.000781   \n",
       "657452  GD95_a   bfs_bi_node_exact  3404785993  29  27     1   0.000672   \n",
       "657463  GD95_a   bfs_bi_node_exact  3404785993  29  24     3   0.000871   \n",
       "657496  GD95_a   bfs_bi_node_exact  3404785993  29  17     5   0.001223   \n",
       "\n",
       "        search_space  \n",
       "657019             9  \n",
       "657052             3  \n",
       "657063            40  \n",
       "657096            95  \n",
       "657119             5  \n",
       "657152             2  \n",
       "657163            13  \n",
       "657196            17  \n",
       "657219             6  \n",
       "657252             3  \n",
       "657263            13  \n",
       "657296            23  \n",
       "657319             5  \n",
       "657352             2  \n",
       "657363            13  \n",
       "657396            14  \n",
       "657419             8  \n",
       "657452             3  \n",
       "657463            19  \n",
       "657496            20  "
      ]
     },
     "execution_count": 46,
     "metadata": {},
     "output_type": "execute_result"
    }
   ],
   "source": [
    "df.loc[(df.graph=='GD95_a') & (df.s == 29)]"
   ]
  },
  {
   "cell_type": "code",
   "execution_count": 47,
   "metadata": {},
   "outputs": [
    {
     "data": {
      "text/plain": [
       "500.0"
      ]
     },
     "execution_count": 47,
     "metadata": {},
     "output_type": "execute_result"
    }
   ],
   "source": [
    "2016000/4032"
   ]
  },
  {
   "cell_type": "code",
   "execution_count": 48,
   "metadata": {},
   "outputs": [
    {
     "data": {
      "text/plain": [
       "Index(['graph', 'algo', 'seed', 's', 't', 'dist', 'time_dist', 'search_space'], dtype='object')"
      ]
     },
     "execution_count": 48,
     "metadata": {},
     "output_type": "execute_result"
    }
   ],
   "source": [
    "df.columns"
   ]
  },
  {
   "cell_type": "code",
   "execution_count": 49,
   "metadata": {},
   "outputs": [
    {
     "data": {
      "text/plain": [
       "array(['bfs', 'bfs_bi_balanced', 'bfs_bi_always_swap', 'bfs_bi_node',\n",
       "       'bfs_bi_node_exact'], dtype=object)"
      ]
     },
     "execution_count": 49,
     "metadata": {},
     "output_type": "execute_result"
    }
   ],
   "source": [
    "df.algo.unique()"
   ]
  },
  {
   "cell_type": "code",
   "execution_count": 26,
   "metadata": {},
   "outputs": [],
   "source": [
    "temp = lambda algo: df.loc[(df.algo == algo) & (df.graph.isin(['08blocks', '1138_bus', '130bit', '145bit', '162bit', '176bit',\n",
    "       '192bit', '208bit', '2D_27628_bjtcai', '2D_54019_highK']))]\\\n",
    "    .groupby(['graph', 's', 't']).dist.unique().apply(lambda x: x[0])\n",
    "\n",
    "foo = temp('bfs_bi_balanced')\n",
    "bar = temp('bfs_bi_node_exact')\n",
    "baz = temp('bfs_bi_node')"
   ]
  },
  {
   "cell_type": "code",
   "execution_count": 29,
   "metadata": {},
   "outputs": [
    {
     "data": {
      "text/plain": [
       "1363                      Letter-med\n",
       "38                          COIL-RAG\n",
       "1362                     Letter-high\n",
       "1265                     Fingerprint\n",
       "5177    reptilia-tortoise-network-pv\n",
       "                    ...             \n",
       "5077                          pds-80\n",
       "1945                         dbpedia\n",
       "5310         soc-twitter-follows-mun\n",
       "4943           munmun_twitter_social\n",
       "1485       aff-dbpedia-users2country\n",
       "Name: graph, Length: 5487, dtype: object"
      ]
     },
     "execution_count": 29,
     "metadata": {},
     "output_type": "execute_result"
    }
   ],
   "source": [
    "graphs_small_first = sizes.sort_values('n').graph\n",
    "graphs_small_first"
   ]
  },
  {
   "cell_type": "code",
   "execution_count": 30,
   "metadata": {
    "scrolled": true
   },
   "outputs": [
    {
     "name": "stderr",
     "output_type": "stream",
     "text": [
      "  1%|█▏                                                                                         | 71/5487 [00:10<13:14,  6.81it/s]\n"
     ]
    },
    {
     "ename": "KeyboardInterrupt",
     "evalue": "",
     "output_type": "error",
     "traceback": [
      "\u001b[0;31m---------------------------------------------------------------------------\u001b[0m",
      "\u001b[0;31mKeyboardInterrupt\u001b[0m                         Traceback (most recent call last)",
      "Input \u001b[0;32mIn [30]\u001b[0m, in \u001b[0;36m<cell line: 3>\u001b[0;34m()\u001b[0m\n\u001b[1;32m      3\u001b[0m \u001b[38;5;28;01mfor\u001b[39;00m graph \u001b[38;5;129;01min\u001b[39;00m tqdm(graphs_small_first):\n\u001b[1;32m      4\u001b[0m     a \u001b[38;5;241m=\u001b[39m df\u001b[38;5;241m.\u001b[39mloc[(df\u001b[38;5;241m.\u001b[39malgo \u001b[38;5;241m==\u001b[39m \u001b[38;5;124m'\u001b[39m\u001b[38;5;124mbfs_bi_balanced\u001b[39m\u001b[38;5;124m'\u001b[39m) \u001b[38;5;241m&\u001b[39m (df\u001b[38;5;241m.\u001b[39mgraph\u001b[38;5;241m==\u001b[39mgraph)]\\\n\u001b[1;32m      5\u001b[0m     \u001b[38;5;241m.\u001b[39mgroupby([\u001b[38;5;124m'\u001b[39m\u001b[38;5;124mgraph\u001b[39m\u001b[38;5;124m'\u001b[39m, \u001b[38;5;124m'\u001b[39m\u001b[38;5;124ms\u001b[39m\u001b[38;5;124m'\u001b[39m, \u001b[38;5;124m'\u001b[39m\u001b[38;5;124mt\u001b[39m\u001b[38;5;124m'\u001b[39m])\u001b[38;5;241m.\u001b[39mdist\u001b[38;5;241m.\u001b[39munique()\u001b[38;5;241m.\u001b[39mapply(\u001b[38;5;28;01mlambda\u001b[39;00m x: x[\u001b[38;5;241m0\u001b[39m])\n\u001b[0;32m----> 6\u001b[0m     b \u001b[38;5;241m=\u001b[39m df\u001b[38;5;241m.\u001b[39mloc[(\u001b[43mdf\u001b[49m\u001b[38;5;241;43m.\u001b[39;49m\u001b[43malgo\u001b[49m\u001b[43m \u001b[49m\u001b[38;5;241;43m==\u001b[39;49m\u001b[43m \u001b[49m\u001b[38;5;124;43m'\u001b[39;49m\u001b[38;5;124;43mbfs_bi_node_exact\u001b[39;49m\u001b[38;5;124;43m'\u001b[39;49m) \u001b[38;5;241m&\u001b[39m (df\u001b[38;5;241m.\u001b[39mgraph\u001b[38;5;241m==\u001b[39mgraph)]\\\n\u001b[1;32m      7\u001b[0m     \u001b[38;5;241m.\u001b[39mgroupby([\u001b[38;5;124m'\u001b[39m\u001b[38;5;124mgraph\u001b[39m\u001b[38;5;124m'\u001b[39m, \u001b[38;5;124m'\u001b[39m\u001b[38;5;124ms\u001b[39m\u001b[38;5;124m'\u001b[39m, \u001b[38;5;124m'\u001b[39m\u001b[38;5;124mt\u001b[39m\u001b[38;5;124m'\u001b[39m])\u001b[38;5;241m.\u001b[39mdist\u001b[38;5;241m.\u001b[39munique()\u001b[38;5;241m.\u001b[39mapply(\u001b[38;5;28;01mlambda\u001b[39;00m x: x[\u001b[38;5;241m0\u001b[39m])\n\u001b[1;32m      8\u001b[0m     \u001b[38;5;28;01mif\u001b[39;00m \u001b[38;5;129;01mnot\u001b[39;00m np\u001b[38;5;241m.\u001b[39mall(a \u001b[38;5;241m==\u001b[39m b):\n\u001b[1;32m      9\u001b[0m         bad_graphs\u001b[38;5;241m.\u001b[39mappend(graph)\n",
      "File \u001b[0;32m/opt/homebrew/anaconda3/lib/python3.9/site-packages/pandas/core/ops/common.py:70\u001b[0m, in \u001b[0;36m_unpack_zerodim_and_defer.<locals>.new_method\u001b[0;34m(self, other)\u001b[0m\n\u001b[1;32m     66\u001b[0m             \u001b[38;5;28;01mreturn\u001b[39;00m \u001b[38;5;28mNotImplemented\u001b[39m\n\u001b[1;32m     68\u001b[0m other \u001b[38;5;241m=\u001b[39m item_from_zerodim(other)\n\u001b[0;32m---> 70\u001b[0m \u001b[38;5;28;01mreturn\u001b[39;00m \u001b[43mmethod\u001b[49m\u001b[43m(\u001b[49m\u001b[38;5;28;43mself\u001b[39;49m\u001b[43m,\u001b[49m\u001b[43m \u001b[49m\u001b[43mother\u001b[49m\u001b[43m)\u001b[49m\n",
      "File \u001b[0;32m/opt/homebrew/anaconda3/lib/python3.9/site-packages/pandas/core/arraylike.py:40\u001b[0m, in \u001b[0;36mOpsMixin.__eq__\u001b[0;34m(self, other)\u001b[0m\n\u001b[1;32m     38\u001b[0m \u001b[38;5;129m@unpack_zerodim_and_defer\u001b[39m(\u001b[38;5;124m\"\u001b[39m\u001b[38;5;124m__eq__\u001b[39m\u001b[38;5;124m\"\u001b[39m)\n\u001b[1;32m     39\u001b[0m \u001b[38;5;28;01mdef\u001b[39;00m \u001b[38;5;21m__eq__\u001b[39m(\u001b[38;5;28mself\u001b[39m, other):\n\u001b[0;32m---> 40\u001b[0m     \u001b[38;5;28;01mreturn\u001b[39;00m \u001b[38;5;28;43mself\u001b[39;49m\u001b[38;5;241;43m.\u001b[39;49m\u001b[43m_cmp_method\u001b[49m\u001b[43m(\u001b[49m\u001b[43mother\u001b[49m\u001b[43m,\u001b[49m\u001b[43m \u001b[49m\u001b[43moperator\u001b[49m\u001b[38;5;241;43m.\u001b[39;49m\u001b[43meq\u001b[49m\u001b[43m)\u001b[49m\n",
      "File \u001b[0;32m/opt/homebrew/anaconda3/lib/python3.9/site-packages/pandas/core/series.py:5623\u001b[0m, in \u001b[0;36mSeries._cmp_method\u001b[0;34m(self, other, op)\u001b[0m\n\u001b[1;32m   5620\u001b[0m rvalues \u001b[38;5;241m=\u001b[39m extract_array(other, extract_numpy\u001b[38;5;241m=\u001b[39m\u001b[38;5;28;01mTrue\u001b[39;00m, extract_range\u001b[38;5;241m=\u001b[39m\u001b[38;5;28;01mTrue\u001b[39;00m)\n\u001b[1;32m   5622\u001b[0m \u001b[38;5;28;01mwith\u001b[39;00m np\u001b[38;5;241m.\u001b[39merrstate(\u001b[38;5;28mall\u001b[39m\u001b[38;5;241m=\u001b[39m\u001b[38;5;124m\"\u001b[39m\u001b[38;5;124mignore\u001b[39m\u001b[38;5;124m\"\u001b[39m):\n\u001b[0;32m-> 5623\u001b[0m     res_values \u001b[38;5;241m=\u001b[39m \u001b[43mops\u001b[49m\u001b[38;5;241;43m.\u001b[39;49m\u001b[43mcomparison_op\u001b[49m\u001b[43m(\u001b[49m\u001b[43mlvalues\u001b[49m\u001b[43m,\u001b[49m\u001b[43m \u001b[49m\u001b[43mrvalues\u001b[49m\u001b[43m,\u001b[49m\u001b[43m \u001b[49m\u001b[43mop\u001b[49m\u001b[43m)\u001b[49m\n\u001b[1;32m   5625\u001b[0m \u001b[38;5;28;01mreturn\u001b[39;00m \u001b[38;5;28mself\u001b[39m\u001b[38;5;241m.\u001b[39m_construct_result(res_values, name\u001b[38;5;241m=\u001b[39mres_name)\n",
      "File \u001b[0;32m/opt/homebrew/anaconda3/lib/python3.9/site-packages/pandas/core/ops/array_ops.py:283\u001b[0m, in \u001b[0;36mcomparison_op\u001b[0;34m(left, right, op)\u001b[0m\n\u001b[1;32m    280\u001b[0m     \u001b[38;5;28;01mreturn\u001b[39;00m invalid_comparison(lvalues, rvalues, op)\n\u001b[1;32m    282\u001b[0m \u001b[38;5;28;01melif\u001b[39;00m is_object_dtype(lvalues\u001b[38;5;241m.\u001b[39mdtype) \u001b[38;5;129;01mor\u001b[39;00m \u001b[38;5;28misinstance\u001b[39m(rvalues, \u001b[38;5;28mstr\u001b[39m):\n\u001b[0;32m--> 283\u001b[0m     res_values \u001b[38;5;241m=\u001b[39m \u001b[43mcomp_method_OBJECT_ARRAY\u001b[49m\u001b[43m(\u001b[49m\u001b[43mop\u001b[49m\u001b[43m,\u001b[49m\u001b[43m \u001b[49m\u001b[43mlvalues\u001b[49m\u001b[43m,\u001b[49m\u001b[43m \u001b[49m\u001b[43mrvalues\u001b[49m\u001b[43m)\u001b[49m\n\u001b[1;32m    285\u001b[0m \u001b[38;5;28;01melse\u001b[39;00m:\n\u001b[1;32m    286\u001b[0m     res_values \u001b[38;5;241m=\u001b[39m _na_arithmetic_op(lvalues, rvalues, op, is_cmp\u001b[38;5;241m=\u001b[39m\u001b[38;5;28;01mTrue\u001b[39;00m)\n",
      "File \u001b[0;32m/opt/homebrew/anaconda3/lib/python3.9/site-packages/pandas/core/ops/array_ops.py:73\u001b[0m, in \u001b[0;36mcomp_method_OBJECT_ARRAY\u001b[0;34m(op, x, y)\u001b[0m\n\u001b[1;32m     71\u001b[0m     result \u001b[38;5;241m=\u001b[39m libops\u001b[38;5;241m.\u001b[39mvec_compare(x\u001b[38;5;241m.\u001b[39mravel(), y\u001b[38;5;241m.\u001b[39mravel(), op)\n\u001b[1;32m     72\u001b[0m \u001b[38;5;28;01melse\u001b[39;00m:\n\u001b[0;32m---> 73\u001b[0m     result \u001b[38;5;241m=\u001b[39m \u001b[43mlibops\u001b[49m\u001b[38;5;241;43m.\u001b[39;49m\u001b[43mscalar_compare\u001b[49m\u001b[43m(\u001b[49m\u001b[43mx\u001b[49m\u001b[38;5;241;43m.\u001b[39;49m\u001b[43mravel\u001b[49m\u001b[43m(\u001b[49m\u001b[43m)\u001b[49m\u001b[43m,\u001b[49m\u001b[43m \u001b[49m\u001b[43my\u001b[49m\u001b[43m,\u001b[49m\u001b[43m \u001b[49m\u001b[43mop\u001b[49m\u001b[43m)\u001b[49m\n\u001b[1;32m     74\u001b[0m \u001b[38;5;28;01mreturn\u001b[39;00m result\u001b[38;5;241m.\u001b[39mreshape(x\u001b[38;5;241m.\u001b[39mshape)\n",
      "\u001b[0;31mKeyboardInterrupt\u001b[0m: "
     ]
    }
   ],
   "source": [
    "bad_graphs = []\n",
    "\n",
    "for graph in tqdm(graphs_small_first):\n",
    "    a = df.loc[(df.algo == 'bfs_bi_balanced') & (df.graph==graph)]\\\n",
    "    .groupby(['graph', 's', 't']).dist.unique().apply(lambda x: x[0])\n",
    "    b = df.loc[(df.algo == 'bfs_bi_node_exact') & (df.graph==graph)]\\\n",
    "    .groupby(['graph', 's', 't']).dist.unique().apply(lambda x: x[0])\n",
    "    if not np.all(a == b):\n",
    "        bad_graphs.append(graph)\n",
    "        print(graph)\n",
    "\n",
    "    if len(bad_graphs) > 4:\n",
    "        break"
   ]
  },
  {
   "cell_type": "code",
   "execution_count": 15,
   "metadata": {},
   "outputs": [
    {
     "data": {
      "text/plain": [
       "['Fingerprint',\n",
       " 'reptilia-tortoise-network-pv',\n",
       " 'reptilia-tortoise-network-cs',\n",
       " 'DD_g714',\n",
       " 'Hamrle1']"
      ]
     },
     "execution_count": 15,
     "metadata": {},
     "output_type": "execute_result"
    }
   ],
   "source": [
    "bad_graphs"
   ]
  },
  {
   "cell_type": "code",
   "execution_count": 16,
   "metadata": {},
   "outputs": [],
   "source": [
    "temp = lambda algo: df.loc[(df.algo == algo) & (df.graph.isin(bad_graphs))]\\\n",
    "    .groupby(['graph', 's', 't']).dist.unique().apply(lambda x: x[0])\n",
    "\n",
    "foo = temp('bfs_bi_balanced')\n",
    "bar = temp('bfs_bi_node_exact')\n",
    "baz = temp('bfs_bi_node')"
   ]
  },
  {
   "cell_type": "code",
   "execution_count": 17,
   "metadata": {},
   "outputs": [
    {
     "data": {
      "text/plain": [
       "graph                         s   t \n",
       "DD_g714                       0   14    7\n",
       "                                  28    4\n",
       "                              2   22    8\n",
       "                              3   11    9\n",
       "                                  12    8\n",
       "                                       ..\n",
       "Hamrle1                       11  17    3\n",
       "reptilia-tortoise-network-cs  27  9     4\n",
       "                              28  8     4\n",
       "reptilia-tortoise-network-pv  21  3     4\n",
       "                                  17    6\n",
       "Name: dist, Length: 80, dtype: int64"
      ]
     },
     "execution_count": 17,
     "metadata": {},
     "output_type": "execute_result"
    }
   ],
   "source": [
    "foo[foo != bar]"
   ]
  },
  {
   "cell_type": "code",
   "execution_count": 18,
   "metadata": {},
   "outputs": [
    {
     "data": {
      "text/plain": [
       "graph                         s   t \n",
       "DD_g714                       0   14    4294967295\n",
       "                                  28    4294967295\n",
       "                              2   22    4294967295\n",
       "                              3   11            10\n",
       "                                  12    4294967295\n",
       "                                           ...    \n",
       "Hamrle1                       11  17             4\n",
       "reptilia-tortoise-network-cs  27  9     4294967295\n",
       "                              28  8     4294967295\n",
       "reptilia-tortoise-network-pv  21  3     4294967295\n",
       "                                  17    4294967295\n",
       "Name: dist, Length: 80, dtype: int64"
      ]
     },
     "execution_count": 18,
     "metadata": {},
     "output_type": "execute_result"
    }
   ],
   "source": [
    "bar[foo!= bar]"
   ]
  },
  {
   "cell_type": "code",
   "execution_count": 19,
   "metadata": {},
   "outputs": [
    {
     "data": {
      "text/plain": [
       "graph    s  t \n",
       "DD_g714  0  14     7\n",
       "            28     4\n",
       "         2  22     8\n",
       "         3  11     9\n",
       "            12     8\n",
       "            13     8\n",
       "         4  21    11\n",
       "         6  21     8\n",
       "         7  21    12\n",
       "            26     7\n",
       "Name: dist, dtype: int64"
      ]
     },
     "execution_count": 19,
     "metadata": {},
     "output_type": "execute_result"
    }
   ],
   "source": [
    "baz[foo != bar][:10]"
   ]
  },
  {
   "cell_type": "code",
   "execution_count": 37,
   "metadata": {},
   "outputs": [
    {
     "data": {
      "text/html": [
       "<div>\n",
       "<style scoped>\n",
       "    .dataframe tbody tr th:only-of-type {\n",
       "        vertical-align: middle;\n",
       "    }\n",
       "\n",
       "    .dataframe tbody tr th {\n",
       "        vertical-align: top;\n",
       "    }\n",
       "\n",
       "    .dataframe thead th {\n",
       "        text-align: right;\n",
       "    }\n",
       "</style>\n",
       "<table border=\"1\" class=\"dataframe\">\n",
       "  <thead>\n",
       "    <tr style=\"text-align: right;\">\n",
       "      <th></th>\n",
       "      <th>graph</th>\n",
       "      <th>n</th>\n",
       "      <th>m</th>\n",
       "    </tr>\n",
       "  </thead>\n",
       "  <tbody>\n",
       "    <tr>\n",
       "      <th>38</th>\n",
       "      <td>COIL-RAG</td>\n",
       "      <td>8</td>\n",
       "      <td>12</td>\n",
       "    </tr>\n",
       "    <tr>\n",
       "      <th>1265</th>\n",
       "      <td>Fingerprint</td>\n",
       "      <td>18</td>\n",
       "      <td>17</td>\n",
       "    </tr>\n",
       "    <tr>\n",
       "      <th>1362</th>\n",
       "      <td>Letter-high</td>\n",
       "      <td>9</td>\n",
       "      <td>9</td>\n",
       "    </tr>\n",
       "    <tr>\n",
       "      <th>1363</th>\n",
       "      <td>Letter-med</td>\n",
       "      <td>8</td>\n",
       "      <td>7</td>\n",
       "    </tr>\n",
       "    <tr>\n",
       "      <th>5177</th>\n",
       "      <td>reptilia-tortoise-network-pv</td>\n",
       "      <td>22</td>\n",
       "      <td>49</td>\n",
       "    </tr>\n",
       "  </tbody>\n",
       "</table>\n",
       "</div>"
      ],
      "text/plain": [
       "                             graph   n   m\n",
       "38                        COIL-RAG   8  12\n",
       "1265                   Fingerprint  18  17\n",
       "1362                   Letter-high   9   9\n",
       "1363                    Letter-med   8   7\n",
       "5177  reptilia-tortoise-network-pv  22  49"
      ]
     },
     "execution_count": 37,
     "metadata": {},
     "output_type": "execute_result"
    }
   ],
   "source": [
    "sizes[sizes.graph.isin(bad_graphs)]"
   ]
  },
  {
   "cell_type": "markdown",
   "metadata": {},
   "source": [
    "## Can we find a small graph?"
   ]
  },
  {
   "cell_type": "code",
   "execution_count": 53,
   "metadata": {},
   "outputs": [],
   "source": [
    "sizes = pd.read_csv('./output_data/size.csv')"
   ]
  },
  {
   "cell_type": "code",
   "execution_count": 54,
   "metadata": {},
   "outputs": [],
   "source": [
    "df = pd.merge(df, sizes, on='graph')"
   ]
  },
  {
   "cell_type": "code",
   "execution_count": 55,
   "metadata": {},
   "outputs": [
    {
     "data": {
      "text/html": [
       "<div>\n",
       "<style scoped>\n",
       "    .dataframe tbody tr th:only-of-type {\n",
       "        vertical-align: middle;\n",
       "    }\n",
       "\n",
       "    .dataframe tbody tr th {\n",
       "        vertical-align: top;\n",
       "    }\n",
       "\n",
       "    .dataframe thead th {\n",
       "        text-align: right;\n",
       "    }\n",
       "</style>\n",
       "<table border=\"1\" class=\"dataframe\">\n",
       "  <thead>\n",
       "    <tr style=\"text-align: right;\">\n",
       "      <th></th>\n",
       "      <th>graph</th>\n",
       "      <th>algo</th>\n",
       "      <th>seed</th>\n",
       "      <th>s</th>\n",
       "      <th>t</th>\n",
       "      <th>dist</th>\n",
       "      <th>time_dist</th>\n",
       "      <th>search_space</th>\n",
       "      <th>n</th>\n",
       "      <th>m</th>\n",
       "    </tr>\n",
       "  </thead>\n",
       "  <tbody>\n",
       "    <tr>\n",
       "      <th>0</th>\n",
       "      <td>08blocks</td>\n",
       "      <td>bfs</td>\n",
       "      <td>3404785993</td>\n",
       "      <td>4</td>\n",
       "      <td>23</td>\n",
       "      <td>2</td>\n",
       "      <td>0.001673</td>\n",
       "      <td>40</td>\n",
       "      <td>38</td>\n",
       "      <td>73</td>\n",
       "    </tr>\n",
       "    <tr>\n",
       "      <th>1</th>\n",
       "      <td>08blocks</td>\n",
       "      <td>bfs</td>\n",
       "      <td>3404785993</td>\n",
       "      <td>9</td>\n",
       "      <td>32</td>\n",
       "      <td>2</td>\n",
       "      <td>0.000752</td>\n",
       "      <td>40</td>\n",
       "      <td>38</td>\n",
       "      <td>73</td>\n",
       "    </tr>\n",
       "    <tr>\n",
       "      <th>2</th>\n",
       "      <td>08blocks</td>\n",
       "      <td>bfs</td>\n",
       "      <td>3404785993</td>\n",
       "      <td>17</td>\n",
       "      <td>24</td>\n",
       "      <td>2</td>\n",
       "      <td>0.000642</td>\n",
       "      <td>40</td>\n",
       "      <td>38</td>\n",
       "      <td>73</td>\n",
       "    </tr>\n",
       "    <tr>\n",
       "      <th>3</th>\n",
       "      <td>08blocks</td>\n",
       "      <td>bfs</td>\n",
       "      <td>3404785993</td>\n",
       "      <td>12</td>\n",
       "      <td>5</td>\n",
       "      <td>2</td>\n",
       "      <td>0.000681</td>\n",
       "      <td>40</td>\n",
       "      <td>38</td>\n",
       "      <td>73</td>\n",
       "    </tr>\n",
       "    <tr>\n",
       "      <th>4</th>\n",
       "      <td>08blocks</td>\n",
       "      <td>bfs</td>\n",
       "      <td>3404785993</td>\n",
       "      <td>26</td>\n",
       "      <td>32</td>\n",
       "      <td>2</td>\n",
       "      <td>0.000621</td>\n",
       "      <td>40</td>\n",
       "      <td>38</td>\n",
       "      <td>73</td>\n",
       "    </tr>\n",
       "    <tr>\n",
       "      <th>...</th>\n",
       "      <td>...</td>\n",
       "      <td>...</td>\n",
       "      <td>...</td>\n",
       "      <td>...</td>\n",
       "      <td>...</td>\n",
       "      <td>...</td>\n",
       "      <td>...</td>\n",
       "      <td>...</td>\n",
       "      <td>...</td>\n",
       "      <td>...</td>\n",
       "    </tr>\n",
       "    <tr>\n",
       "      <th>2015720</th>\n",
       "      <td>wing_nodal</td>\n",
       "      <td>bfs_bi_node_exact</td>\n",
       "      <td>3404785993</td>\n",
       "      <td>2870</td>\n",
       "      <td>8809</td>\n",
       "      <td>12</td>\n",
       "      <td>0.125488</td>\n",
       "      <td>21765</td>\n",
       "      <td>10937</td>\n",
       "      <td>75488</td>\n",
       "    </tr>\n",
       "    <tr>\n",
       "      <th>2015721</th>\n",
       "      <td>wing_nodal</td>\n",
       "      <td>bfs_bi_node_exact</td>\n",
       "      <td>3404785993</td>\n",
       "      <td>9061</td>\n",
       "      <td>5268</td>\n",
       "      <td>13</td>\n",
       "      <td>0.123735</td>\n",
       "      <td>24879</td>\n",
       "      <td>10937</td>\n",
       "      <td>75488</td>\n",
       "    </tr>\n",
       "    <tr>\n",
       "      <th>2015722</th>\n",
       "      <td>wing_nodal</td>\n",
       "      <td>bfs_bi_node_exact</td>\n",
       "      <td>3404785993</td>\n",
       "      <td>2090</td>\n",
       "      <td>10140</td>\n",
       "      <td>13</td>\n",
       "      <td>0.096102</td>\n",
       "      <td>17910</td>\n",
       "      <td>10937</td>\n",
       "      <td>75488</td>\n",
       "    </tr>\n",
       "    <tr>\n",
       "      <th>2015723</th>\n",
       "      <td>wing_nodal</td>\n",
       "      <td>bfs_bi_node_exact</td>\n",
       "      <td>3404785993</td>\n",
       "      <td>3095</td>\n",
       "      <td>9533</td>\n",
       "      <td>10</td>\n",
       "      <td>0.062058</td>\n",
       "      <td>11509</td>\n",
       "      <td>10937</td>\n",
       "      <td>75488</td>\n",
       "    </tr>\n",
       "    <tr>\n",
       "      <th>2015724</th>\n",
       "      <td>wing_nodal</td>\n",
       "      <td>bfs_bi_node_exact</td>\n",
       "      <td>3404785993</td>\n",
       "      <td>7537</td>\n",
       "      <td>2580</td>\n",
       "      <td>13</td>\n",
       "      <td>0.127642</td>\n",
       "      <td>23783</td>\n",
       "      <td>10937</td>\n",
       "      <td>75488</td>\n",
       "    </tr>\n",
       "  </tbody>\n",
       "</table>\n",
       "<p>2015725 rows × 10 columns</p>\n",
       "</div>"
      ],
      "text/plain": [
       "              graph               algo        seed     s      t  dist  \\\n",
       "0          08blocks                bfs  3404785993     4     23     2   \n",
       "1          08blocks                bfs  3404785993     9     32     2   \n",
       "2          08blocks                bfs  3404785993    17     24     2   \n",
       "3          08blocks                bfs  3404785993    12      5     2   \n",
       "4          08blocks                bfs  3404785993    26     32     2   \n",
       "...             ...                ...         ...   ...    ...   ...   \n",
       "2015720  wing_nodal  bfs_bi_node_exact  3404785993  2870   8809    12   \n",
       "2015721  wing_nodal  bfs_bi_node_exact  3404785993  9061   5268    13   \n",
       "2015722  wing_nodal  bfs_bi_node_exact  3404785993  2090  10140    13   \n",
       "2015723  wing_nodal  bfs_bi_node_exact  3404785993  3095   9533    10   \n",
       "2015724  wing_nodal  bfs_bi_node_exact  3404785993  7537   2580    13   \n",
       "\n",
       "         time_dist  search_space      n      m  \n",
       "0         0.001673            40     38     73  \n",
       "1         0.000752            40     38     73  \n",
       "2         0.000642            40     38     73  \n",
       "3         0.000681            40     38     73  \n",
       "4         0.000621            40     38     73  \n",
       "...            ...           ...    ...    ...  \n",
       "2015720   0.125488         21765  10937  75488  \n",
       "2015721   0.123735         24879  10937  75488  \n",
       "2015722   0.096102         17910  10937  75488  \n",
       "2015723   0.062058         11509  10937  75488  \n",
       "2015724   0.127642         23783  10937  75488  \n",
       "\n",
       "[2015725 rows x 10 columns]"
      ]
     },
     "execution_count": 55,
     "metadata": {},
     "output_type": "execute_result"
    }
   ],
   "source": [
    "df"
   ]
  },
  {
   "cell_type": "markdown",
   "metadata": {},
   "source": [
    "## What is going on with DD_g714?"
   ]
  },
  {
   "cell_type": "code",
   "execution_count": 77,
   "metadata": {},
   "outputs": [
    {
     "name": "stdout",
     "output_type": "stream",
     "text": [
      "Collecting networkit\n",
      "  Downloading networkit-10.1-cp310-cp310-manylinux_2_12_x86_64.manylinux2010_x86_64.whl (9.8 MB)\n",
      "\u001b[2K     \u001b[90m━━━━━━━━━━━━━━━━━━━━━━━━━━━━━━━━━━━━━━━━\u001b[0m \u001b[32m9.8/9.8 MB\u001b[0m \u001b[31m9.4 MB/s\u001b[0m eta \u001b[36m0:00:00\u001b[0m00:01\u001b[0m00:01\u001b[0mm\n",
      "\u001b[?25hRequirement already satisfied: numpy in /home/benji/benjienv/lib/python3.10/site-packages (from networkit) (1.26.1)\n",
      "Collecting scipy\n",
      "  Downloading scipy-1.11.3-cp310-cp310-manylinux_2_17_x86_64.manylinux2014_x86_64.whl (36.4 MB)\n",
      "\u001b[2K     \u001b[90m━━━━━━━━━━━━━━━━━━━━━━━━━━━━━━━━━━━━━━━━\u001b[0m \u001b[32m36.4/36.4 MB\u001b[0m \u001b[31m56.3 MB/s\u001b[0m eta \u001b[36m0:00:00\u001b[0m00:01\u001b[0m00:01\u001b[0m\n",
      "\u001b[?25hInstalling collected packages: scipy, networkit\n",
      "Successfully installed networkit-10.1 scipy-1.11.3\n"
     ]
    }
   ],
   "source": [
    "!pip install networkit"
   ]
  },
  {
   "cell_type": "code",
   "execution_count": 78,
   "metadata": {},
   "outputs": [
    {
     "data": {
      "text/html": [
       "\n",
       "\t\t\t<script type=\"text/javascript\">\n",
       "\t\t\t<!--\n",
       "\t\t\t\t\n",
       "\t\t\t{\n",
       "\t\t\t\tvar element = document.getElementById('NetworKit_script');\n",
       "\t\t\t\tif (element) {\n",
       "\t\t\t\t\telement.parentNode.removeChild(element);\n",
       "\t\t\t\t}\n",
       "\t\t\t\telement = document.createElement('script');\n",
       "\t\t\t\telement.type = 'text/javascript';\n",
       "\t\t\t\telement.innerHTML = 'function NetworKit_pageEmbed(id) { var i, j; var elements; elements = document.getElementById(id).getElementsByClassName(\"Plot\"); for (i=0; i<elements.length; i++) { elements[i].id = id + \"_Plot_\" + i; var data = elements[i].getAttribute(\"data-image\").split(\"|\"); elements[i].removeAttribute(\"data-image\"); var content = \"<div class=\\\\\"Image\\\\\" id=\\\\\"\" + elements[i].id + \"_Image\\\\\" />\"; elements[i].innerHTML = content; elements[i].setAttribute(\"data-image-index\", 0); elements[i].setAttribute(\"data-image-length\", data.length); for (j=0; j<data.length; j++) { elements[i].setAttribute(\"data-image-\" + j, data[j]); } NetworKit_plotUpdate(elements[i]); elements[i].onclick = function (e) { NetworKit_overlayShow((e.target) ? e.target : e.srcElement); } } elements = document.getElementById(id).getElementsByClassName(\"HeatCell\"); for (i=0; i<elements.length; i++) { var data = parseFloat(elements[i].getAttribute(\"data-heat\")); var color = \"#00FF00\"; if (data <= 1 && data > 0) { color = \"hsla(0, 100%, 75%, \" + (data) + \")\"; } else if (data <= 0 && data >= -1) { color = \"hsla(240, 100%, 75%, \" + (-data) + \")\"; } elements[i].style.backgroundColor = color; } elements = document.getElementById(id).getElementsByClassName(\"Details\"); for (i=0; i<elements.length; i++) { elements[i].setAttribute(\"data-title\", \"-\"); NetworKit_toggleDetails(elements[i]); elements[i].onclick = function (e) { NetworKit_toggleDetails((e.target) ? e.target : e.srcElement); } } elements = document.getElementById(id).getElementsByClassName(\"MathValue\"); for (i=elements.length-1; i>=0; i--) { value = elements[i].innerHTML.trim(); if (value === \"nan\") { elements[i].parentNode.innerHTML = \"\" } } elements = document.getElementById(id).getElementsByClassName(\"SubCategory\"); for (i=elements.length-1; i>=0; i--) { value = elements[i].innerHTML.trim(); if (value === \"\") { elements[i].parentNode.removeChild(elements[i]) } } elements = document.getElementById(id).getElementsByClassName(\"Category\"); for (i=elements.length-1; i>=0; i--) { value = elements[i].innerHTML.trim(); if (value === \"\") { elements[i].parentNode.removeChild(elements[i]) } } var isFirefox = false; try { isFirefox = typeof InstallTrigger !== \"undefined\"; } catch (e) {} if (!isFirefox) { alert(\"Currently the function\\'s output is only fully supported by Firefox.\"); } } function NetworKit_plotUpdate(source) { var index = source.getAttribute(\"data-image-index\"); var data = source.getAttribute(\"data-image-\" + index); var image = document.getElementById(source.id + \"_Image\"); image.style.backgroundImage = \"url(\" + data + \")\"; } function NetworKit_showElement(id, show) { var element = document.getElementById(id); element.style.display = (show) ? \"block\" : \"none\"; } function NetworKit_overlayShow(source) { NetworKit_overlayUpdate(source); NetworKit_showElement(\"NetworKit_Overlay\", true); } function NetworKit_overlayUpdate(source) { document.getElementById(\"NetworKit_Overlay_Title\").innerHTML = source.title; var index = source.getAttribute(\"data-image-index\"); var data = source.getAttribute(\"data-image-\" + index); var image = document.getElementById(\"NetworKit_Overlay_Image\"); image.setAttribute(\"data-id\", source.id); image.style.backgroundImage = \"url(\" + data + \")\"; var link = document.getElementById(\"NetworKit_Overlay_Toolbar_Bottom_Save\"); link.href = data; link.download = source.title + \".svg\"; } function NetworKit_overlayImageShift(delta) { var image = document.getElementById(\"NetworKit_Overlay_Image\"); var source = document.getElementById(image.getAttribute(\"data-id\")); var index = parseInt(source.getAttribute(\"data-image-index\")); var length = parseInt(source.getAttribute(\"data-image-length\")); var index = (index+delta) % length; if (index < 0) { index = length + index; } source.setAttribute(\"data-image-index\", index); NetworKit_overlayUpdate(source); } function NetworKit_toggleDetails(source) { var childs = source.children; var show = false; if (source.getAttribute(\"data-title\") == \"-\") { source.setAttribute(\"data-title\", \"+\"); show = false; } else { source.setAttribute(\"data-title\", \"-\"); show = true; } for (i=0; i<childs.length; i++) { if (show) { childs[i].style.display = \"block\"; } else { childs[i].style.display = \"none\"; } } }';\n",
       "\t\t\t\telement.setAttribute('id', 'NetworKit_script');\n",
       "\t\t\t\tdocument.head.appendChild(element);\n",
       "\t\t\t}\n",
       "\t\t\n",
       "\t\t\t\t\n",
       "\t\t\t{\n",
       "\t\t\t\tvar element = document.getElementById('NetworKit_style');\n",
       "\t\t\t\tif (element) {\n",
       "\t\t\t\t\telement.parentNode.removeChild(element);\n",
       "\t\t\t\t}\n",
       "\t\t\t\telement = document.createElement('style');\n",
       "\t\t\t\telement.type = 'text/css';\n",
       "\t\t\t\telement.innerHTML = '.NetworKit_Page { font-family: Arial, Helvetica, sans-serif; font-size: 14px; } .NetworKit_Page .Value:before { font-family: Arial, Helvetica, sans-serif; font-size: 1.05em; content: attr(data-title) \":\"; margin-left: -2.5em; padding-right: 0.5em; } .NetworKit_Page .Details .Value:before { display: block; } .NetworKit_Page .Value { font-family: monospace; white-space: pre; padding-left: 2.5em; white-space: -moz-pre-wrap !important; white-space: -pre-wrap; white-space: -o-pre-wrap; white-space: pre-wrap; word-wrap: break-word; tab-size: 4; -moz-tab-size: 4; } .NetworKit_Page .Category { clear: both; padding-left: 1em; margin-bottom: 1.5em; } .NetworKit_Page .Category:before { content: attr(data-title); font-size: 1.75em; display: block; margin-left: -0.8em; margin-bottom: 0.5em; } .NetworKit_Page .SubCategory { margin-bottom: 1.5em; padding-left: 1em; } .NetworKit_Page .SubCategory:before { font-size: 1.6em; display: block; margin-left: -0.8em; margin-bottom: 0.5em; } .NetworKit_Page .SubCategory[data-title]:before { content: attr(data-title); } .NetworKit_Page .Block { display: block; } .NetworKit_Page .Block:after { content: \".\"; visibility: hidden; display: block; height: 0; clear: both; } .NetworKit_Page .Block .Thumbnail_Overview, .NetworKit_Page .Block .Thumbnail_ScatterPlot { width: 260px; float: left; } .NetworKit_Page .Block .Thumbnail_Overview img, .NetworKit_Page .Block .Thumbnail_ScatterPlot img { width: 260px; } .NetworKit_Page .Block .Thumbnail_Overview:before, .NetworKit_Page .Block .Thumbnail_ScatterPlot:before { display: block; text-align: center; font-weight: bold; } .NetworKit_Page .Block .Thumbnail_Overview:before { content: attr(data-title); } .NetworKit_Page .HeatCell { font-family: \"Courier New\", Courier, monospace; cursor: pointer; } .NetworKit_Page .HeatCell, .NetworKit_Page .HeatCellName { display: inline; padding: 0.1em; margin-right: 2px; background-color: #FFFFFF } .NetworKit_Page .HeatCellName { margin-left: 0.25em; } .NetworKit_Page .HeatCell:before { content: attr(data-heat); display: inline-block; color: #000000; width: 4em; text-align: center; } .NetworKit_Page .Measure { clear: both; } .NetworKit_Page .Measure .Details { cursor: pointer; } .NetworKit_Page .Measure .Details:before { content: \"[\" attr(data-title) \"]\"; display: block; } .NetworKit_Page .Measure .Details .Value { border-left: 1px dotted black; margin-left: 0.4em; padding-left: 3.5em; pointer-events: none; } .NetworKit_Page .Measure .Details .Spacer:before { content: \".\"; opacity: 0.0; pointer-events: none; } .NetworKit_Page .Measure .Plot { width: 440px; height: 440px; cursor: pointer; float: left; margin-left: -0.9em; margin-right: 20px; } .NetworKit_Page .Measure .Plot .Image { background-repeat: no-repeat; background-position: center center; background-size: contain; height: 100%; pointer-events: none; } .NetworKit_Page .Measure .Stat { width: 500px; float: left; } .NetworKit_Page .Measure .Stat .Group { padding-left: 1.25em; margin-bottom: 0.75em; } .NetworKit_Page .Measure .Stat .Group .Title { font-size: 1.1em; display: block; margin-bottom: 0.3em; margin-left: -0.75em; border-right-style: dotted; border-right-width: 1px; border-bottom-style: dotted; border-bottom-width: 1px; background-color: #D0D0D0; padding-left: 0.2em; } .NetworKit_Page .Measure .Stat .Group .List { -webkit-column-count: 3; -moz-column-count: 3; column-count: 3; } .NetworKit_Page .Measure .Stat .Group .List .Entry { position: relative; line-height: 1.75em; } .NetworKit_Page .Measure .Stat .Group .List .Entry[data-tooltip]:before { position: absolute; left: 0; top: -40px; background-color: #808080; color: #ffffff; height: 30px; line-height: 30px; border-radius: 5px; padding: 0 15px; content: attr(data-tooltip); white-space: nowrap; display: none; } .NetworKit_Page .Measure .Stat .Group .List .Entry[data-tooltip]:after { position: absolute; left: 15px; top: -10px; border-top: 7px solid #808080; border-left: 7px solid transparent; border-right: 7px solid transparent; content: \"\"; display: none; } .NetworKit_Page .Measure .Stat .Group .List .Entry[data-tooltip]:hover:after, .NetworKit_Page .Measure .Stat .Group .List .Entry[data-tooltip]:hover:before { display: block; } .NetworKit_Page .Measure .Stat .Group .List .Entry .MathValue { font-family: \"Courier New\", Courier, monospace; } .NetworKit_Page .Measure:after { content: \".\"; visibility: hidden; display: block; height: 0; clear: both; } .NetworKit_Page .PartitionPie { clear: both; } .NetworKit_Page .PartitionPie img { width: 600px; } #NetworKit_Overlay { left: 0px; top: 0px; display: none; position: absolute; width: 100%; height: 100%; background-color: rgba(0,0,0,0.6); z-index: 1000; } #NetworKit_Overlay_Title { position: absolute; color: white; transform: rotate(-90deg); width: 32em; height: 32em; padding-right: 0.5em; padding-top: 0.5em; text-align: right; font-size: 40px; } #NetworKit_Overlay .button { background: white; cursor: pointer; } #NetworKit_Overlay .button:before { size: 13px; display: inline-block; text-align: center; margin-top: 0.5em; margin-bottom: 0.5em; width: 1.5em; height: 1.5em; } #NetworKit_Overlay .icon-close:before { content: \"X\"; } #NetworKit_Overlay .icon-previous:before { content: \"P\"; } #NetworKit_Overlay .icon-next:before { content: \"N\"; } #NetworKit_Overlay .icon-save:before { content: \"S\"; } #NetworKit_Overlay_Toolbar_Top, #NetworKit_Overlay_Toolbar_Bottom { position: absolute; width: 40px; right: 13px; text-align: right; z-index: 1100; } #NetworKit_Overlay_Toolbar_Top { top: 0.5em; } #NetworKit_Overlay_Toolbar_Bottom { Bottom: 0.5em; } #NetworKit_Overlay_ImageContainer { position: absolute; top: 5%; left: 5%; height: 90%; width: 90%; background-repeat: no-repeat; background-position: center center; background-size: contain; } #NetworKit_Overlay_Image { height: 100%; width: 100%; background-repeat: no-repeat; background-position: center center; background-size: contain; }';\n",
       "\t\t\t\telement.setAttribute('id', 'NetworKit_style');\n",
       "\t\t\t\tdocument.head.appendChild(element);\n",
       "\t\t\t}\n",
       "\t\t\n",
       "\t\t\t\t\n",
       "\t\t\t{\n",
       "\t\t\t\tvar element = document.getElementById('NetworKit_Overlay');\n",
       "\t\t\t\tif (element) {\n",
       "\t\t\t\t\telement.parentNode.removeChild(element);\n",
       "\t\t\t\t}\n",
       "\t\t\t\telement = document.createElement('div');\n",
       "\t\t\t\telement.innerHTML = '<div id=\"NetworKit_Overlay_Toolbar_Top\"><div class=\"button icon-close\" id=\"NetworKit_Overlay_Close\" /></div><div id=\"NetworKit_Overlay_Title\" /> <div id=\"NetworKit_Overlay_ImageContainer\"> <div id=\"NetworKit_Overlay_Image\" /> </div> <div id=\"NetworKit_Overlay_Toolbar_Bottom\"> <div class=\"button icon-previous\" onclick=\"NetworKit_overlayImageShift(-1)\" /> <div class=\"button icon-next\" onclick=\"NetworKit_overlayImageShift(1)\" /> <a id=\"NetworKit_Overlay_Toolbar_Bottom_Save\"><div class=\"button icon-save\" /></a> </div>';\n",
       "\t\t\t\telement.setAttribute('id', 'NetworKit_Overlay');\n",
       "\t\t\t\tdocument.body.appendChild(element);\n",
       "\t\t\t\tdocument.getElementById('NetworKit_Overlay_Close').onclick = function (e) {\n",
       "\t\t\t\t\tdocument.getElementById('NetworKit_Overlay').style.display = 'none';\n",
       "\t\t\t\t}\n",
       "\t\t\t}\n",
       "\t\t\n",
       "\t\t\t-->\n",
       "\t\t\t</script>\n",
       "\t\t"
      ]
     },
     "metadata": {},
     "output_type": "display_data"
    }
   ],
   "source": [
    "import networkit as nk"
   ]
  },
  {
   "cell_type": "code",
   "execution_count": 98,
   "metadata": {},
   "outputs": [],
   "source": [
    "g_fn = 'input_data/DD_g714'\n",
    "with open(g_fn) as file:\n",
    "    lines = list(map(lambda x: x[:-1].split(' '), file.readlines()))\n",
    "    lines = [list(map(int, y)) for y in lines]\n",
    "\n",
    "n, m = lines[0]\n",
    "g = nk.Graph(n)\n",
    "for _, u, v in lines[1:]:\n",
    "    _ = g.addEdge(u, v)\n",
    "\n",
    "def nhbs(u):\n",
    "    return set(g.iterNeighbors(u))"
   ]
  },
  {
   "cell_type": "code",
   "execution_count": 104,
   "metadata": {},
   "outputs": [
    {
     "data": {
      "text/plain": [
       "{2, 23, 24, 26, 27}"
      ]
     },
     "execution_count": 104,
     "metadata": {},
     "output_type": "execute_result"
    }
   ],
   "source": [
    "nhbs(5)"
   ]
  },
  {
   "cell_type": "code",
   "execution_count": 105,
   "metadata": {},
   "outputs": [
    {
     "data": {
      "text/plain": [
       "{5, 20, 23, 25, 26, 27}"
      ]
     },
     "execution_count": 105,
     "metadata": {},
     "output_type": "execute_result"
    }
   ],
   "source": [
    "nhbs(24)"
   ]
  },
  {
   "cell_type": "code",
   "execution_count": 106,
   "metadata": {},
   "outputs": [
    {
     "data": {
      "text/plain": [
       "{10, 13, 16, 18, 19, 20}"
      ]
     },
     "execution_count": 106,
     "metadata": {},
     "output_type": "execute_result"
    }
   ],
   "source": [
    "nhbs(17)"
   ]
  },
  {
   "cell_type": "code",
   "execution_count": 107,
   "metadata": {},
   "outputs": [
    {
     "data": {
      "text/plain": [
       "{13, 16, 17, 19}"
      ]
     },
     "execution_count": 107,
     "metadata": {},
     "output_type": "execute_result"
    }
   ],
   "source": [
    "nhbs(18)"
   ]
  },
  {
   "cell_type": "code",
   "execution_count": 128,
   "metadata": {},
   "outputs": [
    {
     "data": {
      "text/plain": [
       "{9, 10, 12, 16, 17, 18}"
      ]
     },
     "execution_count": 128,
     "metadata": {},
     "output_type": "execute_result"
    }
   ],
   "source": [
    "nhbs(13)"
   ]
  },
  {
   "cell_type": "code",
   "execution_count": 129,
   "metadata": {},
   "outputs": [
    {
     "data": {
      "text/plain": [
       "{17, 19, 23, 24, 25}"
      ]
     },
     "execution_count": 129,
     "metadata": {},
     "output_type": "execute_result"
    }
   ],
   "source": [
    "nhbs(20)"
   ]
  },
  {
   "cell_type": "code",
   "execution_count": 21,
   "metadata": {},
   "outputs": [
    {
     "data": {
      "text/html": [
       "\n",
       "\t\t\t<script type=\"text/javascript\">\n",
       "\t\t\t<!--\n",
       "\t\t\t\t\n",
       "\t\t\t{\n",
       "\t\t\t\tvar element = document.getElementById('NetworKit_script');\n",
       "\t\t\t\tif (element) {\n",
       "\t\t\t\t\telement.parentNode.removeChild(element);\n",
       "\t\t\t\t}\n",
       "\t\t\t\telement = document.createElement('script');\n",
       "\t\t\t\telement.type = 'text/javascript';\n",
       "\t\t\t\telement.innerHTML = 'function NetworKit_pageEmbed(id) { var i, j; var elements; elements = document.getElementById(id).getElementsByClassName(\"Plot\"); for (i=0; i<elements.length; i++) { elements[i].id = id + \"_Plot_\" + i; var data = elements[i].getAttribute(\"data-image\").split(\"|\"); elements[i].removeAttribute(\"data-image\"); var content = \"<div class=\\\\\"Image\\\\\" id=\\\\\"\" + elements[i].id + \"_Image\\\\\" />\"; elements[i].innerHTML = content; elements[i].setAttribute(\"data-image-index\", 0); elements[i].setAttribute(\"data-image-length\", data.length); for (j=0; j<data.length; j++) { elements[i].setAttribute(\"data-image-\" + j, data[j]); } NetworKit_plotUpdate(elements[i]); elements[i].onclick = function (e) { NetworKit_overlayShow((e.target) ? e.target : e.srcElement); } } elements = document.getElementById(id).getElementsByClassName(\"HeatCell\"); for (i=0; i<elements.length; i++) { var data = parseFloat(elements[i].getAttribute(\"data-heat\")); var color = \"#00FF00\"; if (data <= 1 && data > 0) { color = \"hsla(0, 100%, 75%, \" + (data) + \")\"; } else if (data <= 0 && data >= -1) { color = \"hsla(240, 100%, 75%, \" + (-data) + \")\"; } elements[i].style.backgroundColor = color; } elements = document.getElementById(id).getElementsByClassName(\"Details\"); for (i=0; i<elements.length; i++) { elements[i].setAttribute(\"data-title\", \"-\"); NetworKit_toggleDetails(elements[i]); elements[i].onclick = function (e) { NetworKit_toggleDetails((e.target) ? e.target : e.srcElement); } } elements = document.getElementById(id).getElementsByClassName(\"MathValue\"); for (i=elements.length-1; i>=0; i--) { value = elements[i].innerHTML.trim(); if (value === \"nan\") { elements[i].parentNode.innerHTML = \"\" } } elements = document.getElementById(id).getElementsByClassName(\"SubCategory\"); for (i=elements.length-1; i>=0; i--) { value = elements[i].innerHTML.trim(); if (value === \"\") { elements[i].parentNode.removeChild(elements[i]) } } elements = document.getElementById(id).getElementsByClassName(\"Category\"); for (i=elements.length-1; i>=0; i--) { value = elements[i].innerHTML.trim(); if (value === \"\") { elements[i].parentNode.removeChild(elements[i]) } } var isFirefox = false; try { isFirefox = typeof InstallTrigger !== \"undefined\"; } catch (e) {} if (!isFirefox) { alert(\"Currently the function\\'s output is only fully supported by Firefox.\"); } } function NetworKit_plotUpdate(source) { var index = source.getAttribute(\"data-image-index\"); var data = source.getAttribute(\"data-image-\" + index); var image = document.getElementById(source.id + \"_Image\"); image.style.backgroundImage = \"url(\" + data + \")\"; } function NetworKit_showElement(id, show) { var element = document.getElementById(id); element.style.display = (show) ? \"block\" : \"none\"; } function NetworKit_overlayShow(source) { NetworKit_overlayUpdate(source); NetworKit_showElement(\"NetworKit_Overlay\", true); } function NetworKit_overlayUpdate(source) { document.getElementById(\"NetworKit_Overlay_Title\").innerHTML = source.title; var index = source.getAttribute(\"data-image-index\"); var data = source.getAttribute(\"data-image-\" + index); var image = document.getElementById(\"NetworKit_Overlay_Image\"); image.setAttribute(\"data-id\", source.id); image.style.backgroundImage = \"url(\" + data + \")\"; var link = document.getElementById(\"NetworKit_Overlay_Toolbar_Bottom_Save\"); link.href = data; link.download = source.title + \".svg\"; } function NetworKit_overlayImageShift(delta) { var image = document.getElementById(\"NetworKit_Overlay_Image\"); var source = document.getElementById(image.getAttribute(\"data-id\")); var index = parseInt(source.getAttribute(\"data-image-index\")); var length = parseInt(source.getAttribute(\"data-image-length\")); var index = (index+delta) % length; if (index < 0) { index = length + index; } source.setAttribute(\"data-image-index\", index); NetworKit_overlayUpdate(source); } function NetworKit_toggleDetails(source) { var childs = source.children; var show = false; if (source.getAttribute(\"data-title\") == \"-\") { source.setAttribute(\"data-title\", \"+\"); show = false; } else { source.setAttribute(\"data-title\", \"-\"); show = true; } for (i=0; i<childs.length; i++) { if (show) { childs[i].style.display = \"block\"; } else { childs[i].style.display = \"none\"; } } }';\n",
       "\t\t\t\telement.setAttribute('id', 'NetworKit_script');\n",
       "\t\t\t\tdocument.head.appendChild(element);\n",
       "\t\t\t}\n",
       "\t\t\n",
       "\t\t\t\t\n",
       "\t\t\t{\n",
       "\t\t\t\tvar element = document.getElementById('NetworKit_style');\n",
       "\t\t\t\tif (element) {\n",
       "\t\t\t\t\telement.parentNode.removeChild(element);\n",
       "\t\t\t\t}\n",
       "\t\t\t\telement = document.createElement('style');\n",
       "\t\t\t\telement.type = 'text/css';\n",
       "\t\t\t\telement.innerHTML = '.NetworKit_Page { font-family: Arial, Helvetica, sans-serif; font-size: 14px; } .NetworKit_Page .Value:before { font-family: Arial, Helvetica, sans-serif; font-size: 1.05em; content: attr(data-title) \":\"; margin-left: -2.5em; padding-right: 0.5em; } .NetworKit_Page .Details .Value:before { display: block; } .NetworKit_Page .Value { font-family: monospace; white-space: pre; padding-left: 2.5em; white-space: -moz-pre-wrap !important; white-space: -pre-wrap; white-space: -o-pre-wrap; white-space: pre-wrap; word-wrap: break-word; tab-size: 4; -moz-tab-size: 4; } .NetworKit_Page .Category { clear: both; padding-left: 1em; margin-bottom: 1.5em; } .NetworKit_Page .Category:before { content: attr(data-title); font-size: 1.75em; display: block; margin-left: -0.8em; margin-bottom: 0.5em; } .NetworKit_Page .SubCategory { margin-bottom: 1.5em; padding-left: 1em; } .NetworKit_Page .SubCategory:before { font-size: 1.6em; display: block; margin-left: -0.8em; margin-bottom: 0.5em; } .NetworKit_Page .SubCategory[data-title]:before { content: attr(data-title); } .NetworKit_Page .Block { display: block; } .NetworKit_Page .Block:after { content: \".\"; visibility: hidden; display: block; height: 0; clear: both; } .NetworKit_Page .Block .Thumbnail_Overview, .NetworKit_Page .Block .Thumbnail_ScatterPlot { width: 260px; float: left; } .NetworKit_Page .Block .Thumbnail_Overview img, .NetworKit_Page .Block .Thumbnail_ScatterPlot img { width: 260px; } .NetworKit_Page .Block .Thumbnail_Overview:before, .NetworKit_Page .Block .Thumbnail_ScatterPlot:before { display: block; text-align: center; font-weight: bold; } .NetworKit_Page .Block .Thumbnail_Overview:before { content: attr(data-title); } .NetworKit_Page .HeatCell { font-family: \"Courier New\", Courier, monospace; cursor: pointer; } .NetworKit_Page .HeatCell, .NetworKit_Page .HeatCellName { display: inline; padding: 0.1em; margin-right: 2px; background-color: #FFFFFF } .NetworKit_Page .HeatCellName { margin-left: 0.25em; } .NetworKit_Page .HeatCell:before { content: attr(data-heat); display: inline-block; color: #000000; width: 4em; text-align: center; } .NetworKit_Page .Measure { clear: both; } .NetworKit_Page .Measure .Details { cursor: pointer; } .NetworKit_Page .Measure .Details:before { content: \"[\" attr(data-title) \"]\"; display: block; } .NetworKit_Page .Measure .Details .Value { border-left: 1px dotted black; margin-left: 0.4em; padding-left: 3.5em; pointer-events: none; } .NetworKit_Page .Measure .Details .Spacer:before { content: \".\"; opacity: 0.0; pointer-events: none; } .NetworKit_Page .Measure .Plot { width: 440px; height: 440px; cursor: pointer; float: left; margin-left: -0.9em; margin-right: 20px; } .NetworKit_Page .Measure .Plot .Image { background-repeat: no-repeat; background-position: center center; background-size: contain; height: 100%; pointer-events: none; } .NetworKit_Page .Measure .Stat { width: 500px; float: left; } .NetworKit_Page .Measure .Stat .Group { padding-left: 1.25em; margin-bottom: 0.75em; } .NetworKit_Page .Measure .Stat .Group .Title { font-size: 1.1em; display: block; margin-bottom: 0.3em; margin-left: -0.75em; border-right-style: dotted; border-right-width: 1px; border-bottom-style: dotted; border-bottom-width: 1px; background-color: #D0D0D0; padding-left: 0.2em; } .NetworKit_Page .Measure .Stat .Group .List { -webkit-column-count: 3; -moz-column-count: 3; column-count: 3; } .NetworKit_Page .Measure .Stat .Group .List .Entry { position: relative; line-height: 1.75em; } .NetworKit_Page .Measure .Stat .Group .List .Entry[data-tooltip]:before { position: absolute; left: 0; top: -40px; background-color: #808080; color: #ffffff; height: 30px; line-height: 30px; border-radius: 5px; padding: 0 15px; content: attr(data-tooltip); white-space: nowrap; display: none; } .NetworKit_Page .Measure .Stat .Group .List .Entry[data-tooltip]:after { position: absolute; left: 15px; top: -10px; border-top: 7px solid #808080; border-left: 7px solid transparent; border-right: 7px solid transparent; content: \"\"; display: none; } .NetworKit_Page .Measure .Stat .Group .List .Entry[data-tooltip]:hover:after, .NetworKit_Page .Measure .Stat .Group .List .Entry[data-tooltip]:hover:before { display: block; } .NetworKit_Page .Measure .Stat .Group .List .Entry .MathValue { font-family: \"Courier New\", Courier, monospace; } .NetworKit_Page .Measure:after { content: \".\"; visibility: hidden; display: block; height: 0; clear: both; } .NetworKit_Page .PartitionPie { clear: both; } .NetworKit_Page .PartitionPie img { width: 600px; } #NetworKit_Overlay { left: 0px; top: 0px; display: none; position: absolute; width: 100%; height: 100%; background-color: rgba(0,0,0,0.6); z-index: 1000; } #NetworKit_Overlay_Title { position: absolute; color: white; transform: rotate(-90deg); width: 32em; height: 32em; padding-right: 0.5em; padding-top: 0.5em; text-align: right; font-size: 40px; } #NetworKit_Overlay .button { background: white; cursor: pointer; } #NetworKit_Overlay .button:before { size: 13px; display: inline-block; text-align: center; margin-top: 0.5em; margin-bottom: 0.5em; width: 1.5em; height: 1.5em; } #NetworKit_Overlay .icon-close:before { content: \"X\"; } #NetworKit_Overlay .icon-previous:before { content: \"P\"; } #NetworKit_Overlay .icon-next:before { content: \"N\"; } #NetworKit_Overlay .icon-save:before { content: \"S\"; } #NetworKit_Overlay_Toolbar_Top, #NetworKit_Overlay_Toolbar_Bottom { position: absolute; width: 40px; right: 13px; text-align: right; z-index: 1100; } #NetworKit_Overlay_Toolbar_Top { top: 0.5em; } #NetworKit_Overlay_Toolbar_Bottom { Bottom: 0.5em; } #NetworKit_Overlay_ImageContainer { position: absolute; top: 5%; left: 5%; height: 90%; width: 90%; background-repeat: no-repeat; background-position: center center; background-size: contain; } #NetworKit_Overlay_Image { height: 100%; width: 100%; background-repeat: no-repeat; background-position: center center; background-size: contain; }';\n",
       "\t\t\t\telement.setAttribute('id', 'NetworKit_style');\n",
       "\t\t\t\tdocument.head.appendChild(element);\n",
       "\t\t\t}\n",
       "\t\t\n",
       "\t\t\t\t\n",
       "\t\t\t{\n",
       "\t\t\t\tvar element = document.getElementById('NetworKit_Overlay');\n",
       "\t\t\t\tif (element) {\n",
       "\t\t\t\t\telement.parentNode.removeChild(element);\n",
       "\t\t\t\t}\n",
       "\t\t\t\telement = document.createElement('div');\n",
       "\t\t\t\telement.innerHTML = '<div id=\"NetworKit_Overlay_Toolbar_Top\"><div class=\"button icon-close\" id=\"NetworKit_Overlay_Close\" /></div><div id=\"NetworKit_Overlay_Title\" /> <div id=\"NetworKit_Overlay_ImageContainer\"> <div id=\"NetworKit_Overlay_Image\" /> </div> <div id=\"NetworKit_Overlay_Toolbar_Bottom\"> <div class=\"button icon-previous\" onclick=\"NetworKit_overlayImageShift(-1)\" /> <div class=\"button icon-next\" onclick=\"NetworKit_overlayImageShift(1)\" /> <a id=\"NetworKit_Overlay_Toolbar_Bottom_Save\"><div class=\"button icon-save\" /></a> </div>';\n",
       "\t\t\t\telement.setAttribute('id', 'NetworKit_Overlay');\n",
       "\t\t\t\tdocument.body.appendChild(element);\n",
       "\t\t\t\tdocument.getElementById('NetworKit_Overlay_Close').onclick = function (e) {\n",
       "\t\t\t\t\tdocument.getElementById('NetworKit_Overlay').style.display = 'none';\n",
       "\t\t\t\t}\n",
       "\t\t\t}\n",
       "\t\t\n",
       "\t\t\t-->\n",
       "\t\t\t</script>\n",
       "\t\t"
      ]
     },
     "metadata": {},
     "output_type": "display_data"
    }
   ],
   "source": [
    "import networkit as nk\n",
    "\n",
    "g_fn = 'input_data/DD_g789'\n",
    "with open(g_fn) as file:\n",
    "    lines = list(map(lambda x: x[:-1].split(' '), file.readlines()))\n",
    "    lines = [list(map(int, y)) for y in lines]\n",
    "\n",
    "n, m = lines[0]\n",
    "g = nk.Graph(n)\n",
    "for _, u, v in lines[1:]:\n",
    "    _ = g.addEdge(u, v)\n",
    "\n",
    "def nhbs(u):\n",
    "    return set(g.iterNeighbors(u))"
   ]
  },
  {
   "cell_type": "code",
   "execution_count": 22,
   "metadata": {},
   "outputs": [
    {
     "data": {
      "text/plain": [
       "{6, 20, 30}"
      ]
     },
     "execution_count": 22,
     "metadata": {},
     "output_type": "execute_result"
    }
   ],
   "source": [
    "nhbs(22)"
   ]
  },
  {
   "cell_type": "code",
   "execution_count": 23,
   "metadata": {},
   "outputs": [
    {
     "data": {
      "text/plain": [
       "{20, 22, 23, 28}"
      ]
     },
     "execution_count": 23,
     "metadata": {},
     "output_type": "execute_result"
    }
   ],
   "source": [
    "nhbs(30)"
   ]
  },
  {
   "cell_type": "code",
   "execution_count": 44,
   "metadata": {},
   "outputs": [],
   "source": [
    "import networkit as nk\n",
    "\n",
    "g_fn = 'input_data/GD95_a'\n",
    "with open(g_fn) as file:\n",
    "    lines = list(map(lambda x: x[:-1].split(' '), file.readlines()))\n",
    "    lines = [list(map(int, y)) for y in lines]\n",
    "\n",
    "n, m = lines[0]\n",
    "g = nk.Graph(n)\n",
    "for _, u, v in lines[1:]:\n",
    "    _ = g.addEdge(u, v)\n",
    "\n",
    "def nhbs(u):\n",
    "    return set(g.iterNeighbors(u))"
   ]
  },
  {
   "cell_type": "code",
   "execution_count": 46,
   "metadata": {},
   "outputs": [
    {
     "data": {
      "text/plain": [
       "{10, 18, 26, 27, 28, 29}"
      ]
     },
     "execution_count": 46,
     "metadata": {},
     "output_type": "execute_result"
    }
   ],
   "source": [
    "nhbs(12)"
   ]
  },
  {
   "cell_type": "code",
   "execution_count": 47,
   "metadata": {},
   "outputs": [
    {
     "data": {
      "text/plain": [
       "{11, 12, 29, 32}"
      ]
     },
     "execution_count": 47,
     "metadata": {},
     "output_type": "execute_result"
    }
   ],
   "source": [
    "nhbs(27)"
   ]
  },
  {
   "cell_type": "markdown",
   "metadata": {},
   "source": [
    "## Ok let's look again at dists"
   ]
  },
  {
   "cell_type": "code",
   "execution_count": 56,
   "metadata": {},
   "outputs": [
    {
     "data": {
      "text/plain": [
       "(2015725, 10)"
      ]
     },
     "execution_count": 56,
     "metadata": {},
     "output_type": "execute_result"
    }
   ],
   "source": [
    "df.shape"
   ]
  },
  {
   "cell_type": "code",
   "execution_count": 57,
   "metadata": {},
   "outputs": [
    {
     "data": {
      "text/plain": [
       "array(['08blocks', '1138_bus', '130bit', ..., 'webkb-wisc', 'wing',\n",
       "       'wing_nodal'], dtype=object)"
      ]
     },
     "execution_count": 57,
     "metadata": {},
     "output_type": "execute_result"
    }
   ],
   "source": [
    "df.graph.unique()"
   ]
  },
  {
   "cell_type": "code",
   "execution_count": 64,
   "metadata": {},
   "outputs": [
    {
     "data": {
      "text/plain": [
       "4032"
      ]
     },
     "execution_count": 64,
     "metadata": {},
     "output_type": "execute_result"
    }
   ],
   "source": [
    "len(df.graph.unique())"
   ]
  },
  {
   "cell_type": "code",
   "execution_count": 65,
   "metadata": {},
   "outputs": [],
   "source": [
    "# For graph of m edges, let m_search_space be the number of things searched.\n",
    "# In bfs_node this is simply the number of nodes added to the queue.\n",
    "# we find x s.t. m^x = m_search_space\n",
    "\n",
    "df['exponent'] = df.apply(lambda row: math.log(row['search_space'], row['m']), axis=1)"
   ]
  },
  {
   "cell_type": "code",
   "execution_count": 66,
   "metadata": {},
   "outputs": [
    {
     "data": {
      "text/html": [
       "<div>\n",
       "<style scoped>\n",
       "    .dataframe tbody tr th:only-of-type {\n",
       "        vertical-align: middle;\n",
       "    }\n",
       "\n",
       "    .dataframe tbody tr th {\n",
       "        vertical-align: top;\n",
       "    }\n",
       "\n",
       "    .dataframe thead th {\n",
       "        text-align: right;\n",
       "    }\n",
       "</style>\n",
       "<table border=\"1\" class=\"dataframe\">\n",
       "  <thead>\n",
       "    <tr style=\"text-align: right;\">\n",
       "      <th></th>\n",
       "      <th>graph</th>\n",
       "      <th>algo</th>\n",
       "      <th>seed</th>\n",
       "      <th>s</th>\n",
       "      <th>t</th>\n",
       "      <th>dist</th>\n",
       "      <th>time_dist</th>\n",
       "      <th>search_space</th>\n",
       "      <th>n</th>\n",
       "      <th>m</th>\n",
       "      <th>exponent</th>\n",
       "    </tr>\n",
       "  </thead>\n",
       "  <tbody>\n",
       "    <tr>\n",
       "      <th>0</th>\n",
       "      <td>08blocks</td>\n",
       "      <td>bfs</td>\n",
       "      <td>3404785993</td>\n",
       "      <td>4</td>\n",
       "      <td>23</td>\n",
       "      <td>2</td>\n",
       "      <td>0.001673</td>\n",
       "      <td>40</td>\n",
       "      <td>38</td>\n",
       "      <td>73</td>\n",
       "      <td>0.859787</td>\n",
       "    </tr>\n",
       "    <tr>\n",
       "      <th>1</th>\n",
       "      <td>08blocks</td>\n",
       "      <td>bfs</td>\n",
       "      <td>3404785993</td>\n",
       "      <td>9</td>\n",
       "      <td>32</td>\n",
       "      <td>2</td>\n",
       "      <td>0.000752</td>\n",
       "      <td>40</td>\n",
       "      <td>38</td>\n",
       "      <td>73</td>\n",
       "      <td>0.859787</td>\n",
       "    </tr>\n",
       "    <tr>\n",
       "      <th>2</th>\n",
       "      <td>08blocks</td>\n",
       "      <td>bfs</td>\n",
       "      <td>3404785993</td>\n",
       "      <td>17</td>\n",
       "      <td>24</td>\n",
       "      <td>2</td>\n",
       "      <td>0.000642</td>\n",
       "      <td>40</td>\n",
       "      <td>38</td>\n",
       "      <td>73</td>\n",
       "      <td>0.859787</td>\n",
       "    </tr>\n",
       "    <tr>\n",
       "      <th>3</th>\n",
       "      <td>08blocks</td>\n",
       "      <td>bfs</td>\n",
       "      <td>3404785993</td>\n",
       "      <td>12</td>\n",
       "      <td>5</td>\n",
       "      <td>2</td>\n",
       "      <td>0.000681</td>\n",
       "      <td>40</td>\n",
       "      <td>38</td>\n",
       "      <td>73</td>\n",
       "      <td>0.859787</td>\n",
       "    </tr>\n",
       "    <tr>\n",
       "      <th>4</th>\n",
       "      <td>08blocks</td>\n",
       "      <td>bfs</td>\n",
       "      <td>3404785993</td>\n",
       "      <td>26</td>\n",
       "      <td>32</td>\n",
       "      <td>2</td>\n",
       "      <td>0.000621</td>\n",
       "      <td>40</td>\n",
       "      <td>38</td>\n",
       "      <td>73</td>\n",
       "      <td>0.859787</td>\n",
       "    </tr>\n",
       "    <tr>\n",
       "      <th>...</th>\n",
       "      <td>...</td>\n",
       "      <td>...</td>\n",
       "      <td>...</td>\n",
       "      <td>...</td>\n",
       "      <td>...</td>\n",
       "      <td>...</td>\n",
       "      <td>...</td>\n",
       "      <td>...</td>\n",
       "      <td>...</td>\n",
       "      <td>...</td>\n",
       "      <td>...</td>\n",
       "    </tr>\n",
       "    <tr>\n",
       "      <th>2015720</th>\n",
       "      <td>wing_nodal</td>\n",
       "      <td>bfs_bi_node_exact</td>\n",
       "      <td>3404785993</td>\n",
       "      <td>2870</td>\n",
       "      <td>8809</td>\n",
       "      <td>12</td>\n",
       "      <td>0.125488</td>\n",
       "      <td>21765</td>\n",
       "      <td>10937</td>\n",
       "      <td>75488</td>\n",
       "      <td>0.889272</td>\n",
       "    </tr>\n",
       "    <tr>\n",
       "      <th>2015721</th>\n",
       "      <td>wing_nodal</td>\n",
       "      <td>bfs_bi_node_exact</td>\n",
       "      <td>3404785993</td>\n",
       "      <td>9061</td>\n",
       "      <td>5268</td>\n",
       "      <td>13</td>\n",
       "      <td>0.123735</td>\n",
       "      <td>24879</td>\n",
       "      <td>10937</td>\n",
       "      <td>75488</td>\n",
       "      <td>0.901177</td>\n",
       "    </tr>\n",
       "    <tr>\n",
       "      <th>2015722</th>\n",
       "      <td>wing_nodal</td>\n",
       "      <td>bfs_bi_node_exact</td>\n",
       "      <td>3404785993</td>\n",
       "      <td>2090</td>\n",
       "      <td>10140</td>\n",
       "      <td>13</td>\n",
       "      <td>0.096102</td>\n",
       "      <td>17910</td>\n",
       "      <td>10937</td>\n",
       "      <td>75488</td>\n",
       "      <td>0.871915</td>\n",
       "    </tr>\n",
       "    <tr>\n",
       "      <th>2015723</th>\n",
       "      <td>wing_nodal</td>\n",
       "      <td>bfs_bi_node_exact</td>\n",
       "      <td>3404785993</td>\n",
       "      <td>3095</td>\n",
       "      <td>9533</td>\n",
       "      <td>10</td>\n",
       "      <td>0.062058</td>\n",
       "      <td>11509</td>\n",
       "      <td>10937</td>\n",
       "      <td>75488</td>\n",
       "      <td>0.832542</td>\n",
       "    </tr>\n",
       "    <tr>\n",
       "      <th>2015724</th>\n",
       "      <td>wing_nodal</td>\n",
       "      <td>bfs_bi_node_exact</td>\n",
       "      <td>3404785993</td>\n",
       "      <td>7537</td>\n",
       "      <td>2580</td>\n",
       "      <td>13</td>\n",
       "      <td>0.127642</td>\n",
       "      <td>23783</td>\n",
       "      <td>10937</td>\n",
       "      <td>75488</td>\n",
       "      <td>0.897166</td>\n",
       "    </tr>\n",
       "  </tbody>\n",
       "</table>\n",
       "<p>2015725 rows × 11 columns</p>\n",
       "</div>"
      ],
      "text/plain": [
       "              graph               algo        seed     s      t  dist  \\\n",
       "0          08blocks                bfs  3404785993     4     23     2   \n",
       "1          08blocks                bfs  3404785993     9     32     2   \n",
       "2          08blocks                bfs  3404785993    17     24     2   \n",
       "3          08blocks                bfs  3404785993    12      5     2   \n",
       "4          08blocks                bfs  3404785993    26     32     2   \n",
       "...             ...                ...         ...   ...    ...   ...   \n",
       "2015720  wing_nodal  bfs_bi_node_exact  3404785993  2870   8809    12   \n",
       "2015721  wing_nodal  bfs_bi_node_exact  3404785993  9061   5268    13   \n",
       "2015722  wing_nodal  bfs_bi_node_exact  3404785993  2090  10140    13   \n",
       "2015723  wing_nodal  bfs_bi_node_exact  3404785993  3095   9533    10   \n",
       "2015724  wing_nodal  bfs_bi_node_exact  3404785993  7537   2580    13   \n",
       "\n",
       "         time_dist  search_space      n      m  exponent  \n",
       "0         0.001673            40     38     73  0.859787  \n",
       "1         0.000752            40     38     73  0.859787  \n",
       "2         0.000642            40     38     73  0.859787  \n",
       "3         0.000681            40     38     73  0.859787  \n",
       "4         0.000621            40     38     73  0.859787  \n",
       "...            ...           ...    ...    ...       ...  \n",
       "2015720   0.125488         21765  10937  75488  0.889272  \n",
       "2015721   0.123735         24879  10937  75488  0.901177  \n",
       "2015722   0.096102         17910  10937  75488  0.871915  \n",
       "2015723   0.062058         11509  10937  75488  0.832542  \n",
       "2015724   0.127642         23783  10937  75488  0.897166  \n",
       "\n",
       "[2015725 rows x 11 columns]"
      ]
     },
     "execution_count": 66,
     "metadata": {},
     "output_type": "execute_result"
    }
   ],
   "source": [
    "df"
   ]
  },
  {
   "cell_type": "code",
   "execution_count": 61,
   "metadata": {},
   "outputs": [
    {
     "data": {
      "text/html": [
       "<div>\n",
       "<style scoped>\n",
       "    .dataframe tbody tr th:only-of-type {\n",
       "        vertical-align: middle;\n",
       "    }\n",
       "\n",
       "    .dataframe tbody tr th {\n",
       "        vertical-align: top;\n",
       "    }\n",
       "\n",
       "    .dataframe thead th {\n",
       "        text-align: right;\n",
       "    }\n",
       "</style>\n",
       "<table border=\"1\" class=\"dataframe\">\n",
       "  <thead>\n",
       "    <tr style=\"text-align: right;\">\n",
       "      <th></th>\n",
       "      <th>count</th>\n",
       "      <th>mean</th>\n",
       "      <th>std</th>\n",
       "      <th>min</th>\n",
       "      <th>25%</th>\n",
       "      <th>50%</th>\n",
       "      <th>75%</th>\n",
       "      <th>max</th>\n",
       "    </tr>\n",
       "    <tr>\n",
       "      <th>graph</th>\n",
       "      <th></th>\n",
       "      <th></th>\n",
       "      <th></th>\n",
       "      <th></th>\n",
       "      <th></th>\n",
       "      <th></th>\n",
       "      <th></th>\n",
       "      <th></th>\n",
       "    </tr>\n",
       "  </thead>\n",
       "  <tbody>\n",
       "    <tr>\n",
       "      <th>08blocks</th>\n",
       "      <td>100.0</td>\n",
       "      <td>0.804734</td>\n",
       "      <td>0.173443</td>\n",
       "      <td>0.256059</td>\n",
       "      <td>0.859787</td>\n",
       "      <td>0.859787</td>\n",
       "      <td>0.859787</td>\n",
       "      <td>0.859787</td>\n",
       "    </tr>\n",
       "    <tr>\n",
       "      <th>1138_bus</th>\n",
       "      <td>100.0</td>\n",
       "      <td>0.942097</td>\n",
       "      <td>0.128603</td>\n",
       "      <td>0.575121</td>\n",
       "      <td>0.881669</td>\n",
       "      <td>0.980231</td>\n",
       "      <td>1.040054</td>\n",
       "      <td>1.094252</td>\n",
       "    </tr>\n",
       "    <tr>\n",
       "      <th>130bit</th>\n",
       "      <td>100.0</td>\n",
       "      <td>0.705648</td>\n",
       "      <td>0.115526</td>\n",
       "      <td>0.294513</td>\n",
       "      <td>0.665078</td>\n",
       "      <td>0.699985</td>\n",
       "      <td>0.765403</td>\n",
       "      <td>0.948338</td>\n",
       "    </tr>\n",
       "    <tr>\n",
       "      <th>145bit</th>\n",
       "      <td>100.0</td>\n",
       "      <td>0.704932</td>\n",
       "      <td>0.114904</td>\n",
       "      <td>0.274967</td>\n",
       "      <td>0.671447</td>\n",
       "      <td>0.709393</td>\n",
       "      <td>0.775489</td>\n",
       "      <td>0.910255</td>\n",
       "    </tr>\n",
       "    <tr>\n",
       "      <th>162bit</th>\n",
       "      <td>100.0</td>\n",
       "      <td>0.765783</td>\n",
       "      <td>0.068884</td>\n",
       "      <td>0.561318</td>\n",
       "      <td>0.714608</td>\n",
       "      <td>0.759536</td>\n",
       "      <td>0.808742</td>\n",
       "      <td>0.947935</td>\n",
       "    </tr>\n",
       "    <tr>\n",
       "      <th>...</th>\n",
       "      <td>...</td>\n",
       "      <td>...</td>\n",
       "      <td>...</td>\n",
       "      <td>...</td>\n",
       "      <td>...</td>\n",
       "      <td>...</td>\n",
       "      <td>...</td>\n",
       "      <td>...</td>\n",
       "    </tr>\n",
       "    <tr>\n",
       "      <th>web-spam-detection</th>\n",
       "      <td>100.0</td>\n",
       "      <td>0.739578</td>\n",
       "      <td>0.131266</td>\n",
       "      <td>0.522451</td>\n",
       "      <td>0.634274</td>\n",
       "      <td>0.695543</td>\n",
       "      <td>0.834113</td>\n",
       "      <td>1.040366</td>\n",
       "    </tr>\n",
       "    <tr>\n",
       "      <th>web-webbase-2001</th>\n",
       "      <td>100.0</td>\n",
       "      <td>0.976296</td>\n",
       "      <td>0.082934</td>\n",
       "      <td>0.701914</td>\n",
       "      <td>0.924217</td>\n",
       "      <td>1.013443</td>\n",
       "      <td>1.036988</td>\n",
       "      <td>1.068120</td>\n",
       "    </tr>\n",
       "    <tr>\n",
       "      <th>webkb-wisc</th>\n",
       "      <td>100.0</td>\n",
       "      <td>0.875247</td>\n",
       "      <td>0.143072</td>\n",
       "      <td>0.263443</td>\n",
       "      <td>0.796749</td>\n",
       "      <td>0.845679</td>\n",
       "      <td>0.971709</td>\n",
       "      <td>1.104871</td>\n",
       "    </tr>\n",
       "    <tr>\n",
       "      <th>wing</th>\n",
       "      <td>100.0</td>\n",
       "      <td>0.974160</td>\n",
       "      <td>0.088779</td>\n",
       "      <td>0.518313</td>\n",
       "      <td>0.946554</td>\n",
       "      <td>1.003067</td>\n",
       "      <td>1.032232</td>\n",
       "      <td>1.056315</td>\n",
       "    </tr>\n",
       "    <tr>\n",
       "      <th>wing_nodal</th>\n",
       "      <td>100.0</td>\n",
       "      <td>0.950454</td>\n",
       "      <td>0.115643</td>\n",
       "      <td>0.417687</td>\n",
       "      <td>0.927075</td>\n",
       "      <td>0.985030</td>\n",
       "      <td>1.023189</td>\n",
       "      <td>1.058282</td>\n",
       "    </tr>\n",
       "  </tbody>\n",
       "</table>\n",
       "<p>4032 rows × 8 columns</p>\n",
       "</div>"
      ],
      "text/plain": [
       "                    count      mean       std       min       25%       50%  \\\n",
       "graph                                                                         \n",
       "08blocks            100.0  0.804734  0.173443  0.256059  0.859787  0.859787   \n",
       "1138_bus            100.0  0.942097  0.128603  0.575121  0.881669  0.980231   \n",
       "130bit              100.0  0.705648  0.115526  0.294513  0.665078  0.699985   \n",
       "145bit              100.0  0.704932  0.114904  0.274967  0.671447  0.709393   \n",
       "162bit              100.0  0.765783  0.068884  0.561318  0.714608  0.759536   \n",
       "...                   ...       ...       ...       ...       ...       ...   \n",
       "web-spam-detection  100.0  0.739578  0.131266  0.522451  0.634274  0.695543   \n",
       "web-webbase-2001    100.0  0.976296  0.082934  0.701914  0.924217  1.013443   \n",
       "webkb-wisc          100.0  0.875247  0.143072  0.263443  0.796749  0.845679   \n",
       "wing                100.0  0.974160  0.088779  0.518313  0.946554  1.003067   \n",
       "wing_nodal          100.0  0.950454  0.115643  0.417687  0.927075  0.985030   \n",
       "\n",
       "                         75%       max  \n",
       "graph                                   \n",
       "08blocks            0.859787  0.859787  \n",
       "1138_bus            1.040054  1.094252  \n",
       "130bit              0.765403  0.948338  \n",
       "145bit              0.775489  0.910255  \n",
       "162bit              0.808742  0.947935  \n",
       "...                      ...       ...  \n",
       "web-spam-detection  0.834113  1.040366  \n",
       "web-webbase-2001    1.036988  1.068120  \n",
       "webkb-wisc          0.971709  1.104871  \n",
       "wing                1.032232  1.056315  \n",
       "wing_nodal          1.023189  1.058282  \n",
       "\n",
       "[4032 rows x 8 columns]"
      ]
     },
     "execution_count": 61,
     "metadata": {},
     "output_type": "execute_result"
    }
   ],
   "source": [
    "df.loc[df.algo == 'bfs'].groupby('graph').exponent.describe()"
   ]
  },
  {
   "cell_type": "code",
   "execution_count": 62,
   "metadata": {},
   "outputs": [],
   "source": [
    "import seaborn as sns"
   ]
  },
  {
   "cell_type": "code",
   "execution_count": 67,
   "metadata": {},
   "outputs": [
    {
     "data": {
      "text/plain": [
       "['girg_n=50000_deg=10_dim=2_ple=2.1_T=0.0_seed=321',\n",
       " 'girg_n=50000_deg=10_dim=2_ple=2.1_T=0.0_seed=321_square',\n",
       " 'girg_n=50000_deg=10_dim=2_ple=2.1_T=0.0_seed=356',\n",
       " 'girg_n=50000_deg=10_dim=2_ple=2.1_T=0.0_seed=356_square',\n",
       " 'girg_n=50000_deg=10_dim=2_ple=2.1_T=0.0_seed=489',\n",
       " 'girg_n=50000_deg=10_dim=2_ple=2.1_T=0.0_seed=489_square',\n",
       " 'girg_n=50000_deg=10_dim=2_ple=2.1_T=0.0_seed=64',\n",
       " 'girg_n=50000_deg=10_dim=2_ple=2.1_T=0.0_seed=64_square',\n",
       " 'girg_n=50000_deg=10_dim=2_ple=2.1_T=0.0_seed=836',\n",
       " 'girg_n=50000_deg=10_dim=2_ple=2.1_T=0.0_seed=836_square']"
      ]
     },
     "execution_count": 67,
     "metadata": {},
     "output_type": "execute_result"
    },
    {
     "data": {
      "text/plain": [
       "['cl_n=50000_deg=10_ple=2.1_seed=321',\n",
       " 'cl_n=50000_deg=10_ple=2.1_seed=356',\n",
       " 'cl_n=50000_deg=10_ple=2.1_seed=489',\n",
       " 'cl_n=50000_deg=10_ple=2.1_seed=64',\n",
       " 'cl_n=50000_deg=10_ple=2.1_seed=836',\n",
       " 'cl_n=50000_deg=10_ple=2.25_seed=321',\n",
       " 'cl_n=50000_deg=10_ple=2.25_seed=356',\n",
       " 'cl_n=50000_deg=10_ple=2.25_seed=489',\n",
       " 'cl_n=50000_deg=10_ple=2.25_seed=64',\n",
       " 'cl_n=50000_deg=10_ple=2.25_seed=836']"
      ]
     },
     "execution_count": 67,
     "metadata": {},
     "output_type": "execute_result"
    },
    {
     "data": {
      "text/plain": [
       "['er_n=50000_m=250000_seed=321',\n",
       " 'er_n=50000_m=250000_seed=356',\n",
       " 'er_n=50000_m=250000_seed=489',\n",
       " 'er_n=50000_m=250000_seed=64',\n",
       " 'er_n=50000_m=250000_seed=836']"
      ]
     },
     "execution_count": 67,
     "metadata": {},
     "output_type": "execute_result"
    }
   ],
   "source": [
    "graphs = df.graph.unique()\n",
    "girgs = [g for g in graphs if 'girg' in g]\n",
    "girgs[:10]\n",
    "\n",
    "chunglus = [g for g in graphs if 'cl_n' in g]\n",
    "chunglus[:10]\n",
    "\n",
    "ers = [g for g in graphs if 'er_n' in g]\n",
    "ers[:10]\n",
    "\n",
    "real_graphs = set(graphs) - set(girgs) - set(chunglus) - set(ers)"
   ]
  },
  {
   "cell_type": "code",
   "execution_count": 68,
   "metadata": {},
   "outputs": [],
   "source": [
    "foo = df.graph.unique()[:5]"
   ]
  },
  {
   "cell_type": "code",
   "execution_count": 69,
   "metadata": {},
   "outputs": [
    {
     "data": {
      "text/plain": [
       "<AxesSubplot:xlabel='graph', ylabel='exponent'>"
      ]
     },
     "execution_count": 69,
     "metadata": {},
     "output_type": "execute_result"
    },
    {
     "data": {
      "image/png": "[encoded data removed]",
      "text/plain": [
       "<Figure size 640x480 with 1 Axes>"
      ]
     },
     "metadata": {},
     "output_type": "display_data"
    }
   ],
   "source": [
    "sns.boxplot(data=df.loc[(df.algo == 'bfs') & (df.graph.isin(foo))], x='graph', y='exponent')"
   ]
  },
  {
   "cell_type": "code",
   "execution_count": 70,
   "metadata": {},
   "outputs": [
    {
     "data": {
      "text/plain": [
       "<Figure size 1000x600 with 0 Axes>"
      ]
     },
     "execution_count": 70,
     "metadata": {},
     "output_type": "execute_result"
    },
    {
     "data": {
      "text/plain": [
       "<AxesSubplot:xlabel='algo', ylabel='exponent'>"
      ]
     },
     "execution_count": 70,
     "metadata": {},
     "output_type": "execute_result"
    },
    {
     "data": {
      "image/png": "[encoded data removed]",
      "text/plain": [
       "<Figure size 1000x600 with 1 Axes>"
      ]
     },
     "metadata": {},
     "output_type": "display_data"
    }
   ],
   "source": [
    "plt.figure(figsize=(10, 6))\n",
    "sns.boxplot(data=df.loc[(df.graph == '130bit')], x='algo', y='exponent')"
   ]
  },
  {
   "cell_type": "code",
   "execution_count": 71,
   "metadata": {},
   "outputs": [
    {
     "data": {
      "text/plain": [
       "<Figure size 1000x600 with 0 Axes>"
      ]
     },
     "execution_count": 71,
     "metadata": {},
     "output_type": "execute_result"
    },
    {
     "data": {
      "text/plain": [
       "<AxesSubplot:xlabel='algo', ylabel='exponent'>"
      ]
     },
     "execution_count": 71,
     "metadata": {},
     "output_type": "execute_result"
    },
    {
     "data": {
      "image/png": "[encoded data removed]",
      "text/plain": [
       "<Figure size 1000x600 with 1 Axes>"
      ]
     },
     "metadata": {},
     "output_type": "display_data"
    }
   ],
   "source": [
    "plt.figure(figsize=(10, 6))\n",
    "sns.boxplot(data=df.loc[(df.graph == 'girg_n=50000_deg=10_dim=2_ple=2.1_T=0.0_seed=321')], x='algo', y='exponent')"
   ]
  },
  {
   "cell_type": "code",
   "execution_count": 72,
   "metadata": {},
   "outputs": [
    {
     "data": {
      "text/plain": [
       "<AxesSubplot:xlabel='algo', ylabel='exponent'>"
      ]
     },
     "execution_count": 72,
     "metadata": {},
     "output_type": "execute_result"
    },
    {
     "data": {
      "image/png": "[encoded data removed]",
      "text/plain": [
       "<Figure size 640x480 with 1 Axes>"
      ]
     },
     "metadata": {},
     "output_type": "display_data"
    }
   ],
   "source": [
    "sns.boxplot(data=df.loc[(df.graph == 'girg_n=50000_deg=10_dim=2_ple=5.1_T=0.9999_seed=321')], x='algo', y='exponent')"
   ]
  },
  {
   "cell_type": "code",
   "execution_count": 73,
   "metadata": {
    "scrolled": true
   },
   "outputs": [
    {
     "data": {
      "text/plain": [
       "graph       algo              \n",
       "08blocks    bfs                   0.859787\n",
       "            bfs_bi_always_swap    0.323111\n",
       "            bfs_bi_balanced       0.323111\n",
       "            bfs_bi_node           0.323111\n",
       "            bfs_bi_node_exact     0.417615\n",
       "                                    ...   \n",
       "wing_nodal  bfs                   0.985030\n",
       "            bfs_bi_always_swap    0.870629\n",
       "            bfs_bi_balanced       0.861929\n",
       "            bfs_bi_node           0.859601\n",
       "            bfs_bi_node_exact     0.865791\n",
       "Name: exponent, Length: 20160, dtype: float64"
      ]
     },
     "execution_count": 73,
     "metadata": {},
     "output_type": "execute_result"
    }
   ],
   "source": [
    "med_exps = df.groupby(['graph', 'algo']).exponent.median()\n",
    "med_exps"
   ]
  },
  {
   "cell_type": "code",
   "execution_count": 74,
   "metadata": {},
   "outputs": [
    {
     "data": {
      "image/png": "[encoded data removed]",
      "text/plain": [
       "<Figure size 640x480 with 1 Axes>"
      ]
     },
     "metadata": {},
     "output_type": "display_data"
    }
   ],
   "source": [
    "_ = sns.kdeplot(med_exps[:, 'bfs_bi_always_swap'] - med_exps[:, 'bfs_bi_balanced'], label='always swap')\n",
    "_ = sns.kdeplot(med_exps[:, 'bfs_bi_node'] - med_exps[:, 'bfs_bi_balanced'], label='node')\n",
    "_ = sns.kdeplot(med_exps[:, 'bfs_bi_node_exact'] - med_exps[:, 'bfs_bi_balanced'], label='node exact')\n",
    "_ = plt.legend()\n",
    "_ = plt.axvline(0, color='r', linestyle='--')\n",
    "_ = plt.xlim(-0.1, 0.3)  # NB CUTTING OFF\n",
    "_ = plt.xlabel('median_exponent{$} - median_exponent{bfs_bi_balanced}')\n",
    "_ = plt.title('median exponent for each graph, normalised against bi balanced algo')"
   ]
  },
  {
   "cell_type": "code",
   "execution_count": 75,
   "metadata": {},
   "outputs": [
    {
     "data": {
      "text/plain": [
       "graph       algo              \n",
       "08blocks    bfs                   0.859787\n",
       "            bfs_bi_always_swap    0.323111\n",
       "            bfs_bi_balanced       0.323111\n",
       "            bfs_bi_node           0.323111\n",
       "            bfs_bi_node_exact     0.417615\n",
       "                                    ...   \n",
       "wing_nodal  bfs                   0.985030\n",
       "            bfs_bi_always_swap    0.870629\n",
       "            bfs_bi_balanced       0.861929\n",
       "            bfs_bi_node           0.859601\n",
       "            bfs_bi_node_exact     0.865791\n",
       "Name: exponent, Length: 20160, dtype: float64"
      ]
     },
     "execution_count": 75,
     "metadata": {},
     "output_type": "execute_result"
    }
   ],
   "source": [
    "df.groupby(['graph', 'algo']).exponent.median()"
   ]
  },
  {
   "cell_type": "code",
   "execution_count": 76,
   "metadata": {},
   "outputs": [],
   "source": [
    "med_exp_real = df.loc[df.graph.isin(real_graphs)].groupby(['graph', 'algo']).exponent.median()"
   ]
  },
  {
   "cell_type": "code",
   "execution_count": 77,
   "metadata": {},
   "outputs": [
    {
     "name": "stdout",
     "output_type": "stream",
     "text": [
      "Mean of (median exponent over 100 pairs) over graphs:\n",
      "GIRGs\n",
      "bfs: 0.912\n",
      "bfs_bi_balanced: 0.498\n",
      "bfs_bi_always_swap: 0.537\n",
      "bfs_bi_node: 0.480\n",
      "bfs_bi_node_exact: 0.588\n",
      "\n",
      "Real networks\n",
      "bfs: 0.918\n",
      "bfs_bi_balanced: 0.691\n",
      "bfs_bi_always_swap: 0.716\n",
      "bfs_bi_node: 0.684\n",
      "bfs_bi_node_exact: 0.735\n"
     ]
    },
    {
     "name": "stderr",
     "output_type": "stream",
     "text": [
      "/var/folders/60/0t2c_bns6n3c7kjhdk4d4wk80000gn/T/ipykernel_9903/2165140417.py:9: FutureWarning: Passing a set as an indexer is deprecated and will raise in a future version. Use a list instead.\n",
      "  print(f\"{algo}: {med_exps[real_graphs][:, algo].mean():.3f}\")\n",
      "/var/folders/60/0t2c_bns6n3c7kjhdk4d4wk80000gn/T/ipykernel_9903/2165140417.py:9: FutureWarning: Passing a set as an indexer is deprecated and will raise in a future version. Use a list instead.\n",
      "  print(f\"{algo}: {med_exps[real_graphs][:, algo].mean():.3f}\")\n",
      "/var/folders/60/0t2c_bns6n3c7kjhdk4d4wk80000gn/T/ipykernel_9903/2165140417.py:9: FutureWarning: Passing a set as an indexer is deprecated and will raise in a future version. Use a list instead.\n",
      "  print(f\"{algo}: {med_exps[real_graphs][:, algo].mean():.3f}\")\n",
      "/var/folders/60/0t2c_bns6n3c7kjhdk4d4wk80000gn/T/ipykernel_9903/2165140417.py:9: FutureWarning: Passing a set as an indexer is deprecated and will raise in a future version. Use a list instead.\n",
      "  print(f\"{algo}: {med_exps[real_graphs][:, algo].mean():.3f}\")\n",
      "/var/folders/60/0t2c_bns6n3c7kjhdk4d4wk80000gn/T/ipykernel_9903/2165140417.py:9: FutureWarning: Passing a set as an indexer is deprecated and will raise in a future version. Use a list instead.\n",
      "  print(f\"{algo}: {med_exps[real_graphs][:, algo].mean():.3f}\")\n"
     ]
    }
   ],
   "source": [
    "print('Mean of (median exponent over 100 pairs) over graphs:')\n",
    "print('GIRGs')\n",
    "for algo in df.algo.unique():\n",
    "    print(f\"{algo}: {med_exps[girgs][:, algo].mean():.3f}\")\n",
    "\n",
    "print()\n",
    "print('Real networks')\n",
    "for algo in df.algo.unique():\n",
    "    print(f\"{algo}: {med_exps[real_graphs][:, algo].mean():.3f}\")\n",
    "\n"
   ]
  },
  {
   "cell_type": "code",
   "execution_count": 118,
   "metadata": {
    "scrolled": false
   },
   "outputs": [
    {
     "name": "stdout",
     "output_type": "stream",
     "text": [
      "Mean of (median exponent over 100 pairs) over graphs:\n",
      "GIRGs\n",
      "bfs: 0.912\n",
      "bfs_bi_balanced: 0.498\n",
      "bfs_bi_always_swap: 0.537\n",
      "bfs_bi_node: 0.480\n",
      "bfs_bi_node_exact: 0.588\n",
      "\n",
      "Real networks\n",
      "bfs: 0.918\n",
      "bfs_bi_balanced: 0.691\n",
      "bfs_bi_always_swap: 0.716\n",
      "bfs_bi_node: 0.684\n",
      "bfs_bi_node_exact: 0.735\n"
     ]
    },
    {
     "name": "stderr",
     "output_type": "stream",
     "text": [
      "/var/folders/60/0t2c_bns6n3c7kjhdk4d4wk80000gn/T/ipykernel_26630/2165140417.py:9: FutureWarning: Passing a set as an indexer is deprecated and will raise in a future version. Use a list instead.\n",
      "  print(f\"{algo}: {med_exps[real_graphs][:, algo].mean():.3f}\")\n",
      "/var/folders/60/0t2c_bns6n3c7kjhdk4d4wk80000gn/T/ipykernel_26630/2165140417.py:9: FutureWarning: Passing a set as an indexer is deprecated and will raise in a future version. Use a list instead.\n",
      "  print(f\"{algo}: {med_exps[real_graphs][:, algo].mean():.3f}\")\n",
      "/var/folders/60/0t2c_bns6n3c7kjhdk4d4wk80000gn/T/ipykernel_26630/2165140417.py:9: FutureWarning: Passing a set as an indexer is deprecated and will raise in a future version. Use a list instead.\n",
      "  print(f\"{algo}: {med_exps[real_graphs][:, algo].mean():.3f}\")\n",
      "/var/folders/60/0t2c_bns6n3c7kjhdk4d4wk80000gn/T/ipykernel_26630/2165140417.py:9: FutureWarning: Passing a set as an indexer is deprecated and will raise in a future version. Use a list instead.\n",
      "  print(f\"{algo}: {med_exps[real_graphs][:, algo].mean():.3f}\")\n",
      "/var/folders/60/0t2c_bns6n3c7kjhdk4d4wk80000gn/T/ipykernel_26630/2165140417.py:9: FutureWarning: Passing a set as an indexer is deprecated and will raise in a future version. Use a list instead.\n",
      "  print(f\"{algo}: {med_exps[real_graphs][:, algo].mean():.3f}\")\n"
     ]
    }
   ],
   "source": [
    "print('Mean of (median exponent over 100 pairs) over graphs:')\n",
    "print('GIRGs')\n",
    "for algo in df.algo.unique():\n",
    "    print(f\"{algo}: {med_exps[girgs][:, algo].mean():.3f}\")\n",
    "\n",
    "print()\n",
    "print('Real networks')\n",
    "for algo in df.algo.unique():\n",
    "    print(f\"{algo}: {med_exps[real_graphs][:, algo].mean():.3f}\")\n",
    "\n"
   ]
  },
  {
   "cell_type": "code",
   "execution_count": 108,
   "metadata": {},
   "outputs": [
    {
     "data": {
      "text/plain": [
       "0.6835947968917064"
      ]
     },
     "execution_count": 108,
     "metadata": {},
     "output_type": "execute_result"
    },
    {
     "data": {
      "text/plain": [
       "0.6914490448039788"
      ]
     },
     "execution_count": 108,
     "metadata": {},
     "output_type": "execute_result"
    }
   ],
   "source": [
    "med_exp_real[:, 'bfs_bi_node'].mean()\n",
    "med_exp_real[:, 'bfs_bi_balanced'].mean()"
   ]
  },
  {
   "cell_type": "code",
   "execution_count": 100,
   "metadata": {},
   "outputs": [
    {
     "data": {
      "text/plain": [
       "<pandas.core.indexing._LocIndexer at 0x11afa2590>"
      ]
     },
     "execution_count": 100,
     "metadata": {},
     "output_type": "execute_result"
    }
   ],
   "source": [
    "med_exps.loc[]"
   ]
  },
  {
   "cell_type": "code",
   "execution_count": null,
   "metadata": {},
   "outputs": [],
   "source": []
  }
 ],
 "metadata": {
  "kernelspec": {
   "display_name": "Python 3 (ipykernel)",
   "language": "python",
   "name": "python3"
  },
  "language_info": {
   "codemirror_mode": {
    "name": "ipython",
    "version": 3
   },
   "file_extension": ".py",
   "mimetype": "text/x-python",
   "name": "python",
   "nbconvert_exporter": "python",
   "pygments_lexer": "ipython3",
   "version": "3.9.13"
  }
 },
 "nbformat": 4,
 "nbformat_minor": 4
}
