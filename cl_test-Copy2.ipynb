{
 "cells": [
  {
   "cell_type": "code",
   "execution_count": 1,
   "metadata": {
    "pycharm": {
     "is_executing": true
    }
   },
   "outputs": [
    {
     "data": {
      "text/html": [
       "\n",
       "\t\t\t<script type=\"text/javascript\">\n",
       "\t\t\t<!--\n",
       "\t\t\t\t\n",
       "\t\t\t{\n",
       "\t\t\t\tvar element = document.getElementById('NetworKit_script');\n",
       "\t\t\t\tif (element) {\n",
       "\t\t\t\t\telement.parentNode.removeChild(element);\n",
       "\t\t\t\t}\n",
       "\t\t\t\telement = document.createElement('script');\n",
       "\t\t\t\telement.type = 'text/javascript';\n",
       "\t\t\t\telement.innerHTML = 'function NetworKit_pageEmbed(id) { var i, j; var elements; elements = document.getElementById(id).getElementsByClassName(\"Plot\"); for (i=0; i<elements.length; i++) { elements[i].id = id + \"_Plot_\" + i; var data = elements[i].getAttribute(\"data-image\").split(\"|\"); elements[i].removeAttribute(\"data-image\"); var content = \"<div class=\\\\\"Image\\\\\" id=\\\\\"\" + elements[i].id + \"_Image\\\\\" />\"; elements[i].innerHTML = content; elements[i].setAttribute(\"data-image-index\", 0); elements[i].setAttribute(\"data-image-length\", data.length); for (j=0; j<data.length; j++) { elements[i].setAttribute(\"data-image-\" + j, data[j]); } NetworKit_plotUpdate(elements[i]); elements[i].onclick = function (e) { NetworKit_overlayShow((e.target) ? e.target : e.srcElement); } } elements = document.getElementById(id).getElementsByClassName(\"HeatCell\"); for (i=0; i<elements.length; i++) { var data = parseFloat(elements[i].getAttribute(\"data-heat\")); var color = \"#00FF00\"; if (data <= 1 && data > 0) { color = \"hsla(0, 100%, 75%, \" + (data) + \")\"; } else if (data <= 0 && data >= -1) { color = \"hsla(240, 100%, 75%, \" + (-data) + \")\"; } elements[i].style.backgroundColor = color; } elements = document.getElementById(id).getElementsByClassName(\"Details\"); for (i=0; i<elements.length; i++) { elements[i].setAttribute(\"data-title\", \"-\"); NetworKit_toggleDetails(elements[i]); elements[i].onclick = function (e) { NetworKit_toggleDetails((e.target) ? e.target : e.srcElement); } } elements = document.getElementById(id).getElementsByClassName(\"MathValue\"); for (i=elements.length-1; i>=0; i--) { value = elements[i].innerHTML.trim(); if (value === \"nan\") { elements[i].parentNode.innerHTML = \"\" } } elements = document.getElementById(id).getElementsByClassName(\"SubCategory\"); for (i=elements.length-1; i>=0; i--) { value = elements[i].innerHTML.trim(); if (value === \"\") { elements[i].parentNode.removeChild(elements[i]) } } elements = document.getElementById(id).getElementsByClassName(\"Category\"); for (i=elements.length-1; i>=0; i--) { value = elements[i].innerHTML.trim(); if (value === \"\") { elements[i].parentNode.removeChild(elements[i]) } } var isFirefox = false; try { isFirefox = typeof InstallTrigger !== \"undefined\"; } catch (e) {} if (!isFirefox) { alert(\"Currently the function\\'s output is only fully supported by Firefox.\"); } } function NetworKit_plotUpdate(source) { var index = source.getAttribute(\"data-image-index\"); var data = source.getAttribute(\"data-image-\" + index); var image = document.getElementById(source.id + \"_Image\"); image.style.backgroundImage = \"url(\" + data + \")\"; } function NetworKit_showElement(id, show) { var element = document.getElementById(id); element.style.display = (show) ? \"block\" : \"none\"; } function NetworKit_overlayShow(source) { NetworKit_overlayUpdate(source); NetworKit_showElement(\"NetworKit_Overlay\", true); } function NetworKit_overlayUpdate(source) { document.getElementById(\"NetworKit_Overlay_Title\").innerHTML = source.title; var index = source.getAttribute(\"data-image-index\"); var data = source.getAttribute(\"data-image-\" + index); var image = document.getElementById(\"NetworKit_Overlay_Image\"); image.setAttribute(\"data-id\", source.id); image.style.backgroundImage = \"url(\" + data + \")\"; var link = document.getElementById(\"NetworKit_Overlay_Toolbar_Bottom_Save\"); link.href = data; link.download = source.title + \".svg\"; } function NetworKit_overlayImageShift(delta) { var image = document.getElementById(\"NetworKit_Overlay_Image\"); var source = document.getElementById(image.getAttribute(\"data-id\")); var index = parseInt(source.getAttribute(\"data-image-index\")); var length = parseInt(source.getAttribute(\"data-image-length\")); var index = (index+delta) % length; if (index < 0) { index = length + index; } source.setAttribute(\"data-image-index\", index); NetworKit_overlayUpdate(source); } function NetworKit_toggleDetails(source) { var childs = source.children; var show = false; if (source.getAttribute(\"data-title\") == \"-\") { source.setAttribute(\"data-title\", \"+\"); show = false; } else { source.setAttribute(\"data-title\", \"-\"); show = true; } for (i=0; i<childs.length; i++) { if (show) { childs[i].style.display = \"block\"; } else { childs[i].style.display = \"none\"; } } }';\n",
       "\t\t\t\telement.setAttribute('id', 'NetworKit_script');\n",
       "\t\t\t\tdocument.head.appendChild(element);\n",
       "\t\t\t}\n",
       "\t\t\n",
       "\t\t\t\t\n",
       "\t\t\t{\n",
       "\t\t\t\tvar element = document.getElementById('NetworKit_style');\n",
       "\t\t\t\tif (element) {\n",
       "\t\t\t\t\telement.parentNode.removeChild(element);\n",
       "\t\t\t\t}\n",
       "\t\t\t\telement = document.createElement('style');\n",
       "\t\t\t\telement.type = 'text/css';\n",
       "\t\t\t\telement.innerHTML = '.NetworKit_Page { font-family: Arial, Helvetica, sans-serif; font-size: 14px; } .NetworKit_Page .Value:before { font-family: Arial, Helvetica, sans-serif; font-size: 1.05em; content: attr(data-title) \":\"; margin-left: -2.5em; padding-right: 0.5em; } .NetworKit_Page .Details .Value:before { display: block; } .NetworKit_Page .Value { font-family: monospace; white-space: pre; padding-left: 2.5em; white-space: -moz-pre-wrap !important; white-space: -pre-wrap; white-space: -o-pre-wrap; white-space: pre-wrap; word-wrap: break-word; tab-size: 4; -moz-tab-size: 4; } .NetworKit_Page .Category { clear: both; padding-left: 1em; margin-bottom: 1.5em; } .NetworKit_Page .Category:before { content: attr(data-title); font-size: 1.75em; display: block; margin-left: -0.8em; margin-bottom: 0.5em; } .NetworKit_Page .SubCategory { margin-bottom: 1.5em; padding-left: 1em; } .NetworKit_Page .SubCategory:before { font-size: 1.6em; display: block; margin-left: -0.8em; margin-bottom: 0.5em; } .NetworKit_Page .SubCategory[data-title]:before { content: attr(data-title); } .NetworKit_Page .Block { display: block; } .NetworKit_Page .Block:after { content: \".\"; visibility: hidden; display: block; height: 0; clear: both; } .NetworKit_Page .Block .Thumbnail_Overview, .NetworKit_Page .Block .Thumbnail_ScatterPlot { width: 260px; float: left; } .NetworKit_Page .Block .Thumbnail_Overview img, .NetworKit_Page .Block .Thumbnail_ScatterPlot img { width: 260px; } .NetworKit_Page .Block .Thumbnail_Overview:before, .NetworKit_Page .Block .Thumbnail_ScatterPlot:before { display: block; text-align: center; font-weight: bold; } .NetworKit_Page .Block .Thumbnail_Overview:before { content: attr(data-title); } .NetworKit_Page .HeatCell { font-family: \"Courier New\", Courier, monospace; cursor: pointer; } .NetworKit_Page .HeatCell, .NetworKit_Page .HeatCellName { display: inline; padding: 0.1em; margin-right: 2px; background-color: #FFFFFF } .NetworKit_Page .HeatCellName { margin-left: 0.25em; } .NetworKit_Page .HeatCell:before { content: attr(data-heat); display: inline-block; color: #000000; width: 4em; text-align: center; } .NetworKit_Page .Measure { clear: both; } .NetworKit_Page .Measure .Details { cursor: pointer; } .NetworKit_Page .Measure .Details:before { content: \"[\" attr(data-title) \"]\"; display: block; } .NetworKit_Page .Measure .Details .Value { border-left: 1px dotted black; margin-left: 0.4em; padding-left: 3.5em; pointer-events: none; } .NetworKit_Page .Measure .Details .Spacer:before { content: \".\"; opacity: 0.0; pointer-events: none; } .NetworKit_Page .Measure .Plot { width: 440px; height: 440px; cursor: pointer; float: left; margin-left: -0.9em; margin-right: 20px; } .NetworKit_Page .Measure .Plot .Image { background-repeat: no-repeat; background-position: center center; background-size: contain; height: 100%; pointer-events: none; } .NetworKit_Page .Measure .Stat { width: 500px; float: left; } .NetworKit_Page .Measure .Stat .Group { padding-left: 1.25em; margin-bottom: 0.75em; } .NetworKit_Page .Measure .Stat .Group .Title { font-size: 1.1em; display: block; margin-bottom: 0.3em; margin-left: -0.75em; border-right-style: dotted; border-right-width: 1px; border-bottom-style: dotted; border-bottom-width: 1px; background-color: #D0D0D0; padding-left: 0.2em; } .NetworKit_Page .Measure .Stat .Group .List { -webkit-column-count: 3; -moz-column-count: 3; column-count: 3; } .NetworKit_Page .Measure .Stat .Group .List .Entry { position: relative; line-height: 1.75em; } .NetworKit_Page .Measure .Stat .Group .List .Entry[data-tooltip]:before { position: absolute; left: 0; top: -40px; background-color: #808080; color: #ffffff; height: 30px; line-height: 30px; border-radius: 5px; padding: 0 15px; content: attr(data-tooltip); white-space: nowrap; display: none; } .NetworKit_Page .Measure .Stat .Group .List .Entry[data-tooltip]:after { position: absolute; left: 15px; top: -10px; border-top: 7px solid #808080; border-left: 7px solid transparent; border-right: 7px solid transparent; content: \"\"; display: none; } .NetworKit_Page .Measure .Stat .Group .List .Entry[data-tooltip]:hover:after, .NetworKit_Page .Measure .Stat .Group .List .Entry[data-tooltip]:hover:before { display: block; } .NetworKit_Page .Measure .Stat .Group .List .Entry .MathValue { font-family: \"Courier New\", Courier, monospace; } .NetworKit_Page .Measure:after { content: \".\"; visibility: hidden; display: block; height: 0; clear: both; } .NetworKit_Page .PartitionPie { clear: both; } .NetworKit_Page .PartitionPie img { width: 600px; } #NetworKit_Overlay { left: 0px; top: 0px; display: none; position: absolute; width: 100%; height: 100%; background-color: rgba(0,0,0,0.6); z-index: 1000; } #NetworKit_Overlay_Title { position: absolute; color: white; transform: rotate(-90deg); width: 32em; height: 32em; padding-right: 0.5em; padding-top: 0.5em; text-align: right; font-size: 40px; } #NetworKit_Overlay .button { background: white; cursor: pointer; } #NetworKit_Overlay .button:before { size: 13px; display: inline-block; text-align: center; margin-top: 0.5em; margin-bottom: 0.5em; width: 1.5em; height: 1.5em; } #NetworKit_Overlay .icon-close:before { content: \"X\"; } #NetworKit_Overlay .icon-previous:before { content: \"P\"; } #NetworKit_Overlay .icon-next:before { content: \"N\"; } #NetworKit_Overlay .icon-save:before { content: \"S\"; } #NetworKit_Overlay_Toolbar_Top, #NetworKit_Overlay_Toolbar_Bottom { position: absolute; width: 40px; right: 13px; text-align: right; z-index: 1100; } #NetworKit_Overlay_Toolbar_Top { top: 0.5em; } #NetworKit_Overlay_Toolbar_Bottom { Bottom: 0.5em; } #NetworKit_Overlay_ImageContainer { position: absolute; top: 5%; left: 5%; height: 90%; width: 90%; background-repeat: no-repeat; background-position: center center; background-size: contain; } #NetworKit_Overlay_Image { height: 100%; width: 100%; background-repeat: no-repeat; background-position: center center; background-size: contain; }';\n",
       "\t\t\t\telement.setAttribute('id', 'NetworKit_style');\n",
       "\t\t\t\tdocument.head.appendChild(element);\n",
       "\t\t\t}\n",
       "\t\t\n",
       "\t\t\t\t\n",
       "\t\t\t{\n",
       "\t\t\t\tvar element = document.getElementById('NetworKit_Overlay');\n",
       "\t\t\t\tif (element) {\n",
       "\t\t\t\t\telement.parentNode.removeChild(element);\n",
       "\t\t\t\t}\n",
       "\t\t\t\telement = document.createElement('div');\n",
       "\t\t\t\telement.innerHTML = '<div id=\"NetworKit_Overlay_Toolbar_Top\"><div class=\"button icon-close\" id=\"NetworKit_Overlay_Close\" /></div><div id=\"NetworKit_Overlay_Title\" /> <div id=\"NetworKit_Overlay_ImageContainer\"> <div id=\"NetworKit_Overlay_Image\" /> </div> <div id=\"NetworKit_Overlay_Toolbar_Bottom\"> <div class=\"button icon-previous\" onclick=\"NetworKit_overlayImageShift(-1)\" /> <div class=\"button icon-next\" onclick=\"NetworKit_overlayImageShift(1)\" /> <a id=\"NetworKit_Overlay_Toolbar_Bottom_Save\"><div class=\"button icon-save\" /></a> </div>';\n",
       "\t\t\t\telement.setAttribute('id', 'NetworKit_Overlay');\n",
       "\t\t\t\tdocument.body.appendChild(element);\n",
       "\t\t\t\tdocument.getElementById('NetworKit_Overlay_Close').onclick = function (e) {\n",
       "\t\t\t\t\tdocument.getElementById('NetworKit_Overlay').style.display = 'none';\n",
       "\t\t\t\t}\n",
       "\t\t\t}\n",
       "\t\t\n",
       "\t\t\t-->\n",
       "\t\t\t</script>\n",
       "\t\t"
      ]
     },
     "metadata": {},
     "output_type": "display_data"
    }
   ],
   "source": [
    "import bbbfs_algorithms\n",
    "import networkit as nk\n",
    "import numpy as np\n",
    "import bbbfs_algorithms\n",
    "import matplotlib.pyplot as plt\n",
    "\n",
    "from IPython.core.interactiveshell import InteractiveShell\n",
    "InteractiveShell.ast_node_interactivity = \"all\""
   ]
  },
  {
   "cell_type": "code",
   "execution_count": 2,
   "metadata": {},
   "outputs": [],
   "source": [
    "def powerlaw_dist(tau=2.5, x_min=1, n=1000):\n",
    "    \"\"\"sample from a tau exponent power law distribution\n",
    "    pdf: prop to x^-(a+1), i.e. tau = a+1\n",
    "    mean: ((tau-1) x_min)/(tau - 2) for tau > 2\n",
    "    x_min: support is [x_min, inf]\n",
    "    size: number of samples to draw\n",
    "    \"\"\"\n",
    "    a = tau-1\n",
    "    pareto = (np.random.pareto(a, size=n) + 1) * x_min\n",
    "    return pareto"
   ]
  },
  {
   "cell_type": "code",
   "execution_count": 6,
   "metadata": {
    "scrolled": false
   },
   "outputs": [
    {
     "name": "stdout",
     "output_type": "stream",
     "text": [
      "1000\n",
      "0\n",
      "1\n",
      "2\n",
      "3\n",
      "avg_work: 28.0\n",
      "log_n(avg_work): 0.4823860104474064\n",
      "10000\n",
      "0\n",
      "1\n",
      "2\n",
      "3\n",
      "avg_work: 43.0\n",
      "log_n(avg_work): 0.4083671138948966\n",
      "100000\n",
      "0\n",
      "1\n",
      "2\n",
      "3\n",
      "avg_work: 79.0\n",
      "log_n(avg_work): 0.3795254182580883\n",
      "200000\n",
      "0\n",
      "1\n",
      "2\n",
      "3\n",
      "avg_work: 17.0\n",
      "log_n(avg_work): 0.23211506488073624\n",
      "400000\n",
      "0\n",
      "1\n",
      "2\n",
      "3\n",
      "avg_work: 40.0\n",
      "log_n(avg_work): 0.28597694309021415\n",
      "700000\n",
      "0\n",
      "1\n",
      "2\n",
      "3\n",
      "avg_work: 153.0\n",
      "log_n(avg_work): 0.37376471974664605\n",
      "1000000\n",
      "0\n",
      "1\n",
      "2\n",
      "3\n",
      "avg_work: 174.0\n",
      "log_n(avg_work): 0.3734248747137666\n",
      "3000000\n",
      "0\n",
      "1\n",
      "2\n",
      "3\n",
      "avg_work: 189.0\n",
      "log_n(avg_work): 0.3514619712444726\n",
      "5000000\n",
      "0\n",
      "1\n",
      "2\n",
      "3\n",
      "avg_work: 272.0\n",
      "log_n(avg_work): 0.3634243626196839\n"
     ]
    },
    {
     "data": {
      "image/png": "[encoded data removed]",
      "text/plain": [
       "<Figure size 640x480 with 1 Axes>"
      ]
     },
     "metadata": {},
     "output_type": "display_data"
    }
   ],
   "source": [
    "def do_stuff(tau, ns, num_cl_per_n=4, pairs=5000):\n",
    "    ns = np.array(ns)\n",
    "    avg_work_list = []\n",
    "    for n in ns:\n",
    "        print(n)\n",
    "        for _ in range(num_cl_per_n):\n",
    "            print(_)\n",
    "            degree_seq = 2 * powerlaw_dist(tau=tau, x_min=1, n=n)\n",
    "            gen = nk.generators.ChungLuGenerator(degree_seq)\n",
    "            g = gen.generate()\n",
    "\n",
    "            us = np.random.choice(n, size=pairs)\n",
    "            vs = np.random.choice(n, size=pairs)\n",
    "            avg_works = []\n",
    "\n",
    "            for i, u in enumerate(us):\n",
    "                v = vs[i]\n",
    "                \n",
    "                bbfs = bbbfs_algorithms.BiBFS(g, u, v)\n",
    "                dist = bbfs.run()\n",
    "                avg_works.append(len(bbfs.sBFS.seen) + len(bbfs.tBFS.seen))\n",
    "\n",
    "        avg_work = np.median(avg_works)\n",
    "\n",
    "\n",
    "        print(f'avg_work: {avg_work}')\n",
    "        print(f'log_n(avg_work): {np.emath.logn(n, avg_work)}')\n",
    "        avg_work_list.append(avg_work)\n",
    "\n",
    "\n",
    "    plt.plot(ns, avg_work_list, label='avg work', marker='o')\n",
    "    plt.plot(ns, 8*ns**((tau-2)/(tau-1)), label='n^((tau-2)/(tau-1))')\n",
    "    plt.plot(ns, ns**(1/2), label='n^(1/2)')\n",
    "    plt.xscale('log')\n",
    "    plt.yscale('log')\n",
    "    plt.legend()\n",
    "    plt.show()\n",
    "\n",
    "do_stuff(2.3, list(map(int, [1000, 10000, 100000, 200000, 400000, 700000, 1e6, 3e6, 5e6])))\n",
    "# do_stuff(2.3, [1000])\n",
    "\n",
    "# do_stuff(2.3, list(map(int, [1000, 10000, 100000])))"
   ]
  },
  {
   "cell_type": "code",
   "execution_count": 3,
   "metadata": {},
   "outputs": [
    {
     "name": "stdout",
     "output_type": "stream",
     "text": [
      "1000\n",
      "0\n",
      "1\n",
      "2\n",
      "3\n",
      "avg work: 36.2156\n",
      "log_n(avg_work): 0.5196318949155823\n",
      "10000\n",
      "0\n",
      "1\n",
      "2\n",
      "3\n",
      "avg work: 90.3111\n",
      "log_n(avg_work): 0.48893528301715394\n",
      "100000\n",
      "0\n",
      "1\n",
      "2\n",
      "3\n",
      "avg work: 387.21735\n",
      "log_n(avg_work): 0.5175909616903127\n",
      "200000\n",
      "0\n",
      "1\n",
      "2\n",
      "3\n",
      "avg work: 618.7956\n",
      "log_n(avg_work): 0.5266046823415343\n",
      "400000\n",
      "0\n",
      "1\n",
      "2\n",
      "3\n",
      "avg work: 565.73595\n",
      "log_n(avg_work): 0.4913574259037692\n",
      "700000\n",
      "0\n",
      "1\n",
      "2\n",
      "3\n",
      "avg work: 43643.41405\n",
      "log_n(avg_work): 0.7938136682403533\n",
      "1000000\n",
      "0\n",
      "1\n",
      "2\n",
      "3\n",
      "avg work: 1370.10395\n",
      "log_n(avg_work): 0.5227922530660647\n",
      "3000000\n",
      "0\n",
      "1\n",
      "2\n",
      "3\n",
      "avg work: 2271.1613\n",
      "log_n(avg_work): 0.5181697002923692\n"
     ]
    },
    {
     "data": {
      "image/png": "[encoded data removed]",
      "text/plain": [
       "<Figure size 640x480 with 1 Axes>"
      ]
     },
     "metadata": {},
     "output_type": "display_data"
    }
   ],
   "source": [
    "def do_stuff_exact(tau, ns, num_cl_per_n=4, pairs=5000):\n",
    "    ns = np.array(ns)\n",
    "    median_work_list = []\n",
    "    avg_work_list = []\n",
    "    top_work_list = []\n",
    "    all_works = []\n",
    "    for n in ns:\n",
    "        print(n)\n",
    "        \n",
    "        works = []\n",
    "        for _ in range(num_cl_per_n):\n",
    "            print(_)\n",
    "            degree_seq = 2 * powerlaw_dist(tau=tau, x_min=1, n=n)\n",
    "            gen = nk.generators.ChungLuGenerator(degree_seq)\n",
    "            g = gen.generate()\n",
    "\n",
    "            us = np.random.choice(n, size=pairs)\n",
    "            vs = np.random.choice(n, size=pairs)\n",
    "\n",
    "\n",
    "            for i, u in enumerate(us):\n",
    "                v = vs[i]\n",
    "                \n",
    "                bbfs = bbbfs_algorithms.BiBFS(g, u, v)\n",
    "                dist = bbfs.run()\n",
    "                work = len(bbfs.sBFS.seen) + len(bbfs.tBFS.seen)\n",
    "                works.append(work)\n",
    "                all_works.append((n, work))\n",
    "\n",
    "        \n",
    "        median_work_list.append(np.median(works))\n",
    "        avg_work = np.mean(works)\n",
    "\n",
    "\n",
    "        print(f'avg work: {avg_work}')\n",
    "        print(f'log_n(avg_work): {np.emath.logn(n, avg_work)}')\n",
    "        avg_work_list.append(avg_work)\n",
    "\n",
    "\n",
    "    plt.plot(ns, median_work_list, label='median work', marker='o')\n",
    "    plt.plot(ns, 8*ns**((tau-2)/(tau-1)), label='n^((tau-2)/(tau-1))')\n",
    "    plt.plot(ns, ns**(1/2), label='n^(1/2)')\n",
    "    plt.xscale('log')\n",
    "    plt.yscale('log')\n",
    "    plt.legend()\n",
    "    plt.show()\n",
    "    \n",
    "    return all_works\n",
    "\n",
    "# all_works = do_stuff_exact(2.3, list(map(int, [1000, 10000, 100000, 200000, 400000, 700000, 1e6, 3e6, 5e6])))\n",
    "# all_works = do_stuff_exact(2.3, list(map(int, [1000, 10000, 100000, 200000])))#, 400000, 700000, 1e6, 3e6, 5e6])))\n",
    "\n",
    "all_works = do_stuff_exact(2.3, list(map(int, [1000, 10000, 100000, 200000, 400000, 700000, 1e6, 3e6])))\n",
    "\n",
    "# do_stuff(2.3, [1000])\n",
    "\n",
    "# all_works = do_stuff_exact(2.3, list(map(int, [1000, 10000, 100000])))"
   ]
  },
  {
   "cell_type": "code",
   "execution_count": 5,
   "metadata": {},
   "outputs": [
    {
     "ename": "NameError",
     "evalue": "name 'bbfs' is not defined",
     "output_type": "error",
     "traceback": [
      "\u001b[0;31m---------------------------------------------------------------------------\u001b[0m",
      "\u001b[0;31mNameError\u001b[0m                                 Traceback (most recent call last)",
      "Input \u001b[0;32mIn [5]\u001b[0m, in \u001b[0;36m<cell line: 1>\u001b[0;34m()\u001b[0m\n\u001b[0;32m----> 1\u001b[0m \u001b[43mbbfs\u001b[49m\u001b[38;5;241m.\u001b[39msBFS\u001b[38;5;241m.\u001b[39mqueue\n",
      "\u001b[0;31mNameError\u001b[0m: name 'bbfs' is not defined"
     ]
    }
   ],
   "source": [
    "bbfs.sBFS.queue"
   ]
  },
  {
   "cell_type": "code",
   "execution_count": 5,
   "metadata": {},
   "outputs": [],
   "source": [
    "import pandas as pd\n",
    "df = pd.DataFrame(all_works)\n",
    "df.columns = ['n', 'work']\n",
    "df.to_csv('df_nonexact')"
   ]
  },
  {
   "cell_type": "code",
   "execution_count": 6,
   "metadata": {},
   "outputs": [
    {
     "data": {
      "text/plain": [
       "[<matplotlib.lines.Line2D at 0x28b88b160>]"
      ]
     },
     "execution_count": 6,
     "metadata": {},
     "output_type": "execute_result"
    },
    {
     "data": {
      "text/plain": [
       "[<matplotlib.lines.Line2D at 0x28b88b550>]"
      ]
     },
     "execution_count": 6,
     "metadata": {},
     "output_type": "execute_result"
    },
    {
     "data": {
      "text/plain": [
       "[<matplotlib.lines.Line2D at 0x28b88b850>]"
      ]
     },
     "execution_count": 6,
     "metadata": {},
     "output_type": "execute_result"
    },
    {
     "data": {
      "text/plain": [
       "[<matplotlib.lines.Line2D at 0x28b88bcd0>]"
      ]
     },
     "execution_count": 6,
     "metadata": {},
     "output_type": "execute_result"
    },
    {
     "data": {
      "text/plain": [
       "[<matplotlib.lines.Line2D at 0x28b88bb50>]"
      ]
     },
     "execution_count": 6,
     "metadata": {},
     "output_type": "execute_result"
    },
    {
     "data": {
      "text/plain": [
       "<matplotlib.legend.Legend at 0x28b88be50>"
      ]
     },
     "execution_count": 6,
     "metadata": {},
     "output_type": "execute_result"
    },
    {
     "data": {
      "image/png": "[encoded data removed]",
      "text/plain": [
       "<Figure size 640x480 with 1 Axes>"
      ]
     },
     "metadata": {},
     "output_type": "display_data"
    }
   ],
   "source": [
    "tau=2.3\n",
    "\n",
    "ns = df.n.unique()\n",
    "top_percentiles = df.groupby('n').agg(lambda x: np.quantile(x, 0.95))\n",
    "means = df.groupby('n').mean().values\n",
    "medians = df.groupby('n').median()\n",
    "plt.plot(ns, means, label='mean work', marker='o')\n",
    "plt.plot(ns, top_percentiles, label='0.95 percentile', marker='o')\n",
    "plt.plot(ns, medians, label='median work', marker='o')\n",
    "\n",
    "plt.plot(ns, 8*ns**((tau-2)/(tau-1)), label='n^((tau-2)/(tau-1))', ls='--')\n",
    "plt.plot(ns, ns**(1/2), label='n^(1/2)', ls='--')\n",
    "plt.xscale('log')\n",
    "plt.yscale('log')\n",
    "plt.legend()\n",
    "plt.show()"
   ]
  },
  {
   "cell_type": "code",
   "execution_count": null,
   "metadata": {},
   "outputs": [],
   "source": [
    "plt.plot(ns, median_work_list, label='median work', marker='o')\n",
    "plt.plot(ns, 8*ns**((tau-2)/(tau-1)), label='n^((tau-2)/(tau-1))')\n",
    "plt.plot(ns, ns**(1/2), label='n^(1/2)')\n",
    "plt.xscale('log')\n",
    "plt.yscale('log')\n",
    "plt.legend()\n",
    "plt.show()"
   ]
  },
  {
   "cell_type": "code",
   "execution_count": null,
   "metadata": {},
   "outputs": [
    {
     "name": "stdout",
     "output_type": "stream",
     "text": [
      "0\n"
     ]
    }
   ],
   "source": [
    "degs = []\n",
    "\n",
    "for _ in range(6):\n",
    "    print(_)\n",
    "    tau=2.3\n",
    "    n= int(5e6)\n",
    "\n",
    "\n",
    "    degree_seq = 2 * powerlaw_dist(tau=tau, x_min=1, n=n)\n",
    "    gen = nk.generators.ChungLuGenerator(degree_seq)\n",
    "    g = gen.generate()\n",
    "\n",
    "    for _ in range(2000):\n",
    "\n",
    "        u = np.random.choice(n)\n",
    "        v = np.random.choice(n)\n",
    "        if g.degree(u) == 0 or g.degree(v) == 0:\n",
    "            continue\n",
    "\n",
    "        bbfs = bbbfs_algorithms.BiBFS(g, u, v)\n",
    "        found = bbfs.run()\n",
    "        if not found:\n",
    "            continue\n",
    "        avg_work = len(bbfs.sBFS.seen) + len(bbfs.tBFS.seen)\n",
    "\n",
    "        dist = len(bbfs.path)\n",
    "\n",
    "        w_star = n**(tau-2)/(tau-1)\n",
    "\n",
    "        a, b = bbfs.sBFS, bbfs.tBFS\n",
    "        # a_expanded_max_layer = max([a.seen[u] for u in a.expanded])\n",
    "        # a_expanded_degrees = []\n",
    "        # for layer in range(a_expanded_max_layer + 1):\n",
    "        #     for u in a.\n",
    "\n",
    "\n",
    "        a_expanded_degrees = [g.degree(u) for u in a.expanded]\n",
    "        b_expanded_degrees = [g.degree(u) for u in b.expanded]\n",
    "        \n",
    "        if len(a_expanded_degrees) == 0 or len(b_expanded_degrees) == 0:\n",
    "            continue\n",
    "            \n",
    "        degs.append(a_expanded_degrees)\n",
    "        degs.append(b_expanded_degrees)\n",
    "        \n",
    "    \n",
    "    \n",
    "all_degs = []\n",
    "weights = []\n",
    "for deg in degs:\n",
    "    all_degs += deg\n",
    "    weights += [1/len(deg)]*len(deg)\n",
    "    \n",
    "all_degs = np.array(all_degs)\n",
    "weights = np.array(weights)\n"
   ]
  },
  {
   "cell_type": "code",
   "execution_count": 144,
   "metadata": {},
   "outputs": [
    {
     "data": {
      "text/plain": [
       "1.6666666666666665"
      ]
     },
     "execution_count": 144,
     "metadata": {},
     "output_type": "execute_result"
    }
   ],
   "source": [
    "np.emath.logn(10, n**((tau-2)/(tau-1)))"
   ]
  },
  {
   "cell_type": "code",
   "execution_count": 100,
   "metadata": {},
   "outputs": [],
   "source": [
    "all_degs = np.array(all_degs)\n",
    "weights = np.array(weights)"
   ]
  },
  {
   "cell_type": "code",
   "execution_count": 118,
   "metadata": {},
   "outputs": [
    {
     "data": {
      "text/plain": [
       "[<matplotlib.lines.Line2D at 0x2a23956a0>]"
      ]
     },
     "execution_count": 118,
     "metadata": {},
     "output_type": "execute_result"
    },
    {
     "data": {
      "text/plain": [
       "[<matplotlib.lines.Line2D at 0x2a209ec70>]"
      ]
     },
     "execution_count": 118,
     "metadata": {},
     "output_type": "execute_result"
    },
    {
     "data": {
      "image/png": "[encoded data removed]",
      "text/plain": [
       "<Figure size 640x480 with 1 Axes>"
      ]
     },
     "metadata": {},
     "output_type": "display_data"
    }
   ],
   "source": [
    "sorted_indices = np.argsort(all_degs)\n",
    "temp = np.cumsum(weights[sorted_indices])\n",
    "temp = temp/temp[-1]\n",
    "plt.plot(all_degs[sorted_indices], temp[-1] - temp)\n",
    "\n",
    "ws = np.arange(1, 1e5)\n",
    "plt.plot(ws, ws**(2-tau))\n",
    "\n",
    "plt.xscale('log')\n",
    "plt.yscale('log')"
   ]
  },
  {
   "cell_type": "code",
   "execution_count": 145,
   "metadata": {},
   "outputs": [
    {
     "data": {
      "text/plain": [
       "[3489635, 51, 221, 348811, 3969736]"
      ]
     },
     "execution_count": 145,
     "metadata": {},
     "output_type": "execute_result"
    }
   ],
   "source": [
    "bbfs.path"
   ]
  },
  {
   "cell_type": "code",
   "execution_count": 108,
   "metadata": {},
   "outputs": [
    {
     "data": {
      "text/plain": [
       "[<matplotlib.lines.Line2D at 0x2a22fdbb0>]"
      ]
     },
     "execution_count": 108,
     "metadata": {},
     "output_type": "execute_result"
    },
    {
     "data": {
      "text/plain": [
       "(0.0, 100.0)"
      ]
     },
     "execution_count": 108,
     "metadata": {},
     "output_type": "execute_result"
    },
    {
     "data": {
      "image/png": "[encoded data removed]",
      "text/plain": [
       "<Figure size 640x480 with 1 Axes>"
      ]
     },
     "metadata": {},
     "output_type": "display_data"
    }
   ],
   "source": [
    "sorted_indices = np.argsort(all_degs)\n",
    "plt.plot(all_degs[sorted_indices], np.cumsum(weights[sorted_indices])/np.power(all_degs[sorted_indices], 3 - tau))\n",
    "plt.xlim([0, 100])"
   ]
  },
  {
   "cell_type": "code",
   "execution_count": 140,
   "metadata": {},
   "outputs": [
    {
     "data": {
      "text/plain": [
       "[<matplotlib.lines.Line2D at 0x2a8d80610>]"
      ]
     },
     "execution_count": 140,
     "metadata": {},
     "output_type": "execute_result"
    },
    {
     "data": {
      "text/plain": [
       "[<matplotlib.lines.Line2D at 0x2a8d80a30>]"
      ]
     },
     "execution_count": 140,
     "metadata": {},
     "output_type": "execute_result"
    },
    {
     "data": {
      "image/png": "[encoded data removed]",
      "text/plain": [
       "<Figure size 640x480 with 1 Axes>"
      ]
     },
     "metadata": {},
     "output_type": "display_data"
    }
   ],
   "source": [
    "n = 100000\n",
    "tau=2.5\n",
    "\n",
    "degree_seq = 2 * powerlaw_dist(tau=tau, x_min=1, n=n)\n",
    "gen = nk.generators.ChungLuGenerator(degree_seq)\n",
    "g = gen.generate()\n",
    "\n",
    "\n",
    "g_degs = [g.degree(u) for u in g.iterNodes()]\n",
    "g_degs = sorted(g_degs)\n",
    "\n",
    "# g_degs = sorted(degree_seq)\n",
    "\n",
    "# temp = np.cumsum(g_degs)\n",
    "# temp = temp/temp[-1]\n",
    "temp = np.arange(0, len(g_degs))\n",
    "plt.plot(g_degs, temp[-1] - temp)\n",
    "\n",
    "ws = np.arange(1, 1e5)\n",
    "plt.plot(ws, ws**(1-tau))\n",
    "\n",
    "plt.xscale('log')\n",
    "plt.yscale('log')"
   ]
  },
  {
   "cell_type": "code",
   "execution_count": 93,
   "metadata": {},
   "outputs": [
    {
     "data": {
      "text/plain": [
       "array([12626,  2220, 13365, ...,  1572,  1299,    90])"
      ]
     },
     "execution_count": 93,
     "metadata": {},
     "output_type": "execute_result"
    }
   ],
   "source": []
  },
  {
   "cell_type": "code",
   "execution_count": 91,
   "metadata": {},
   "outputs": [
    {
     "data": {
      "text/plain": [
       "[<matplotlib.lines.Line2D at 0x2a24504f0>]"
      ]
     },
     "execution_count": 91,
     "metadata": {},
     "output_type": "execute_result"
    },
    {
     "data": {
      "image/png": "[encoded data removed]",
      "text/plain": [
       "<Figure size 640x480 with 1 Axes>"
      ]
     },
     "metadata": {},
     "output_type": "display_data"
    }
   ],
   "source": [
    "# np.histogram(all_degs, density=True, weights=weights)\n",
    "\n",
    "_ = plt.hist(all_degs, bins=5000, weights=weights, cumulative=True, histtype='step')\n",
    "ws = np.arange(1, 1e5)\n",
    "plt.plot(ws, ws**(3-tau))\n",
    "\n",
    "plt.yscale('log')\n",
    "plt.xscale('log')"
   ]
  },
  {
   "cell_type": "code",
   "execution_count": null,
   "metadata": {},
   "outputs": [],
   "source": []
  },
  {
   "cell_type": "code",
   "execution_count": 41,
   "metadata": {},
   "outputs": [
    {
     "data": {
      "text/plain": [
       "(array([8.16666667, 0.        , 0.16666667, 0.        , 0.33333333,\n",
       "        0.        , 0.        , 0.33333333, 0.5       , 0.5       ]),\n",
       " array([1.0000e+00, 6.0110e+02, 1.2012e+03, 1.8013e+03, 2.4014e+03,\n",
       "        3.0015e+03, 3.6016e+03, 4.2017e+03, 4.8018e+03, 5.4019e+03,\n",
       "        6.0020e+03]),\n",
       " <BarContainer object of 10 artists>)"
      ]
     },
     "execution_count": 41,
     "metadata": {},
     "output_type": "execute_result"
    },
    {
     "data": {
      "image/png": "[encoded data removed]",
      "text/plain": [
       "<Figure size 640x480 with 1 Axes>"
      ]
     },
     "metadata": {},
     "output_type": "display_data"
    }
   ],
   "source": [
    "plt.hist(all_degs, weights=weights)"
   ]
  },
  {
   "cell_type": "code",
   "execution_count": 36,
   "metadata": {},
   "outputs": [],
   "source": [
    "all_degs = []\n",
    "weights = []\n",
    "for deg in degs:\n",
    "    all_degs += deg\n",
    "    weights += [1/len(deg)]*len(deg)"
   ]
  },
  {
   "cell_type": "code",
   "execution_count": 37,
   "metadata": {},
   "outputs": [
    {
     "data": {
      "text/plain": [
       "[34,\n",
       " 3,\n",
       " 2771,\n",
       " 2,\n",
       " 3,\n",
       " 27,\n",
       " 3,\n",
       " 4769,\n",
       " 5,\n",
       " 5,\n",
       " 5073,\n",
       " 2,\n",
       " 8,\n",
       " 1641,\n",
       " 3,\n",
       " 5,\n",
       " 16,\n",
       " 15,\n",
       " 1,\n",
       " 12,\n",
       " 28,\n",
       " 11,\n",
       " 2,\n",
       " 1,\n",
       " 6002,\n",
       " 4]"
      ]
     },
     "execution_count": 37,
     "metadata": {},
     "output_type": "execute_result"
    }
   ],
   "source": [
    "all_degs"
   ]
  },
  {
   "cell_type": "code",
   "execution_count": 38,
   "metadata": {},
   "outputs": [
    {
     "data": {
      "text/plain": [
       "[0.5,\n",
       " 0.5,\n",
       " 0.3333333333333333,\n",
       " 0.3333333333333333,\n",
       " 0.3333333333333333,\n",
       " 1.0,\n",
       " 0.3333333333333333,\n",
       " 0.3333333333333333,\n",
       " 0.3333333333333333,\n",
       " 1.0,\n",
       " 0.5,\n",
       " 0.5,\n",
       " 0.16666666666666666,\n",
       " 0.16666666666666666,\n",
       " 0.16666666666666666,\n",
       " 0.16666666666666666,\n",
       " 0.16666666666666666,\n",
       " 0.16666666666666666,\n",
       " 0.2,\n",
       " 0.2,\n",
       " 0.2,\n",
       " 0.2,\n",
       " 0.2,\n",
       " 0.5,\n",
       " 0.5,\n",
       " 1.0]"
      ]
     },
     "execution_count": 38,
     "metadata": {},
     "output_type": "execute_result"
    }
   ],
   "source": [
    "weights"
   ]
  },
  {
   "cell_type": "code",
   "execution_count": 30,
   "metadata": {},
   "outputs": [
    {
     "data": {
      "text/plain": [
       "[7]"
      ]
     },
     "execution_count": 30,
     "metadata": {},
     "output_type": "execute_result"
    },
    {
     "data": {
      "text/plain": [
       "[38]"
      ]
     },
     "execution_count": 30,
     "metadata": {},
     "output_type": "execute_result"
    }
   ],
   "source": [
    "a_expanded_degrees\n",
    "b_expanded_degrees"
   ]
  },
  {
   "cell_type": "code",
   "execution_count": 31,
   "metadata": {},
   "outputs": [
    {
     "data": {
      "text/plain": [
       "[2615, 0, 32971]"
      ]
     },
     "execution_count": 31,
     "metadata": {},
     "output_type": "execute_result"
    }
   ],
   "source": [
    "bbfs.path"
   ]
  },
  {
   "cell_type": "code",
   "execution_count": 27,
   "metadata": {},
   "outputs": [
    {
     "data": {
      "text/plain": [
       "{2078, 38924}"
      ]
     },
     "execution_count": 27,
     "metadata": {},
     "output_type": "execute_result"
    }
   ],
   "source": [
    "a.expanded"
   ]
  },
  {
   "cell_type": "code",
   "execution_count": 25,
   "metadata": {},
   "outputs": [
    {
     "data": {
      "text/plain": [
       "24.325212770525948"
      ]
     },
     "execution_count": 25,
     "metadata": {},
     "output_type": "execute_result"
    }
   ],
   "source": [
    "w_star = n**(tau-2)/(tau-1)\n",
    "w_star"
   ]
  },
  {
   "cell_type": "code",
   "execution_count": 26,
   "metadata": {},
   "outputs": [
    {
     "data": {
      "text/plain": [
       "44"
      ]
     },
     "execution_count": 26,
     "metadata": {},
     "output_type": "execute_result"
    }
   ],
   "source": [
    "g.degree(2078)"
   ]
  },
  {
   "cell_type": "code",
   "execution_count": 23,
   "metadata": {},
   "outputs": [
    {
     "data": {
      "text/plain": [
       "0"
      ]
     },
     "execution_count": 23,
     "metadata": {},
     "output_type": "execute_result"
    }
   ],
   "source": [
    "bbfs.intersection_point"
   ]
  },
  {
   "cell_type": "code",
   "execution_count": 19,
   "metadata": {},
   "outputs": [
    {
     "data": {
      "text/plain": [
       "[38924, 2078, 0, 25722]"
      ]
     },
     "execution_count": 19,
     "metadata": {},
     "output_type": "execute_result"
    },
    {
     "data": {
      "text/plain": [
       "36"
      ]
     },
     "execution_count": 19,
     "metadata": {},
     "output_type": "execute_result"
    }
   ],
   "source": [
    "bbfs.path\n",
    "avg_work"
   ]
  },
  {
   "cell_type": "code",
   "execution_count": 10,
   "metadata": {},
   "outputs": [],
   "source": [
    "a, b = bbfs.sBFS, bbfs.tBFS"
   ]
  },
  {
   "cell_type": "code",
   "execution_count": 20,
   "metadata": {},
   "outputs": [
    {
     "data": {
      "text/plain": [
       "{38924: 0,\n",
       " 40444: 1,\n",
       " 2078: 1,\n",
       " 2323: 1,\n",
       " 5542: 1,\n",
       " 3450: 1,\n",
       " 2117: 2,\n",
       " 3160: 2,\n",
       " 6200: 2,\n",
       " 9007: 2,\n",
       " 10994: 2,\n",
       " 11691: 2,\n",
       " 11996: 2,\n",
       " 12072: 2,\n",
       " 15728: 2,\n",
       " 16827: 2,\n",
       " 16977: 2,\n",
       " 20003: 2,\n",
       " 28950: 2,\n",
       " 33427: 2,\n",
       " 39019: 2,\n",
       " 47825: 2,\n",
       " 60957: 2,\n",
       " 75055: 2,\n",
       " 81722: 2,\n",
       " 84470: 2}"
      ]
     },
     "execution_count": 20,
     "metadata": {},
     "output_type": "execute_result"
    }
   ],
   "source": [
    "a.seen"
   ]
  },
  {
   "cell_type": "code",
   "execution_count": 21,
   "metadata": {},
   "outputs": [
    {
     "data": {
      "text/plain": [
       "2078"
      ]
     },
     "execution_count": 21,
     "metadata": {},
     "output_type": "execute_result"
    },
    {
     "data": {
      "text/plain": [
       "20"
      ]
     },
     "execution_count": 21,
     "metadata": {},
     "output_type": "execute_result"
    }
   ],
   "source": [
    "a.node_to_parent[10994]\n",
    "g.degree(10994)"
   ]
  },
  {
   "cell_type": "code",
   "execution_count": 22,
   "metadata": {},
   "outputs": [
    {
     "data": {
      "text/plain": [
       "{25722: 0,\n",
       " 96126: 1,\n",
       " 0: 1,\n",
       " 6: 1,\n",
       " 58: 1,\n",
       " 16420: 1,\n",
       " 11571: 1,\n",
       " 4115: 1,\n",
       " 537: 1,\n",
       " 702: 1}"
      ]
     },
     "execution_count": 22,
     "metadata": {},
     "output_type": "execute_result"
    }
   ],
   "source": [
    "b.seen"
   ]
  },
  {
   "cell_type": "code",
   "execution_count": 12,
   "metadata": {},
   "outputs": [
    {
     "data": {
      "text/plain": [
       "{1: [23190, 25234, 29061, 75300, 0, 3, 4585, 343]}"
      ]
     },
     "execution_count": 12,
     "metadata": {},
     "output_type": "execute_result"
    }
   ],
   "source": [
    "bfs = bbfs.sBFS\n",
    "bfs.queue"
   ]
  },
  {
   "cell_type": "code",
   "execution_count": 13,
   "metadata": {},
   "outputs": [
    {
     "data": {
      "text/plain": [
       "{10806: 0, 23190: 1, 25234: 1, 29061: 1, 75300: 1, 0: 1, 3: 1, 4585: 1, 343: 1}"
      ]
     },
     "execution_count": 13,
     "metadata": {},
     "output_type": "execute_result"
    }
   ],
   "source": [
    "bfs.seen"
   ]
  },
  {
   "cell_type": "code",
   "execution_count": 14,
   "metadata": {},
   "outputs": [
    {
     "data": {
      "text/plain": [
       "{10806: 8,\n",
       " 23190: 9,\n",
       " 25234: 4,\n",
       " 29061: 2,\n",
       " 75300: 3,\n",
       " 0: 20236,\n",
       " 3: 4890,\n",
       " 4585: 23,\n",
       " 343: 126}"
      ]
     },
     "execution_count": 14,
     "metadata": {},
     "output_type": "execute_result"
    }
   ],
   "source": [
    "{u: g.degree(u) for u in bfs.seen}"
   ]
  },
  {
   "cell_type": "code",
   "execution_count": 21,
   "metadata": {},
   "outputs": [
    {
     "data": {
      "text/plain": [
       "set()"
      ]
     },
     "execution_count": 21,
     "metadata": {},
     "output_type": "execute_result"
    }
   ],
   "source": [
    "set(bbfs.tBFS.seen).intersection(bfs.seen)"
   ]
  },
  {
   "cell_type": "code",
   "execution_count": 16,
   "metadata": {},
   "outputs": [
    {
     "data": {
      "text/plain": [
       "(10806, 33658)"
      ]
     },
     "execution_count": 16,
     "metadata": {},
     "output_type": "execute_result"
    }
   ],
   "source": [
    "u, v"
   ]
  },
  {
   "cell_type": "code",
   "execution_count": null,
   "metadata": {},
   "outputs": [],
   "source": []
  }
 ],
 "metadata": {
  "kernelspec": {
   "display_name": "Python 3 (ipykernel)",
   "language": "python",
   "name": "python3"
  },
  "language_info": {
   "codemirror_mode": {
    "name": "ipython",
    "version": 3
   },
   "file_extension": ".py",
   "mimetype": "text/x-python",
   "name": "python",
   "nbconvert_exporter": "python",
   "pygments_lexer": "ipython3",
   "version": "3.9.13"
  }
 },
 "nbformat": 4,
 "nbformat_minor": 1
}
