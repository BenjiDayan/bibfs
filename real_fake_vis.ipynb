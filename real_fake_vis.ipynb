{
 "cells": [
  {
   "cell_type": "code",
   "execution_count": 1,
   "metadata": {},
   "outputs": [
    {
     "data": {
      "text/html": [
       "\n",
       "\t\t\t<script type=\"text/javascript\">\n",
       "\t\t\t<!--\n",
       "\t\t\t\t\n",
       "\t\t\t{\n",
       "\t\t\t\tvar element = document.getElementById('NetworKit_script');\n",
       "\t\t\t\tif (element) {\n",
       "\t\t\t\t\telement.parentNode.removeChild(element);\n",
       "\t\t\t\t}\n",
       "\t\t\t\telement = document.createElement('script');\n",
       "\t\t\t\telement.type = 'text/javascript';\n",
       "\t\t\t\telement.innerHTML = 'function NetworKit_pageEmbed(id) { var i, j; var elements; elements = document.getElementById(id).getElementsByClassName(\"Plot\"); for (i=0; i<elements.length; i++) { elements[i].id = id + \"_Plot_\" + i; var data = elements[i].getAttribute(\"data-image\").split(\"|\"); elements[i].removeAttribute(\"data-image\"); var content = \"<div class=\\\\\"Image\\\\\" id=\\\\\"\" + elements[i].id + \"_Image\\\\\" />\"; elements[i].innerHTML = content; elements[i].setAttribute(\"data-image-index\", 0); elements[i].setAttribute(\"data-image-length\", data.length); for (j=0; j<data.length; j++) { elements[i].setAttribute(\"data-image-\" + j, data[j]); } NetworKit_plotUpdate(elements[i]); elements[i].onclick = function (e) { NetworKit_overlayShow((e.target) ? e.target : e.srcElement); } } elements = document.getElementById(id).getElementsByClassName(\"HeatCell\"); for (i=0; i<elements.length; i++) { var data = parseFloat(elements[i].getAttribute(\"data-heat\")); var color = \"#00FF00\"; if (data <= 1 && data > 0) { color = \"hsla(0, 100%, 75%, \" + (data) + \")\"; } else if (data <= 0 && data >= -1) { color = \"hsla(240, 100%, 75%, \" + (-data) + \")\"; } elements[i].style.backgroundColor = color; } elements = document.getElementById(id).getElementsByClassName(\"Details\"); for (i=0; i<elements.length; i++) { elements[i].setAttribute(\"data-title\", \"-\"); NetworKit_toggleDetails(elements[i]); elements[i].onclick = function (e) { NetworKit_toggleDetails((e.target) ? e.target : e.srcElement); } } elements = document.getElementById(id).getElementsByClassName(\"MathValue\"); for (i=elements.length-1; i>=0; i--) { value = elements[i].innerHTML.trim(); if (value === \"nan\") { elements[i].parentNode.innerHTML = \"\" } } elements = document.getElementById(id).getElementsByClassName(\"SubCategory\"); for (i=elements.length-1; i>=0; i--) { value = elements[i].innerHTML.trim(); if (value === \"\") { elements[i].parentNode.removeChild(elements[i]) } } elements = document.getElementById(id).getElementsByClassName(\"Category\"); for (i=elements.length-1; i>=0; i--) { value = elements[i].innerHTML.trim(); if (value === \"\") { elements[i].parentNode.removeChild(elements[i]) } } var isFirefox = false; try { isFirefox = typeof InstallTrigger !== \"undefined\"; } catch (e) {} if (!isFirefox) { alert(\"Currently the function\\'s output is only fully supported by Firefox.\"); } } function NetworKit_plotUpdate(source) { var index = source.getAttribute(\"data-image-index\"); var data = source.getAttribute(\"data-image-\" + index); var image = document.getElementById(source.id + \"_Image\"); image.style.backgroundImage = \"url(\" + data + \")\"; } function NetworKit_showElement(id, show) { var element = document.getElementById(id); element.style.display = (show) ? \"block\" : \"none\"; } function NetworKit_overlayShow(source) { NetworKit_overlayUpdate(source); NetworKit_showElement(\"NetworKit_Overlay\", true); } function NetworKit_overlayUpdate(source) { document.getElementById(\"NetworKit_Overlay_Title\").innerHTML = source.title; var index = source.getAttribute(\"data-image-index\"); var data = source.getAttribute(\"data-image-\" + index); var image = document.getElementById(\"NetworKit_Overlay_Image\"); image.setAttribute(\"data-id\", source.id); image.style.backgroundImage = \"url(\" + data + \")\"; var link = document.getElementById(\"NetworKit_Overlay_Toolbar_Bottom_Save\"); link.href = data; link.download = source.title + \".svg\"; } function NetworKit_overlayImageShift(delta) { var image = document.getElementById(\"NetworKit_Overlay_Image\"); var source = document.getElementById(image.getAttribute(\"data-id\")); var index = parseInt(source.getAttribute(\"data-image-index\")); var length = parseInt(source.getAttribute(\"data-image-length\")); var index = (index+delta) % length; if (index < 0) { index = length + index; } source.setAttribute(\"data-image-index\", index); NetworKit_overlayUpdate(source); } function NetworKit_toggleDetails(source) { var childs = source.children; var show = false; if (source.getAttribute(\"data-title\") == \"-\") { source.setAttribute(\"data-title\", \"+\"); show = false; } else { source.setAttribute(\"data-title\", \"-\"); show = true; } for (i=0; i<childs.length; i++) { if (show) { childs[i].style.display = \"block\"; } else { childs[i].style.display = \"none\"; } } }';\n",
       "\t\t\t\telement.setAttribute('id', 'NetworKit_script');\n",
       "\t\t\t\tdocument.head.appendChild(element);\n",
       "\t\t\t}\n",
       "\t\t\n",
       "\t\t\t\t\n",
       "\t\t\t{\n",
       "\t\t\t\tvar element = document.getElementById('NetworKit_style');\n",
       "\t\t\t\tif (element) {\n",
       "\t\t\t\t\telement.parentNode.removeChild(element);\n",
       "\t\t\t\t}\n",
       "\t\t\t\telement = document.createElement('style');\n",
       "\t\t\t\telement.type = 'text/css';\n",
       "\t\t\t\telement.innerHTML = '.NetworKit_Page { font-family: Arial, Helvetica, sans-serif; font-size: 14px; } .NetworKit_Page .Value:before { font-family: Arial, Helvetica, sans-serif; font-size: 1.05em; content: attr(data-title) \":\"; margin-left: -2.5em; padding-right: 0.5em; } .NetworKit_Page .Details .Value:before { display: block; } .NetworKit_Page .Value { font-family: monospace; white-space: pre; padding-left: 2.5em; white-space: -moz-pre-wrap !important; white-space: -pre-wrap; white-space: -o-pre-wrap; white-space: pre-wrap; word-wrap: break-word; tab-size: 4; -moz-tab-size: 4; } .NetworKit_Page .Category { clear: both; padding-left: 1em; margin-bottom: 1.5em; } .NetworKit_Page .Category:before { content: attr(data-title); font-size: 1.75em; display: block; margin-left: -0.8em; margin-bottom: 0.5em; } .NetworKit_Page .SubCategory { margin-bottom: 1.5em; padding-left: 1em; } .NetworKit_Page .SubCategory:before { font-size: 1.6em; display: block; margin-left: -0.8em; margin-bottom: 0.5em; } .NetworKit_Page .SubCategory[data-title]:before { content: attr(data-title); } .NetworKit_Page .Block { display: block; } .NetworKit_Page .Block:after { content: \".\"; visibility: hidden; display: block; height: 0; clear: both; } .NetworKit_Page .Block .Thumbnail_Overview, .NetworKit_Page .Block .Thumbnail_ScatterPlot { width: 260px; float: left; } .NetworKit_Page .Block .Thumbnail_Overview img, .NetworKit_Page .Block .Thumbnail_ScatterPlot img { width: 260px; } .NetworKit_Page .Block .Thumbnail_Overview:before, .NetworKit_Page .Block .Thumbnail_ScatterPlot:before { display: block; text-align: center; font-weight: bold; } .NetworKit_Page .Block .Thumbnail_Overview:before { content: attr(data-title); } .NetworKit_Page .HeatCell { font-family: \"Courier New\", Courier, monospace; cursor: pointer; } .NetworKit_Page .HeatCell, .NetworKit_Page .HeatCellName { display: inline; padding: 0.1em; margin-right: 2px; background-color: #FFFFFF } .NetworKit_Page .HeatCellName { margin-left: 0.25em; } .NetworKit_Page .HeatCell:before { content: attr(data-heat); display: inline-block; color: #000000; width: 4em; text-align: center; } .NetworKit_Page .Measure { clear: both; } .NetworKit_Page .Measure .Details { cursor: pointer; } .NetworKit_Page .Measure .Details:before { content: \"[\" attr(data-title) \"]\"; display: block; } .NetworKit_Page .Measure .Details .Value { border-left: 1px dotted black; margin-left: 0.4em; padding-left: 3.5em; pointer-events: none; } .NetworKit_Page .Measure .Details .Spacer:before { content: \".\"; opacity: 0.0; pointer-events: none; } .NetworKit_Page .Measure .Plot { width: 440px; height: 440px; cursor: pointer; float: left; margin-left: -0.9em; margin-right: 20px; } .NetworKit_Page .Measure .Plot .Image { background-repeat: no-repeat; background-position: center center; background-size: contain; height: 100%; pointer-events: none; } .NetworKit_Page .Measure .Stat { width: 500px; float: left; } .NetworKit_Page .Measure .Stat .Group { padding-left: 1.25em; margin-bottom: 0.75em; } .NetworKit_Page .Measure .Stat .Group .Title { font-size: 1.1em; display: block; margin-bottom: 0.3em; margin-left: -0.75em; border-right-style: dotted; border-right-width: 1px; border-bottom-style: dotted; border-bottom-width: 1px; background-color: #D0D0D0; padding-left: 0.2em; } .NetworKit_Page .Measure .Stat .Group .List { -webkit-column-count: 3; -moz-column-count: 3; column-count: 3; } .NetworKit_Page .Measure .Stat .Group .List .Entry { position: relative; line-height: 1.75em; } .NetworKit_Page .Measure .Stat .Group .List .Entry[data-tooltip]:before { position: absolute; left: 0; top: -40px; background-color: #808080; color: #ffffff; height: 30px; line-height: 30px; border-radius: 5px; padding: 0 15px; content: attr(data-tooltip); white-space: nowrap; display: none; } .NetworKit_Page .Measure .Stat .Group .List .Entry[data-tooltip]:after { position: absolute; left: 15px; top: -10px; border-top: 7px solid #808080; border-left: 7px solid transparent; border-right: 7px solid transparent; content: \"\"; display: none; } .NetworKit_Page .Measure .Stat .Group .List .Entry[data-tooltip]:hover:after, .NetworKit_Page .Measure .Stat .Group .List .Entry[data-tooltip]:hover:before { display: block; } .NetworKit_Page .Measure .Stat .Group .List .Entry .MathValue { font-family: \"Courier New\", Courier, monospace; } .NetworKit_Page .Measure:after { content: \".\"; visibility: hidden; display: block; height: 0; clear: both; } .NetworKit_Page .PartitionPie { clear: both; } .NetworKit_Page .PartitionPie img { width: 600px; } #NetworKit_Overlay { left: 0px; top: 0px; display: none; position: absolute; width: 100%; height: 100%; background-color: rgba(0,0,0,0.6); z-index: 1000; } #NetworKit_Overlay_Title { position: absolute; color: white; transform: rotate(-90deg); width: 32em; height: 32em; padding-right: 0.5em; padding-top: 0.5em; text-align: right; font-size: 40px; } #NetworKit_Overlay .button { background: white; cursor: pointer; } #NetworKit_Overlay .button:before { size: 13px; display: inline-block; text-align: center; margin-top: 0.5em; margin-bottom: 0.5em; width: 1.5em; height: 1.5em; } #NetworKit_Overlay .icon-close:before { content: \"X\"; } #NetworKit_Overlay .icon-previous:before { content: \"P\"; } #NetworKit_Overlay .icon-next:before { content: \"N\"; } #NetworKit_Overlay .icon-save:before { content: \"S\"; } #NetworKit_Overlay_Toolbar_Top, #NetworKit_Overlay_Toolbar_Bottom { position: absolute; width: 40px; right: 13px; text-align: right; z-index: 1100; } #NetworKit_Overlay_Toolbar_Top { top: 0.5em; } #NetworKit_Overlay_Toolbar_Bottom { Bottom: 0.5em; } #NetworKit_Overlay_ImageContainer { position: absolute; top: 5%; left: 5%; height: 90%; width: 90%; background-repeat: no-repeat; background-position: center center; background-size: contain; } #NetworKit_Overlay_Image { height: 100%; width: 100%; background-repeat: no-repeat; background-position: center center; background-size: contain; }';\n",
       "\t\t\t\telement.setAttribute('id', 'NetworKit_style');\n",
       "\t\t\t\tdocument.head.appendChild(element);\n",
       "\t\t\t}\n",
       "\t\t\n",
       "\t\t\t\t\n",
       "\t\t\t{\n",
       "\t\t\t\tvar element = document.getElementById('NetworKit_Overlay');\n",
       "\t\t\t\tif (element) {\n",
       "\t\t\t\t\telement.parentNode.removeChild(element);\n",
       "\t\t\t\t}\n",
       "\t\t\t\telement = document.createElement('div');\n",
       "\t\t\t\telement.innerHTML = '<div id=\"NetworKit_Overlay_Toolbar_Top\"><div class=\"button icon-close\" id=\"NetworKit_Overlay_Close\" /></div><div id=\"NetworKit_Overlay_Title\" /> <div id=\"NetworKit_Overlay_ImageContainer\"> <div id=\"NetworKit_Overlay_Image\" /> </div> <div id=\"NetworKit_Overlay_Toolbar_Bottom\"> <div class=\"button icon-previous\" onclick=\"NetworKit_overlayImageShift(-1)\" /> <div class=\"button icon-next\" onclick=\"NetworKit_overlayImageShift(1)\" /> <a id=\"NetworKit_Overlay_Toolbar_Bottom_Save\"><div class=\"button icon-save\" /></a> </div>';\n",
       "\t\t\t\telement.setAttribute('id', 'NetworKit_Overlay');\n",
       "\t\t\t\tdocument.body.appendChild(element);\n",
       "\t\t\t\tdocument.getElementById('NetworKit_Overlay_Close').onclick = function (e) {\n",
       "\t\t\t\t\tdocument.getElementById('NetworKit_Overlay').style.display = 'none';\n",
       "\t\t\t\t}\n",
       "\t\t\t}\n",
       "\t\t\n",
       "\t\t\t-->\n",
       "\t\t\t</script>\n",
       "\t\t"
      ]
     },
     "metadata": {},
     "output_type": "display_data"
    }
   ],
   "source": [
    "from IPython.core.interactiveshell import InteractiveShell\n",
    "InteractiveShell.ast_node_interactivity = \"all\"\n",
    "\n",
    "import benji_utils as utils\n",
    "import bbbfs_algorithms as bbbfa\n",
    "\n",
    "import networkit as nk\n",
    "import pandas as pd\n",
    "\n",
    "df = utils.df"
   ]
  },
  {
   "cell_type": "code",
   "execution_count": 2,
   "metadata": {},
   "outputs": [
    {
     "data": {
      "text/plain": [
       "<module 'bbbfs_algorithms' from '/Users/benjidayan/coding/external-validity/benji/bbbfs_algorithms.py'>"
      ]
     },
     "execution_count": 2,
     "metadata": {},
     "output_type": "execute_result"
    }
   ],
   "source": [
    "import importlib\n",
    "importlib.reload(bbbfa)"
   ]
  },
  {
   "cell_type": "code",
   "execution_count": 37,
   "metadata": {},
   "outputs": [
    {
     "data": {
      "text/plain": [
       "<module 'benji_utils' from '/Users/benjidayan/coding/external-validity/benji/benji_utils.py'>"
      ]
     },
     "execution_count": 37,
     "metadata": {},
     "output_type": "execute_result"
    }
   ],
   "source": [
    "importlib.reload(utils)\n",
    "# df = utils.graph_name_to_resultsdf('130bit')\n",
    "# df"
   ]
  },
  {
   "cell_type": "code",
   "execution_count": 23,
   "metadata": {},
   "outputs": [
    {
     "data": {
      "text/plain": [
       "<AxesSubplot:>"
      ]
     },
     "execution_count": 23,
     "metadata": {},
     "output_type": "execute_result"
    },
    {
     "data": {
      "text/plain": [
       "<AxesSubplot:>"
      ]
     },
     "execution_count": 23,
     "metadata": {},
     "output_type": "execute_result"
    },
    {
     "data": {
      "image/png": "[encoded data removed]",
      "text/plain": [
       "<Figure size 640x480 with 1 Axes>"
      ]
     },
     "metadata": {},
     "output_type": "display_data"
    }
   ],
   "source": [
    "# df.loc[(df.algo == 'VBA') & (df.graph.str.contains('_cl')),\n",
    "#        'search_space'].hist(bins=20)\n",
    "\n",
    "# df.loc[(df.algo == 'VBA') & (~df.graph.str.contains('_cl')),\n",
    "#        'search_space'].hist(bins=20)\n",
    "\n",
    "# one blocks out the other so we can't see both. Instead:\n",
    "df.loc[(df.algo == 'VBA') & (df.graph.str.contains('_cl')),\n",
    "       'search_space'].hist(bins=20, alpha=0.5)\n",
    "df.loc[(df.algo == 'VBA') & (~df.graph.str.contains('_cl')),\n",
    "       'search_space'].hist(bins=20, alpha=0.5)\n",
    "\n",
    "# same again but we force the two series to share the same bin widths\n",
    "# df.loc[(df.algo == 'VBA') & (df.graph.str.contains('_cl')),\n",
    "#        'search_space'].hist(bins=20, alpha=0.5, density=True)\n",
    "# df.loc[(df.algo == 'VBA') & (~df.graph.str.contains('_cl')),\n",
    "#        'search_space'].hist(bins=20, alpha=0.5, density=True)"
   ]
  },
  {
   "cell_type": "code",
   "execution_count": 215,
   "metadata": {},
   "outputs": [],
   "source": [
    "# plot the same for the first 6 graphs\n",
    "import numpy as np\n",
    "np.random.seed(42)\n",
    "graphs = np.random.choice(utils.input_names_real_with_cl, 1000)\n",
    "\n",
    "dfs = []\n",
    "for graph in graphs:\n",
    "    try:\n",
    "        df = utils.graph_name_to_resultsdf(graph)\n",
    "        dfs.append(df)\n",
    "    except FileNotFoundError:\n",
    "        pass"
   ]
  },
  {
   "cell_type": "code",
   "execution_count": 216,
   "metadata": {},
   "outputs": [
    {
     "data": {
      "text/html": [
       "<div>\n",
       "<style scoped>\n",
       "    .dataframe tbody tr th:only-of-type {\n",
       "        vertical-align: middle;\n",
       "    }\n",
       "\n",
       "    .dataframe tbody tr th {\n",
       "        vertical-align: top;\n",
       "    }\n",
       "\n",
       "    .dataframe thead th {\n",
       "        text-align: right;\n",
       "    }\n",
       "</style>\n",
       "<table border=\"1\" class=\"dataframe\">\n",
       "  <thead>\n",
       "    <tr style=\"text-align: right;\">\n",
       "      <th></th>\n",
       "      <th>s</th>\n",
       "      <th>t</th>\n",
       "      <th>algo</th>\n",
       "      <th>search_space</th>\n",
       "      <th>dist</th>\n",
       "      <th>time_dist</th>\n",
       "      <th>graph</th>\n",
       "    </tr>\n",
       "  </thead>\n",
       "  <tbody>\n",
       "    <tr>\n",
       "      <th>0</th>\n",
       "      <td>13</td>\n",
       "      <td>133</td>\n",
       "      <td>VBA</td>\n",
       "      <td>248</td>\n",
       "      <td>9</td>\n",
       "      <td>0.000211</td>\n",
       "      <td>DD_g699</td>\n",
       "    </tr>\n",
       "    <tr>\n",
       "      <th>1</th>\n",
       "      <td>23</td>\n",
       "      <td>31</td>\n",
       "      <td>VBA</td>\n",
       "      <td>70</td>\n",
       "      <td>6</td>\n",
       "      <td>0.000051</td>\n",
       "      <td>DD_g699</td>\n",
       "    </tr>\n",
       "    <tr>\n",
       "      <th>2</th>\n",
       "      <td>43</td>\n",
       "      <td>57</td>\n",
       "      <td>VBA</td>\n",
       "      <td>62</td>\n",
       "      <td>5</td>\n",
       "      <td>0.000046</td>\n",
       "      <td>DD_g699</td>\n",
       "    </tr>\n",
       "    <tr>\n",
       "      <th>3</th>\n",
       "      <td>66</td>\n",
       "      <td>119</td>\n",
       "      <td>VBA</td>\n",
       "      <td>153</td>\n",
       "      <td>7</td>\n",
       "      <td>0.000090</td>\n",
       "      <td>DD_g699</td>\n",
       "    </tr>\n",
       "    <tr>\n",
       "      <th>4</th>\n",
       "      <td>53</td>\n",
       "      <td>80</td>\n",
       "      <td>VBA</td>\n",
       "      <td>230</td>\n",
       "      <td>8</td>\n",
       "      <td>0.000118</td>\n",
       "      <td>DD_g699</td>\n",
       "    </tr>\n",
       "  </tbody>\n",
       "</table>\n",
       "</div>"
      ],
      "text/plain": [
       "    s    t algo  search_space  dist  time_dist    graph\n",
       "0  13  133  VBA           248     9   0.000211  DD_g699\n",
       "1  23   31  VBA            70     6   0.000051  DD_g699\n",
       "2  43   57  VBA            62     5   0.000046  DD_g699\n",
       "3  66  119  VBA           153     7   0.000090  DD_g699\n",
       "4  53   80  VBA           230     8   0.000118  DD_g699"
      ]
     },
     "execution_count": 216,
     "metadata": {},
     "output_type": "execute_result"
    }
   ],
   "source": [
    "df = pd.concat(dfs)\n",
    "df.head()"
   ]
  },
  {
   "cell_type": "code",
   "execution_count": 218,
   "metadata": {},
   "outputs": [],
   "source": [
    "graph_algo_medians = df.groupby(['graph', 'algo']).search_space.median()\n",
    "graph_algo_medians = graph_algo_medians.reset_index()\n",
    "graph_algo_medians = pd.merge(graph_algo_medians, utils.df_stats.loc[:, ['graph', 'm']], on='graph', how='left')\n",
    "# transfer .m from graph X to graph X_cl\n",
    "graph_algo_medians.loc[graph_algo_medians.graph.str.contains('_cl'), 'm'] = graph_algo_medians.loc[~graph_algo_medians.graph.str.contains('_cl'), 'm'].values"
   ]
  },
  {
   "cell_type": "code",
   "execution_count": 219,
   "metadata": {},
   "outputs": [],
   "source": [
    "graph_algo_medians['search_space_fraction'] = graph_algo_medians['search_space'] / graph_algo_medians['m']"
   ]
  },
  {
   "cell_type": "code",
   "execution_count": 220,
   "metadata": {},
   "outputs": [
    {
     "data": {
      "text/html": [
       "<div>\n",
       "<style scoped>\n",
       "    .dataframe tbody tr th:only-of-type {\n",
       "        vertical-align: middle;\n",
       "    }\n",
       "\n",
       "    .dataframe tbody tr th {\n",
       "        vertical-align: top;\n",
       "    }\n",
       "\n",
       "    .dataframe thead th {\n",
       "        text-align: right;\n",
       "    }\n",
       "</style>\n",
       "<table border=\"1\" class=\"dataframe\">\n",
       "  <thead>\n",
       "    <tr style=\"text-align: right;\">\n",
       "      <th></th>\n",
       "      <th>graph</th>\n",
       "      <th>algo</th>\n",
       "      <th>search_space</th>\n",
       "      <th>m</th>\n",
       "      <th>search_space_fraction</th>\n",
       "    </tr>\n",
       "  </thead>\n",
       "  <tbody>\n",
       "    <tr>\n",
       "      <th>0</th>\n",
       "      <td>145bit</td>\n",
       "      <td>EBA</td>\n",
       "      <td>23.0</td>\n",
       "      <td>11251.0</td>\n",
       "      <td>0.002044</td>\n",
       "    </tr>\n",
       "    <tr>\n",
       "      <th>1</th>\n",
       "      <td>145bit</td>\n",
       "      <td>VBA</td>\n",
       "      <td>25.0</td>\n",
       "      <td>11251.0</td>\n",
       "      <td>0.002222</td>\n",
       "    </tr>\n",
       "    <tr>\n",
       "      <th>2</th>\n",
       "      <td>145bit</td>\n",
       "      <td>VBDE</td>\n",
       "      <td>25.0</td>\n",
       "      <td>11251.0</td>\n",
       "      <td>0.002222</td>\n",
       "    </tr>\n",
       "    <tr>\n",
       "      <th>3</th>\n",
       "      <td>145bit</td>\n",
       "      <td>VBSQ</td>\n",
       "      <td>1642.0</td>\n",
       "      <td>11251.0</td>\n",
       "      <td>0.145943</td>\n",
       "    </tr>\n",
       "    <tr>\n",
       "      <th>4</th>\n",
       "      <td>145bit_cl</td>\n",
       "      <td>EBA</td>\n",
       "      <td>20.0</td>\n",
       "      <td>11251.0</td>\n",
       "      <td>0.001778</td>\n",
       "    </tr>\n",
       "    <tr>\n",
       "      <th>5</th>\n",
       "      <td>145bit_cl</td>\n",
       "      <td>VBA</td>\n",
       "      <td>22.0</td>\n",
       "      <td>11251.0</td>\n",
       "      <td>0.001955</td>\n",
       "    </tr>\n",
       "    <tr>\n",
       "      <th>6</th>\n",
       "      <td>145bit_cl</td>\n",
       "      <td>VBDE</td>\n",
       "      <td>22.0</td>\n",
       "      <td>11251.0</td>\n",
       "      <td>0.001955</td>\n",
       "    </tr>\n",
       "    <tr>\n",
       "      <th>7</th>\n",
       "      <td>145bit_cl</td>\n",
       "      <td>VBSQ</td>\n",
       "      <td>1974.0</td>\n",
       "      <td>11251.0</td>\n",
       "      <td>0.175451</td>\n",
       "    </tr>\n",
       "    <tr>\n",
       "      <th>8</th>\n",
       "      <td>176bit</td>\n",
       "      <td>EBA</td>\n",
       "      <td>27.0</td>\n",
       "      <td>82204.0</td>\n",
       "      <td>0.000328</td>\n",
       "    </tr>\n",
       "    <tr>\n",
       "      <th>9</th>\n",
       "      <td>176bit</td>\n",
       "      <td>VBA</td>\n",
       "      <td>23.0</td>\n",
       "      <td>82204.0</td>\n",
       "      <td>0.000280</td>\n",
       "    </tr>\n",
       "    <tr>\n",
       "      <th>10</th>\n",
       "      <td>176bit</td>\n",
       "      <td>VBDE</td>\n",
       "      <td>23.0</td>\n",
       "      <td>82204.0</td>\n",
       "      <td>0.000280</td>\n",
       "    </tr>\n",
       "    <tr>\n",
       "      <th>11</th>\n",
       "      <td>176bit</td>\n",
       "      <td>VBSQ</td>\n",
       "      <td>8236.0</td>\n",
       "      <td>82204.0</td>\n",
       "      <td>0.100190</td>\n",
       "    </tr>\n",
       "    <tr>\n",
       "      <th>12</th>\n",
       "      <td>176bit_cl</td>\n",
       "      <td>EBA</td>\n",
       "      <td>65.0</td>\n",
       "      <td>82204.0</td>\n",
       "      <td>0.000791</td>\n",
       "    </tr>\n",
       "    <tr>\n",
       "      <th>13</th>\n",
       "      <td>176bit_cl</td>\n",
       "      <td>VBA</td>\n",
       "      <td>51.0</td>\n",
       "      <td>82204.0</td>\n",
       "      <td>0.000620</td>\n",
       "    </tr>\n",
       "    <tr>\n",
       "      <th>14</th>\n",
       "      <td>176bit_cl</td>\n",
       "      <td>VBDE</td>\n",
       "      <td>56.0</td>\n",
       "      <td>82204.0</td>\n",
       "      <td>0.000681</td>\n",
       "    </tr>\n",
       "    <tr>\n",
       "      <th>15</th>\n",
       "      <td>176bit_cl</td>\n",
       "      <td>VBSQ</td>\n",
       "      <td>136.0</td>\n",
       "      <td>82204.0</td>\n",
       "      <td>0.001654</td>\n",
       "    </tr>\n",
       "    <tr>\n",
       "      <th>16</th>\n",
       "      <td>192bit</td>\n",
       "      <td>EBA</td>\n",
       "      <td>30.0</td>\n",
       "      <td>154235.0</td>\n",
       "      <td>0.000195</td>\n",
       "    </tr>\n",
       "    <tr>\n",
       "      <th>17</th>\n",
       "      <td>192bit</td>\n",
       "      <td>VBA</td>\n",
       "      <td>28.0</td>\n",
       "      <td>154235.0</td>\n",
       "      <td>0.000182</td>\n",
       "    </tr>\n",
       "    <tr>\n",
       "      <th>18</th>\n",
       "      <td>192bit</td>\n",
       "      <td>VBDE</td>\n",
       "      <td>28.0</td>\n",
       "      <td>154235.0</td>\n",
       "      <td>0.000182</td>\n",
       "    </tr>\n",
       "    <tr>\n",
       "      <th>19</th>\n",
       "      <td>192bit</td>\n",
       "      <td>VBSQ</td>\n",
       "      <td>10001.5</td>\n",
       "      <td>154235.0</td>\n",
       "      <td>0.064846</td>\n",
       "    </tr>\n",
       "  </tbody>\n",
       "</table>\n",
       "</div>"
      ],
      "text/plain": [
       "        graph  algo  search_space         m  search_space_fraction\n",
       "0      145bit   EBA          23.0   11251.0               0.002044\n",
       "1      145bit   VBA          25.0   11251.0               0.002222\n",
       "2      145bit  VBDE          25.0   11251.0               0.002222\n",
       "3      145bit  VBSQ        1642.0   11251.0               0.145943\n",
       "4   145bit_cl   EBA          20.0   11251.0               0.001778\n",
       "5   145bit_cl   VBA          22.0   11251.0               0.001955\n",
       "6   145bit_cl  VBDE          22.0   11251.0               0.001955\n",
       "7   145bit_cl  VBSQ        1974.0   11251.0               0.175451\n",
       "8      176bit   EBA          27.0   82204.0               0.000328\n",
       "9      176bit   VBA          23.0   82204.0               0.000280\n",
       "10     176bit  VBDE          23.0   82204.0               0.000280\n",
       "11     176bit  VBSQ        8236.0   82204.0               0.100190\n",
       "12  176bit_cl   EBA          65.0   82204.0               0.000791\n",
       "13  176bit_cl   VBA          51.0   82204.0               0.000620\n",
       "14  176bit_cl  VBDE          56.0   82204.0               0.000681\n",
       "15  176bit_cl  VBSQ         136.0   82204.0               0.001654\n",
       "16     192bit   EBA          30.0  154235.0               0.000195\n",
       "17     192bit   VBA          28.0  154235.0               0.000182\n",
       "18     192bit  VBDE          28.0  154235.0               0.000182\n",
       "19     192bit  VBSQ       10001.5  154235.0               0.064846"
      ]
     },
     "execution_count": 220,
     "metadata": {},
     "output_type": "execute_result"
    }
   ],
   "source": [
    "graph_algo_medians.head(20)"
   ]
  },
  {
   "cell_type": "code",
   "execution_count": 221,
   "metadata": {},
   "outputs": [
    {
     "data": {
      "text/plain": [
       "<AxesSubplot:>"
      ]
     },
     "execution_count": 221,
     "metadata": {},
     "output_type": "execute_result"
    },
    {
     "data": {
      "image/png": "[encoded data removed]",
      "text/plain": [
       "<Figure size 640x480 with 1 Axes>"
      ]
     },
     "metadata": {},
     "output_type": "display_data"
    }
   ],
   "source": [
    "foo = graph_algo_medians\n",
    "foo = foo.loc[~foo.graph.str.contains('_cl')]\n",
    "foo.loc[foo.algo == 'EBA'].search_space_fraction.hist(bins=30)"
   ]
  },
  {
   "cell_type": "code",
   "execution_count": 222,
   "metadata": {},
   "outputs": [
    {
     "data": {
      "text/plain": [
       "array(['EBA', 'VBA', 'VBDE', 'VBSQ'], dtype=object)"
      ]
     },
     "execution_count": 222,
     "metadata": {},
     "output_type": "execute_result"
    }
   ],
   "source": [
    "foo.algo.unique()"
   ]
  },
  {
   "cell_type": "code",
   "execution_count": 223,
   "metadata": {},
   "outputs": [
    {
     "data": {
      "text/plain": [
       "{'EBA':                    graph algo  search_space         m  search_space_fraction\n",
       " 0                 145bit  EBA          23.0   11251.0               0.002044\n",
       " 8                 176bit  EBA          27.0   82204.0               0.000328\n",
       " 16                192bit  EBA          30.0  154235.0               0.000195\n",
       " 24                208bit  EBA          26.0  299684.0               0.000087\n",
       " 32        3D_28984_Tetra  EBA       12156.0  288684.0               0.042108\n",
       " ...                  ...  ...           ...       ...                    ...\n",
       " 6592             utm3060  EBA        9885.5   28880.0               0.342296\n",
       " 6600            vibrobox  EBA        1990.0  165250.0               0.012042\n",
       " 6608  web-indochina-2004  EBA        1535.5   47606.0               0.032254\n",
       " 6616  web-spam-detection  EBA          74.0  464959.0               0.000159\n",
       " 6624          webkb-wisc  EBA          14.0     450.0               0.031111\n",
       " \n",
       " [829 rows x 5 columns],\n",
       " 'VBA':                    graph algo  search_space         m  search_space_fraction\n",
       " 1                 145bit  VBA          25.0   11251.0               0.002222\n",
       " 9                 176bit  VBA          23.0   82204.0               0.000280\n",
       " 17                192bit  VBA          28.0  154235.0               0.000182\n",
       " 25                208bit  VBA          22.0  299684.0               0.000073\n",
       " 33        3D_28984_Tetra  VBA       11593.5  288684.0               0.040160\n",
       " ...                  ...  ...           ...       ...                    ...\n",
       " 6593             utm3060  VBA        9835.0   28880.0               0.340547\n",
       " 6601            vibrobox  VBA        1944.0  165250.0               0.011764\n",
       " 6609  web-indochina-2004  VBA        1573.5   47606.0               0.033053\n",
       " 6617  web-spam-detection  VBA         126.0  464959.0               0.000271\n",
       " 6625          webkb-wisc  VBA          16.0     450.0               0.035556\n",
       " \n",
       " [829 rows x 5 columns],\n",
       " 'VBDE':                    graph  algo  search_space         m  search_space_fraction\n",
       " 2                 145bit  VBDE          25.0   11251.0               0.002222\n",
       " 10                176bit  VBDE          23.0   82204.0               0.000280\n",
       " 18                192bit  VBDE          28.0  154235.0               0.000182\n",
       " 26                208bit  VBDE          22.0  299684.0               0.000073\n",
       " 34        3D_28984_Tetra  VBDE       17767.0  288684.0               0.061545\n",
       " ...                  ...   ...           ...       ...                    ...\n",
       " 6594             utm3060  VBDE       16187.0   28880.0               0.560492\n",
       " 6602            vibrobox  VBDE        4790.0  165250.0               0.028986\n",
       " 6610  web-indochina-2004  VBDE        3912.5   47606.0               0.082185\n",
       " 6618  web-spam-detection  VBDE         126.5  464959.0               0.000272\n",
       " 6626          webkb-wisc  VBDE          18.0     450.0               0.040000\n",
       " \n",
       " [829 rows x 5 columns],\n",
       " 'VBSQ':                    graph  algo  search_space         m  search_space_fraction\n",
       " 3                 145bit  VBSQ        1642.0   11251.0               0.145943\n",
       " 11                176bit  VBSQ        8236.0   82204.0               0.100190\n",
       " 19                192bit  VBSQ       10001.5  154235.0               0.064846\n",
       " 27                208bit  VBSQ       31955.0  299684.0               0.106629\n",
       " 35        3D_28984_Tetra  VBSQ       15793.5  288684.0               0.054709\n",
       " ...                  ...   ...           ...       ...                    ...\n",
       " 6595             utm3060  VBSQ       11692.5   28880.0               0.404865\n",
       " 6603            vibrobox  VBSQ        4600.5  165250.0               0.027840\n",
       " 6611  web-indochina-2004  VBSQ        3970.0   47606.0               0.083393\n",
       " 6619  web-spam-detection  VBSQ       29559.5  464959.0               0.063574\n",
       " 6627          webkb-wisc  VBSQ         103.0     450.0               0.228889\n",
       " \n",
       " [829 rows x 5 columns]}"
      ]
     },
     "execution_count": 223,
     "metadata": {},
     "output_type": "execute_result"
    }
   ],
   "source": [
    "foo_by_algos = {algo: foo.loc[foo.algo == algo] for algo in foo.algo.unique()}\n",
    "foo_by_algos\n",
    "ssf_by_algos = {algo: foo_by_algos[algo].search_space_fraction.reset_index(drop=True) for algo in foo.algo.unique()}"
   ]
  },
  {
   "cell_type": "code",
   "execution_count": 281,
   "metadata": {},
   "outputs": [],
   "source": [
    "idx_by_size = ssf_by_algos['VBA'].argsort()\n",
    "# ssf_by_algos['VBDE'] - ssf_by_algos['VBA']\n",
    "med_vbsq_minus_vba = ssf_by_algos['VBSQ'][idx_by_size] - ssf_by_algos['VBA'][idx_by_size]\n",
    "x = foo_by_algos['VBA'].reset_index(drop=True).m[idx_by_size]\n"
   ]
  },
  {
   "cell_type": "code",
   "execution_count": 282,
   "metadata": {},
   "outputs": [
    {
     "data": {
      "text/plain": [
       "<matplotlib.collections.PathCollection at 0x29b1e5b50>"
      ]
     },
     "execution_count": 282,
     "metadata": {},
     "output_type": "execute_result"
    },
    {
     "data": {
      "text/plain": [
       "Text(0.5, 0, 'm')"
      ]
     },
     "execution_count": 282,
     "metadata": {},
     "output_type": "execute_result"
    },
    {
     "data": {
      "text/plain": [
       "Text(0, 0.5, 'VBSQ - VBA on real graphs')"
      ]
     },
     "execution_count": 282,
     "metadata": {},
     "output_type": "execute_result"
    },
    {
     "data": {
      "image/png": "[encoded data removed]",
      "text/plain": [
       "<Figure size 640x480 with 1 Axes>"
      ]
     },
     "metadata": {},
     "output_type": "display_data"
    }
   ],
   "source": [
    "plt.scatter(x, med_vbsq_minus_vba, s=1)\n",
    "plt.xscale('log')\n",
    "plt.xlabel('m')\n",
    "plt.ylabel('VBSQ - VBA on real graphs')"
   ]
  },
  {
   "cell_type": "code",
   "execution_count": 285,
   "metadata": {},
   "outputs": [],
   "source": [
    "# plt.scatter(x[y < 0.4], y[y<0.4], s=1)\n",
    "# plt.xscale('log')\n",
    "# plt.xlabel('m')\n",
    "# plt.ylabel('VBSQ - VBA on real graphs: only points with difference < 0.4')"
   ]
  },
  {
   "cell_type": "code",
   "execution_count": 280,
   "metadata": {},
   "outputs": [
    {
     "data": {
      "text/plain": [
       "<matplotlib.collections.PathCollection at 0x29aa1a7c0>"
      ]
     },
     "execution_count": 280,
     "metadata": {},
     "output_type": "execute_result"
    },
    {
     "data": {
      "text/plain": [
       "Text(0.5, 0, 'm')"
      ]
     },
     "execution_count": 280,
     "metadata": {},
     "output_type": "execute_result"
    },
    {
     "data": {
      "text/plain": [
       "Text(0, 0.5, 'VBSQ on real graphs')"
      ]
     },
     "execution_count": 280,
     "metadata": {},
     "output_type": "execute_result"
    },
    {
     "data": {
      "image/png": "[encoded data removed]",
      "text/plain": [
       "<Figure size 640x480 with 1 Axes>"
      ]
     },
     "metadata": {},
     "output_type": "display_data"
    }
   ],
   "source": [
    "med_vbsq = ssf_by_algos['VBSQ'][idx_by_size]\n",
    "plt.scatter(x, med_vbsq, s=1)\n",
    "plt.xscale('log')\n",
    "plt.xlabel('m')\n",
    "plt.ylabel('VBSQ on real graphs')"
   ]
  },
  {
   "cell_type": "code",
   "execution_count": 323,
   "metadata": {},
   "outputs": [
    {
     "data": {
      "text/plain": [
       "0.16666666666666663"
      ]
     },
     "execution_count": 323,
     "metadata": {},
     "output_type": "execute_result"
    },
    {
     "data": {
      "text/plain": [
       "0.7343772715000731"
      ]
     },
     "execution_count": 323,
     "metadata": {},
     "output_type": "execute_result"
    },
    {
     "data": {
      "text/plain": [
       "array([0.16666667, 0.73437727])"
      ]
     },
     "execution_count": 323,
     "metadata": {},
     "output_type": "execute_result"
    }
   ],
   "source": [
    "perc = np.percentile(med_vbsq_minus_vba / med_vbsq, np.linspace(0, 100, 100))\n",
    "arr = med_vbsq_minus_vba / med_vbsq\n",
    "np.percentile(arr, 20)\n",
    "np.percentile(arr, 80)\n",
    "np.percentile(arr, [20, 80])"
   ]
  },
  {
   "cell_type": "code",
   "execution_count": 328,
   "metadata": {},
   "outputs": [
    {
     "data": {
      "text/plain": [
       "<Figure size 640x480 with 0 Axes>"
      ]
     },
     "execution_count": 328,
     "metadata": {},
     "output_type": "execute_result"
    },
    {
     "data": {
      "text/plain": [
       "Text(0.5, 0, 'search space fraction')"
      ]
     },
     "execution_count": 328,
     "metadata": {},
     "output_type": "execute_result"
    },
    {
     "data": {
      "text/plain": [
       "<AxesSubplot:>"
      ]
     },
     "execution_count": 328,
     "metadata": {},
     "output_type": "execute_result"
    },
    {
     "data": {
      "text/plain": [
       "Text(0, 0.5, 'percentile')"
      ]
     },
     "execution_count": 328,
     "metadata": {},
     "output_type": "execute_result"
    },
    {
     "data": {
      "text/plain": [
       "Text(0.5, 1.0, 'VBSQ - VBA / VBSQ on real graphs')"
      ]
     },
     "execution_count": 328,
     "metadata": {},
     "output_type": "execute_result"
    },
    {
     "data": {
      "image/png": "[encoded data removed]",
      "text/plain": [
       "<Figure size 640x480 with 2 Axes>"
      ]
     },
     "metadata": {},
     "output_type": "display_data"
    }
   ],
   "source": [
    "# hist and percentile plot of med_vbsq_minus_vba / med_vbsq all on the same axis\n",
    "import matplotlib.pyplot as plt\n",
    "plt.figure()\n",
    "_ = plt.hist(med_vbsq_minus_vba / med_vbsq, bins=100, alpha=0.5, density=True)\n",
    "_ = plt.ylabel('hist density')\n",
    "plt.xlabel('search space fraction')\n",
    "# plt.scatter([0.5, 0.5], [0, 1], color='red')\n",
    "search_fraction_for_perc = np.percentile(med_vbsq_minus_vba / med_vbsq, np.linspace(0, 100, 100))\n",
    "# plot this on the same plot but with a different scale\n",
    "\n",
    "plt.twinx()\n",
    "_ = plt.plot(search_fraction_for_perc, np.linspace(0, 1, 100), color='red')\n",
    "\n",
    "# plt.plot(4*np.percentile(med_vbsq_minus_vba / med_vbsq, np.linspace(0, 100, 100)))\n",
    "plt.ylabel('percentile')\n",
    "plt.title('VBSQ - VBA / VBSQ on real graphs')\n",
    "plt.show()"
   ]
  },
  {
   "cell_type": "code",
   "execution_count": 306,
   "metadata": {},
   "outputs": [
    {
     "data": {
      "text/plain": [
       "(array([ 16.,  17.,  17.,  41.,  96., 109.,  67.,  56.,  23.,  15.,  11.,\n",
       "         14.,  13.,  24.,  20.,  27.,  26.,  19.,  13.,  10.,  12.,  17.,\n",
       "         18.,  13.,  16.,  24.,  15.,  10.,  18.,  52.]),\n",
       " array([0.00680498, 0.03991052, 0.07301606, 0.10612161, 0.13922715,\n",
       "        0.17233269, 0.20543823, 0.23854377, 0.27164932, 0.30475486,\n",
       "        0.3378604 , 0.37096594, 0.40407148, 0.43717702, 0.47028257,\n",
       "        0.50338811, 0.53649365, 0.56959919, 0.60270473, 0.63581027,\n",
       "        0.66891582, 0.70202136, 0.7351269 , 0.76823244, 0.80133798,\n",
       "        0.83444353, 0.86754907, 0.90065461, 0.93376015, 0.96686569,\n",
       "        0.99997123]),\n",
       " <BarContainer object of 30 artists>)"
      ]
     },
     "execution_count": 306,
     "metadata": {},
     "output_type": "execute_result"
    },
    {
     "data": {
      "text/plain": [
       "Text(0.5, 1.0, 'VBSQ - VBA / VBSQ on real graphs')"
      ]
     },
     "execution_count": 306,
     "metadata": {},
     "output_type": "execute_result"
    },
    {
     "data": {
      "text/plain": [
       "Text(0.5, 0, 'search space fraction')"
      ]
     },
     "execution_count": 306,
     "metadata": {},
     "output_type": "execute_result"
    },
    {
     "data": {
      "text/plain": [
       "Text(0, 0.5, 'count (actually only 1000 graphs)')"
      ]
     },
     "execution_count": 306,
     "metadata": {},
     "output_type": "execute_result"
    },
    {
     "data": {
      "text/plain": [
       "[<matplotlib.lines.Line2D at 0x29ac5c580>]"
      ]
     },
     "execution_count": 306,
     "metadata": {},
     "output_type": "execute_result"
    },
    {
     "data": {
      "image/png": "[encoded data removed]",
      "text/plain": [
       "<Figure size 640x480 with 2 Axes>"
      ]
     },
     "metadata": {},
     "output_type": "display_data"
    }
   ],
   "source": [
    "fig, ax = plt.subplots(2)\n",
    "ax[0].hist(med_vbsq_minus_vba / med_vbsq, bins=30)\n",
    "ax[0].set_title('VBSQ - VBA / VBSQ on real graphs')\n",
    "ax[0].set_xlabel('search space fraction')\n",
    "ax[0].set_ylabel('count (actually only 1000 graphs)')\n",
    "# do a percentile plot\n",
    "ax[1].plot(4*np.percentile(med_vbsq_minus_vba / med_vbsq, np.linspace(0, 100, 100)))"
   ]
  },
  {
   "cell_type": "code",
   "execution_count": 292,
   "metadata": {},
   "outputs": [
    {
     "data": {
      "text/plain": [
       "[<matplotlib.lines.Line2D at 0x29b7355b0>]"
      ]
     },
     "execution_count": 292,
     "metadata": {},
     "output_type": "execute_result"
    },
    {
     "data": {
      "image/png": "[encoded data removed]",
      "text/plain": [
       "<Figure size 640x480 with 1 Axes>"
      ]
     },
     "metadata": {},
     "output_type": "display_data"
    }
   ],
   "source": [
    "# do a percentile plot\n",
    "plt.plot(np.percentile(med_vbsq_minus_vba / med_vbsq, np.linspace(0, 100, 100)))"
   ]
  },
  {
   "cell_type": "markdown",
   "metadata": {},
   "source": [
    "## Median runtime against deviation"
   ]
  },
  {
   "cell_type": "code",
   "execution_count": 273,
   "metadata": {},
   "outputs": [
    {
     "data": {
      "text/html": [
       "<div>\n",
       "<style scoped>\n",
       "    .dataframe tbody tr th:only-of-type {\n",
       "        vertical-align: middle;\n",
       "    }\n",
       "\n",
       "    .dataframe tbody tr th {\n",
       "        vertical-align: top;\n",
       "    }\n",
       "\n",
       "    .dataframe thead th {\n",
       "        text-align: right;\n",
       "    }\n",
       "</style>\n",
       "<table border=\"1\" class=\"dataframe\">\n",
       "  <thead>\n",
       "    <tr style=\"text-align: right;\">\n",
       "      <th></th>\n",
       "      <th>graph</th>\n",
       "      <th>algo</th>\n",
       "      <th>search_space</th>\n",
       "      <th>m</th>\n",
       "      <th>search_space_fraction</th>\n",
       "    </tr>\n",
       "  </thead>\n",
       "  <tbody>\n",
       "    <tr>\n",
       "      <th>0</th>\n",
       "      <td>145bit</td>\n",
       "      <td>EBA</td>\n",
       "      <td>23.0</td>\n",
       "      <td>11251.0</td>\n",
       "      <td>0.002044</td>\n",
       "    </tr>\n",
       "    <tr>\n",
       "      <th>1</th>\n",
       "      <td>145bit</td>\n",
       "      <td>VBA</td>\n",
       "      <td>25.0</td>\n",
       "      <td>11251.0</td>\n",
       "      <td>0.002222</td>\n",
       "    </tr>\n",
       "    <tr>\n",
       "      <th>2</th>\n",
       "      <td>145bit</td>\n",
       "      <td>VBDE</td>\n",
       "      <td>25.0</td>\n",
       "      <td>11251.0</td>\n",
       "      <td>0.002222</td>\n",
       "    </tr>\n",
       "    <tr>\n",
       "      <th>3</th>\n",
       "      <td>145bit</td>\n",
       "      <td>VBSQ</td>\n",
       "      <td>1642.0</td>\n",
       "      <td>11251.0</td>\n",
       "      <td>0.145943</td>\n",
       "    </tr>\n",
       "    <tr>\n",
       "      <th>4</th>\n",
       "      <td>145bit_cl</td>\n",
       "      <td>EBA</td>\n",
       "      <td>20.0</td>\n",
       "      <td>11251.0</td>\n",
       "      <td>0.001778</td>\n",
       "    </tr>\n",
       "    <tr>\n",
       "      <th>...</th>\n",
       "      <td>...</td>\n",
       "      <td>...</td>\n",
       "      <td>...</td>\n",
       "      <td>...</td>\n",
       "      <td>...</td>\n",
       "    </tr>\n",
       "    <tr>\n",
       "      <th>6627</th>\n",
       "      <td>webkb-wisc</td>\n",
       "      <td>VBSQ</td>\n",
       "      <td>103.0</td>\n",
       "      <td>450.0</td>\n",
       "      <td>0.228889</td>\n",
       "    </tr>\n",
       "    <tr>\n",
       "      <th>6628</th>\n",
       "      <td>webkb-wisc_cl</td>\n",
       "      <td>EBA</td>\n",
       "      <td>22.0</td>\n",
       "      <td>450.0</td>\n",
       "      <td>0.048889</td>\n",
       "    </tr>\n",
       "    <tr>\n",
       "      <th>6629</th>\n",
       "      <td>webkb-wisc_cl</td>\n",
       "      <td>VBA</td>\n",
       "      <td>21.0</td>\n",
       "      <td>450.0</td>\n",
       "      <td>0.046667</td>\n",
       "    </tr>\n",
       "    <tr>\n",
       "      <th>6630</th>\n",
       "      <td>webkb-wisc_cl</td>\n",
       "      <td>VBDE</td>\n",
       "      <td>24.0</td>\n",
       "      <td>450.0</td>\n",
       "      <td>0.053333</td>\n",
       "    </tr>\n",
       "    <tr>\n",
       "      <th>6631</th>\n",
       "      <td>webkb-wisc_cl</td>\n",
       "      <td>VBSQ</td>\n",
       "      <td>49.0</td>\n",
       "      <td>450.0</td>\n",
       "      <td>0.108889</td>\n",
       "    </tr>\n",
       "  </tbody>\n",
       "</table>\n",
       "<p>6632 rows × 5 columns</p>\n",
       "</div>"
      ],
      "text/plain": [
       "              graph  algo  search_space        m  search_space_fraction\n",
       "0            145bit   EBA          23.0  11251.0               0.002044\n",
       "1            145bit   VBA          25.0  11251.0               0.002222\n",
       "2            145bit  VBDE          25.0  11251.0               0.002222\n",
       "3            145bit  VBSQ        1642.0  11251.0               0.145943\n",
       "4         145bit_cl   EBA          20.0  11251.0               0.001778\n",
       "...             ...   ...           ...      ...                    ...\n",
       "6627     webkb-wisc  VBSQ         103.0    450.0               0.228889\n",
       "6628  webkb-wisc_cl   EBA          22.0    450.0               0.048889\n",
       "6629  webkb-wisc_cl   VBA          21.0    450.0               0.046667\n",
       "6630  webkb-wisc_cl  VBDE          24.0    450.0               0.053333\n",
       "6631  webkb-wisc_cl  VBSQ          49.0    450.0               0.108889\n",
       "\n",
       "[6632 rows x 5 columns]"
      ]
     },
     "execution_count": 273,
     "metadata": {},
     "output_type": "execute_result"
    }
   ],
   "source": [
    "graph_algo_medians"
   ]
  },
  {
   "cell_type": "code",
   "execution_count": 274,
   "metadata": {},
   "outputs": [],
   "source": [
    "a = graph_algo_medians.loc[~graph_algo_medians.graph.str.contains('_cl')]\n",
    "b = graph_algo_medians.loc[graph_algo_medians.graph.str.contains('_cl')]\n",
    "a = a.reset_index(drop=True)\n",
    "b = b.reset_index(drop=True)\n",
    "c = a.loc[a.algo == 'VBA'].search_space_fraction - b.loc[b.algo == 'VBA'].search_space_fraction\n",
    "d = a.loc[a.algo == 'VBA'].m"
   ]
  },
  {
   "cell_type": "code",
   "execution_count": 275,
   "metadata": {},
   "outputs": [
    {
     "data": {
      "text/plain": [
       "<matplotlib.collections.PathCollection at 0x29abcb670>"
      ]
     },
     "execution_count": 275,
     "metadata": {},
     "output_type": "execute_result"
    },
    {
     "data": {
      "text/plain": [
       "Text(0.5, 0, 'm')"
      ]
     },
     "execution_count": 275,
     "metadata": {},
     "output_type": "execute_result"
    },
    {
     "data": {
      "text/plain": [
       "Text(0, 0.5, 'search space fraction difference - VBA real - VBA CL counterpart')"
      ]
     },
     "execution_count": 275,
     "metadata": {},
     "output_type": "execute_result"
    },
    {
     "data": {
      "text/plain": [
       "<Figure size 640x480 with 0 Axes>"
      ]
     },
     "execution_count": 275,
     "metadata": {},
     "output_type": "execute_result"
    },
    {
     "data": {
      "text/plain": [
       "[<matplotlib.lines.Line2D at 0x29ac22b80>]"
      ]
     },
     "execution_count": 275,
     "metadata": {},
     "output_type": "execute_result"
    },
    {
     "data": {
      "text/plain": [
       "Text(0.5, 0, 'percentile')"
      ]
     },
     "execution_count": 275,
     "metadata": {},
     "output_type": "execute_result"
    },
    {
     "data": {
      "text/plain": [
       "Text(0, 0.5, 'search space fraction difference - VBA real - VBA CL counterpart')"
      ]
     },
     "execution_count": 275,
     "metadata": {},
     "output_type": "execute_result"
    },
    {
     "data": {
      "image/png": "[encoded data removed]",
      "text/plain": [
       "<Figure size 640x480 with 1 Axes>"
      ]
     },
     "metadata": {},
     "output_type": "display_data"
    },
    {
     "data": {
      "image/png": "[encoded data removed]",
      "text/plain": [
       "<Figure size 640x480 with 1 Axes>"
      ]
     },
     "metadata": {},
     "output_type": "display_data"
    }
   ],
   "source": [
    "plt.scatter(d, c, s=1)\n",
    "# plt.scatter(rand_jitter(d), c)\n",
    "plt.xlabel('m')\n",
    "plt.ylabel('search space fraction difference - VBA real - VBA CL counterpart')\n",
    "plt.xscale('log')\n",
    "\n",
    "plt.figure()\n",
    "\n",
    "# c percentile plot\n",
    "plt.plot(np.percentile(c, np.linspace(0, 100, 100)))\n",
    "plt.xlabel('percentile')\n",
    "plt.ylabel('search space fraction difference - VBA real - VBA CL counterpart')"
   ]
  },
  {
   "cell_type": "code",
   "execution_count": 276,
   "metadata": {},
   "outputs": [],
   "source": [
    "c2, y2 = c.reset_index(), y.reset_index()"
   ]
  },
  {
   "cell_type": "code",
   "execution_count": 278,
   "metadata": {},
   "outputs": [
    {
     "data": {
      "text/plain": [
       "<matplotlib.collections.PathCollection at 0x29ada51f0>"
      ]
     },
     "execution_count": 278,
     "metadata": {},
     "output_type": "execute_result"
    },
    {
     "data": {
      "text/plain": [
       "(-0.1, 1.0)"
      ]
     },
     "execution_count": 278,
     "metadata": {},
     "output_type": "execute_result"
    },
    {
     "data": {
      "text/plain": [
       "Text(0.5, 0, 'search space fraction difference - VBA real - VBA CL counterpart')"
      ]
     },
     "execution_count": 278,
     "metadata": {},
     "output_type": "execute_result"
    },
    {
     "data": {
      "text/plain": [
       "Text(0, 0.5, 'VBSQ - VBA on real graphs')"
      ]
     },
     "execution_count": 278,
     "metadata": {},
     "output_type": "execute_result"
    },
    {
     "data": {
      "image/png": "[encoded data removed]",
      "text/plain": [
       "<Figure size 640x480 with 1 Axes>"
      ]
     },
     "metadata": {},
     "output_type": "display_data"
    }
   ],
   "source": [
    "plt.scatter(c2[y2<0.15], y2[y2<0.15], s=1)\n",
    "plt.xlim(-0.1, 1)\n",
    "plt.xlabel('search space fraction difference - VBA real - VBA CL counterpart')\n",
    "plt.ylabel('VBSQ - VBA on real graphs')"
   ]
  },
  {
   "cell_type": "code",
   "execution_count": 266,
   "metadata": {},
   "outputs": [
    {
     "data": {
      "text/plain": [
       "index                      1\n",
       "search_space_fraction    721\n",
       "dtype: int64"
      ]
     },
     "execution_count": 266,
     "metadata": {},
     "output_type": "execute_result"
    }
   ],
   "source": [
    "(y2<0.1).sum()"
   ]
  },
  {
   "cell_type": "code",
   "execution_count": 247,
   "metadata": {},
   "outputs": [
    {
     "data": {
      "text/plain": [
       "(array([316.,  24.,  12.,  16.,  23.,  27.,  65.,  91.,  78.,  62.,  24.,\n",
       "         17.,  11.,  11.,   6.,   7.,   9.,   4.,   7.,   3.,   2.,   0.,\n",
       "          1.,   2.,   0.,   1.,   2.,   2.,   0.,   6.]),\n",
       " array([-0.01111111,  0.02364294,  0.05839699,  0.09315103,  0.12790508,\n",
       "         0.16265913,  0.19741318,  0.23216723,  0.26692128,  0.30167533,\n",
       "         0.33642938,  0.37118342,  0.40593747,  0.44069152,  0.47544557,\n",
       "         0.51019962,  0.54495367,  0.57970772,  0.61446176,  0.64921581,\n",
       "         0.68396986,  0.71872391,  0.75347796,  0.78823201,  0.82298606,\n",
       "         0.8577401 ,  0.89249415,  0.9272482 ,  0.96200225,  0.9967563 ,\n",
       "         1.03151035]),\n",
       " <BarContainer object of 30 artists>)"
      ]
     },
     "execution_count": 247,
     "metadata": {},
     "output_type": "execute_result"
    },
    {
     "data": {
      "image/png": "[encoded data removed]",
      "text/plain": [
       "<Figure size 640x480 with 1 Axes>"
      ]
     },
     "metadata": {},
     "output_type": "display_data"
    }
   ],
   "source": [
    "plt.hist(c, bins=30)"
   ]
  },
  {
   "cell_type": "code",
   "execution_count": 248,
   "metadata": {},
   "outputs": [
    {
     "data": {
      "text/plain": [
       "(array([727.,  50.,  18.,  11.,   3.,   5.,   3.,   1.,   0.,   1.,   1.,\n",
       "          0.,   3.,   1.,   1.,   0.,   1.,   0.,   0.,   0.,   0.,   0.,\n",
       "          0.,   1.,   1.,   0.,   0.,   0.,   0.,   1.]),\n",
       " array([0.        , 0.10446324, 0.20892648, 0.31338972, 0.41785296,\n",
       "        0.52231619, 0.62677943, 0.73124267, 0.83570591, 0.94016915,\n",
       "        1.04463239, 1.14909563, 1.25355887, 1.35802211, 1.46248534,\n",
       "        1.56694858, 1.67141182, 1.77587506, 1.8803383 , 1.98480154,\n",
       "        2.08926478, 2.19372802, 2.29819126, 2.40265449, 2.50711773,\n",
       "        2.61158097, 2.71604421, 2.82050745, 2.92497069, 3.02943393,\n",
       "        3.13389717]),\n",
       " <BarContainer object of 30 artists>)"
      ]
     },
     "execution_count": 248,
     "metadata": {},
     "output_type": "execute_result"
    },
    {
     "data": {
      "image/png": "[encoded data removed]",
      "text/plain": [
       "<Figure size 640x480 with 1 Axes>"
      ]
     },
     "metadata": {},
     "output_type": "display_data"
    }
   ],
   "source": [
    "plt.hist(y, bins=30)"
   ]
  },
  {
   "cell_type": "code",
   "execution_count": 185,
   "metadata": {},
   "outputs": [
    {
     "data": {
      "text/plain": [
       "1       0.001955\n",
       "5       0.001498\n",
       "9       0.013619\n",
       "13      0.008439\n",
       "17      0.022246\n",
       "          ...   \n",
       "1097    0.000199\n",
       "1101    0.008015\n",
       "1105    0.000183\n",
       "1109    0.003084\n",
       "1113    0.001173\n",
       "Name: search_space_fraction, Length: 279, dtype: float64"
      ]
     },
     "execution_count": 185,
     "metadata": {},
     "output_type": "execute_result"
    }
   ],
   "source": [
    "a.loc[a.algo == 'VBA'].search_space_fraction"
   ]
  },
  {
   "cell_type": "code",
   "execution_count": 186,
   "metadata": {},
   "outputs": [
    {
     "data": {
      "text/plain": [
       "1       0.002222\n",
       "5       0.001475\n",
       "9       0.005837\n",
       "13      0.321378\n",
       "17      0.305085\n",
       "          ...   \n",
       "1097    0.000028\n",
       "1101    0.013255\n",
       "1105    0.002174\n",
       "1109    0.013325\n",
       "1113    0.919441\n",
       "Name: search_space_fraction, Length: 279, dtype: float64"
      ]
     },
     "execution_count": 186,
     "metadata": {},
     "output_type": "execute_result"
    }
   ],
   "source": [
    "b.loc[b.algo == 'VBA'].search_space_fraction"
   ]
  },
  {
   "cell_type": "code",
   "execution_count": 179,
   "metadata": {},
   "outputs": [
    {
     "data": {
      "text/plain": [
       "<AxesSubplot:>"
      ]
     },
     "execution_count": 179,
     "metadata": {},
     "output_type": "execute_result"
    },
    {
     "data": {
      "image/png": "[encoded data removed]",
      "text/plain": [
       "<Figure size 640x480 with 1 Axes>"
      ]
     },
     "metadata": {},
     "output_type": "display_data"
    }
   ],
   "source": [
    "c.loc[c > -0.1].hist(bins=20)"
   ]
  },
  {
   "cell_type": "code",
   "execution_count": 240,
   "metadata": {},
   "outputs": [
    {
     "data": {
      "text/plain": [
       "(829,)"
      ]
     },
     "execution_count": 240,
     "metadata": {},
     "output_type": "execute_result"
    }
   ],
   "source": [
    "y.shape"
   ]
  },
  {
   "cell_type": "code",
   "execution_count": 242,
   "metadata": {},
   "outputs": [
    {
     "data": {
      "text/plain": [
       "(829,)"
      ]
     },
     "execution_count": 242,
     "metadata": {},
     "output_type": "execute_result"
    }
   ],
   "source": [
    "c.shape"
   ]
  },
  {
   "cell_type": "code",
   "execution_count": 125,
   "metadata": {},
   "outputs": [
    {
     "data": {
      "text/plain": [
       "29.100000000000016"
      ]
     },
     "execution_count": 125,
     "metadata": {},
     "output_type": "execute_result"
    }
   ],
   "source": [
    "import numpy as np\n",
    "np.percentile(c, 90)"
   ]
  },
  {
   "cell_type": "code",
   "execution_count": 122,
   "metadata": {},
   "outputs": [
    {
     "data": {
      "text/plain": [
       "<AxesSubplot:>"
      ]
     },
     "execution_count": 122,
     "metadata": {},
     "output_type": "execute_result"
    },
    {
     "data": {
      "image/png": "[encoded data removed]",
      "text/plain": [
       "<Figure size 640x480 with 1 Axes>"
      ]
     },
     "metadata": {},
     "output_type": "display_data"
    }
   ],
   "source": [
    "c.hist(bins)"
   ]
  },
  {
   "cell_type": "markdown",
   "metadata": {},
   "source": [
    "## GIRGs investigation"
   ]
  },
  {
   "cell_type": "code",
   "execution_count": 107,
   "metadata": {},
   "outputs": [
    {
     "data": {
      "text/plain": [
       "['girg_n=50000_deg=10_dim=2_ple=2.1_T=0.0_seed=321',\n",
       " 'girg_n=50000_deg=10_dim=2_ple=2.1_T=0.0_seed=321_square',\n",
       " 'girg_n=50000_deg=10_dim=2_ple=2.1_T=0.0_seed=356',\n",
       " 'girg_n=50000_deg=10_dim=2_ple=2.1_T=0.0_seed=356_square',\n",
       " 'girg_n=50000_deg=10_dim=2_ple=2.1_T=0.0_seed=489',\n",
       " 'girg_n=50000_deg=10_dim=2_ple=2.1_T=0.0_seed=489_square',\n",
       " 'girg_n=50000_deg=10_dim=2_ple=2.1_T=0.0_seed=64',\n",
       " 'girg_n=50000_deg=10_dim=2_ple=2.1_T=0.0_seed=64_square',\n",
       " 'girg_n=50000_deg=10_dim=2_ple=2.1_T=0.0_seed=836',\n",
       " 'girg_n=50000_deg=10_dim=2_ple=2.1_T=0.0_seed=836_square',\n",
       " 'girg_n=50000_deg=10_dim=2_ple=2.1_T=0.4_seed=321',\n",
       " 'girg_n=50000_deg=10_dim=2_ple=2.1_T=0.4_seed=321_square',\n",
       " 'girg_n=50000_deg=10_dim=2_ple=2.1_T=0.4_seed=356',\n",
       " 'girg_n=50000_deg=10_dim=2_ple=2.1_T=0.4_seed=356_square',\n",
       " 'girg_n=50000_deg=10_dim=2_ple=2.1_T=0.4_seed=489',\n",
       " 'girg_n=50000_deg=10_dim=2_ple=2.1_T=0.4_seed=489_square',\n",
       " 'girg_n=50000_deg=10_dim=2_ple=2.1_T=0.4_seed=64',\n",
       " 'girg_n=50000_deg=10_dim=2_ple=2.1_T=0.4_seed=64_square',\n",
       " 'girg_n=50000_deg=10_dim=2_ple=2.1_T=0.4_seed=836',\n",
       " 'girg_n=50000_deg=10_dim=2_ple=2.1_T=0.4_seed=836_square',\n",
       " 'girg_n=50000_deg=10_dim=2_ple=2.1_T=0.53_seed=321',\n",
       " 'girg_n=50000_deg=10_dim=2_ple=2.1_T=0.53_seed=321_square',\n",
       " 'girg_n=50000_deg=10_dim=2_ple=2.1_T=0.53_seed=356',\n",
       " 'girg_n=50000_deg=10_dim=2_ple=2.1_T=0.53_seed=356_square',\n",
       " 'girg_n=50000_deg=10_dim=2_ple=2.1_T=0.53_seed=489',\n",
       " 'girg_n=50000_deg=10_dim=2_ple=2.1_T=0.53_seed=489_square',\n",
       " 'girg_n=50000_deg=10_dim=2_ple=2.1_T=0.53_seed=64',\n",
       " 'girg_n=50000_deg=10_dim=2_ple=2.1_T=0.53_seed=64_square',\n",
       " 'girg_n=50000_deg=10_dim=2_ple=2.1_T=0.53_seed=836',\n",
       " 'girg_n=50000_deg=10_dim=2_ple=2.1_T=0.53_seed=836_square',\n",
       " 'girg_n=50000_deg=10_dim=2_ple=2.1_T=0.62_seed=321',\n",
       " 'girg_n=50000_deg=10_dim=2_ple=2.1_T=0.62_seed=321_square',\n",
       " 'girg_n=50000_deg=10_dim=2_ple=2.1_T=0.62_seed=356',\n",
       " 'girg_n=50000_deg=10_dim=2_ple=2.1_T=0.62_seed=356_square',\n",
       " 'girg_n=50000_deg=10_dim=2_ple=2.1_T=0.62_seed=489',\n",
       " 'girg_n=50000_deg=10_dim=2_ple=2.1_T=0.62_seed=489_square',\n",
       " 'girg_n=50000_deg=10_dim=2_ple=2.1_T=0.62_seed=64',\n",
       " 'girg_n=50000_deg=10_dim=2_ple=2.1_T=0.62_seed=64_square',\n",
       " 'girg_n=50000_deg=10_dim=2_ple=2.1_T=0.62_seed=836',\n",
       " 'girg_n=50000_deg=10_dim=2_ple=2.1_T=0.62_seed=836_square',\n",
       " 'girg_n=50000_deg=10_dim=2_ple=2.1_T=0.76_seed=321',\n",
       " 'girg_n=50000_deg=10_dim=2_ple=2.1_T=0.76_seed=321_square',\n",
       " 'girg_n=50000_deg=10_dim=2_ple=2.1_T=0.76_seed=356',\n",
       " 'girg_n=50000_deg=10_dim=2_ple=2.1_T=0.76_seed=356_square',\n",
       " 'girg_n=50000_deg=10_dim=2_ple=2.1_T=0.76_seed=489',\n",
       " 'girg_n=50000_deg=10_dim=2_ple=2.1_T=0.76_seed=489_square',\n",
       " 'girg_n=50000_deg=10_dim=2_ple=2.1_T=0.76_seed=64',\n",
       " 'girg_n=50000_deg=10_dim=2_ple=2.1_T=0.76_seed=64_square',\n",
       " 'girg_n=50000_deg=10_dim=2_ple=2.1_T=0.76_seed=836',\n",
       " 'girg_n=50000_deg=10_dim=2_ple=2.1_T=0.76_seed=836_square',\n",
       " 'girg_n=50000_deg=10_dim=2_ple=2.1_T=0.7_seed=321',\n",
       " 'girg_n=50000_deg=10_dim=2_ple=2.1_T=0.7_seed=321_square',\n",
       " 'girg_n=50000_deg=10_dim=2_ple=2.1_T=0.7_seed=356',\n",
       " 'girg_n=50000_deg=10_dim=2_ple=2.1_T=0.7_seed=356_square',\n",
       " 'girg_n=50000_deg=10_dim=2_ple=2.1_T=0.7_seed=489',\n",
       " 'girg_n=50000_deg=10_dim=2_ple=2.1_T=0.7_seed=489_square',\n",
       " 'girg_n=50000_deg=10_dim=2_ple=2.1_T=0.7_seed=64',\n",
       " 'girg_n=50000_deg=10_dim=2_ple=2.1_T=0.7_seed=64_square',\n",
       " 'girg_n=50000_deg=10_dim=2_ple=2.1_T=0.7_seed=836',\n",
       " 'girg_n=50000_deg=10_dim=2_ple=2.1_T=0.7_seed=836_square',\n",
       " 'girg_n=50000_deg=10_dim=2_ple=2.1_T=0.82_seed=321',\n",
       " 'girg_n=50000_deg=10_dim=2_ple=2.1_T=0.82_seed=321_square',\n",
       " 'girg_n=50000_deg=10_dim=2_ple=2.1_T=0.82_seed=356',\n",
       " 'girg_n=50000_deg=10_dim=2_ple=2.1_T=0.82_seed=356_square',\n",
       " 'girg_n=50000_deg=10_dim=2_ple=2.1_T=0.82_seed=489',\n",
       " 'girg_n=50000_deg=10_dim=2_ple=2.1_T=0.82_seed=489_square',\n",
       " 'girg_n=50000_deg=10_dim=2_ple=2.1_T=0.82_seed=64',\n",
       " 'girg_n=50000_deg=10_dim=2_ple=2.1_T=0.82_seed=64_square',\n",
       " 'girg_n=50000_deg=10_dim=2_ple=2.1_T=0.82_seed=836',\n",
       " 'girg_n=50000_deg=10_dim=2_ple=2.1_T=0.82_seed=836_square',\n",
       " 'girg_n=50000_deg=10_dim=2_ple=2.1_T=0.88_seed=321',\n",
       " 'girg_n=50000_deg=10_dim=2_ple=2.1_T=0.88_seed=321_square',\n",
       " 'girg_n=50000_deg=10_dim=2_ple=2.1_T=0.88_seed=356',\n",
       " 'girg_n=50000_deg=10_dim=2_ple=2.1_T=0.88_seed=356_square',\n",
       " 'girg_n=50000_deg=10_dim=2_ple=2.1_T=0.88_seed=489',\n",
       " 'girg_n=50000_deg=10_dim=2_ple=2.1_T=0.88_seed=489_square',\n",
       " 'girg_n=50000_deg=10_dim=2_ple=2.1_T=0.88_seed=64',\n",
       " 'girg_n=50000_deg=10_dim=2_ple=2.1_T=0.88_seed=64_square',\n",
       " 'girg_n=50000_deg=10_dim=2_ple=2.1_T=0.88_seed=836',\n",
       " 'girg_n=50000_deg=10_dim=2_ple=2.1_T=0.88_seed=836_square',\n",
       " 'girg_n=50000_deg=10_dim=2_ple=2.1_T=0.94_seed=321',\n",
       " 'girg_n=50000_deg=10_dim=2_ple=2.1_T=0.94_seed=321_square',\n",
       " 'girg_n=50000_deg=10_dim=2_ple=2.1_T=0.94_seed=356',\n",
       " 'girg_n=50000_deg=10_dim=2_ple=2.1_T=0.94_seed=356_square',\n",
       " 'girg_n=50000_deg=10_dim=2_ple=2.1_T=0.94_seed=489',\n",
       " 'girg_n=50000_deg=10_dim=2_ple=2.1_T=0.94_seed=489_square',\n",
       " 'girg_n=50000_deg=10_dim=2_ple=2.1_T=0.94_seed=64',\n",
       " 'girg_n=50000_deg=10_dim=2_ple=2.1_T=0.94_seed=64_square',\n",
       " 'girg_n=50000_deg=10_dim=2_ple=2.1_T=0.94_seed=836',\n",
       " 'girg_n=50000_deg=10_dim=2_ple=2.1_T=0.94_seed=836_square',\n",
       " 'girg_n=50000_deg=10_dim=2_ple=2.1_T=0.9999_seed=321',\n",
       " 'girg_n=50000_deg=10_dim=2_ple=2.1_T=0.9999_seed=321_square',\n",
       " 'girg_n=50000_deg=10_dim=2_ple=2.1_T=0.9999_seed=356',\n",
       " 'girg_n=50000_deg=10_dim=2_ple=2.1_T=0.9999_seed=356_square',\n",
       " 'girg_n=50000_deg=10_dim=2_ple=2.1_T=0.9999_seed=489',\n",
       " 'girg_n=50000_deg=10_dim=2_ple=2.1_T=0.9999_seed=489_square',\n",
       " 'girg_n=50000_deg=10_dim=2_ple=2.1_T=0.9999_seed=64',\n",
       " 'girg_n=50000_deg=10_dim=2_ple=2.1_T=0.9999_seed=64_square',\n",
       " 'girg_n=50000_deg=10_dim=2_ple=2.1_T=0.9999_seed=836',\n",
       " 'girg_n=50000_deg=10_dim=2_ple=2.1_T=0.9999_seed=836_square',\n",
       " 'girg_n=50000_deg=10_dim=2_ple=2.25_T=0.0_seed=321',\n",
       " 'girg_n=50000_deg=10_dim=2_ple=2.25_T=0.0_seed=321_square',\n",
       " 'girg_n=50000_deg=10_dim=2_ple=2.25_T=0.0_seed=356',\n",
       " 'girg_n=50000_deg=10_dim=2_ple=2.25_T=0.0_seed=356_square',\n",
       " 'girg_n=50000_deg=10_dim=2_ple=2.25_T=0.0_seed=489',\n",
       " 'girg_n=50000_deg=10_dim=2_ple=2.25_T=0.0_seed=489_square',\n",
       " 'girg_n=50000_deg=10_dim=2_ple=2.25_T=0.0_seed=64',\n",
       " 'girg_n=50000_deg=10_dim=2_ple=2.25_T=0.0_seed=64_square',\n",
       " 'girg_n=50000_deg=10_dim=2_ple=2.25_T=0.0_seed=836',\n",
       " 'girg_n=50000_deg=10_dim=2_ple=2.25_T=0.0_seed=836_square',\n",
       " 'girg_n=50000_deg=10_dim=2_ple=2.25_T=0.4_seed=321',\n",
       " 'girg_n=50000_deg=10_dim=2_ple=2.25_T=0.4_seed=321_square',\n",
       " 'girg_n=50000_deg=10_dim=2_ple=2.25_T=0.4_seed=356',\n",
       " 'girg_n=50000_deg=10_dim=2_ple=2.25_T=0.4_seed=356_square',\n",
       " 'girg_n=50000_deg=10_dim=2_ple=2.25_T=0.4_seed=489',\n",
       " 'girg_n=50000_deg=10_dim=2_ple=2.25_T=0.4_seed=489_square',\n",
       " 'girg_n=50000_deg=10_dim=2_ple=2.25_T=0.4_seed=64',\n",
       " 'girg_n=50000_deg=10_dim=2_ple=2.25_T=0.4_seed=64_square',\n",
       " 'girg_n=50000_deg=10_dim=2_ple=2.25_T=0.4_seed=836',\n",
       " 'girg_n=50000_deg=10_dim=2_ple=2.25_T=0.4_seed=836_square',\n",
       " 'girg_n=50000_deg=10_dim=2_ple=2.25_T=0.53_seed=321',\n",
       " 'girg_n=50000_deg=10_dim=2_ple=2.25_T=0.53_seed=321_square',\n",
       " 'girg_n=50000_deg=10_dim=2_ple=2.25_T=0.53_seed=356',\n",
       " 'girg_n=50000_deg=10_dim=2_ple=2.25_T=0.53_seed=356_square',\n",
       " 'girg_n=50000_deg=10_dim=2_ple=2.25_T=0.53_seed=489',\n",
       " 'girg_n=50000_deg=10_dim=2_ple=2.25_T=0.53_seed=489_square',\n",
       " 'girg_n=50000_deg=10_dim=2_ple=2.25_T=0.53_seed=64',\n",
       " 'girg_n=50000_deg=10_dim=2_ple=2.25_T=0.53_seed=64_square',\n",
       " 'girg_n=50000_deg=10_dim=2_ple=2.25_T=0.53_seed=836',\n",
       " 'girg_n=50000_deg=10_dim=2_ple=2.25_T=0.53_seed=836_square',\n",
       " 'girg_n=50000_deg=10_dim=2_ple=2.25_T=0.62_seed=321',\n",
       " 'girg_n=50000_deg=10_dim=2_ple=2.25_T=0.62_seed=321_square',\n",
       " 'girg_n=50000_deg=10_dim=2_ple=2.25_T=0.62_seed=356',\n",
       " 'girg_n=50000_deg=10_dim=2_ple=2.25_T=0.62_seed=356_square',\n",
       " 'girg_n=50000_deg=10_dim=2_ple=2.25_T=0.62_seed=489',\n",
       " 'girg_n=50000_deg=10_dim=2_ple=2.25_T=0.62_seed=489_square',\n",
       " 'girg_n=50000_deg=10_dim=2_ple=2.25_T=0.62_seed=64',\n",
       " 'girg_n=50000_deg=10_dim=2_ple=2.25_T=0.62_seed=64_square',\n",
       " 'girg_n=50000_deg=10_dim=2_ple=2.25_T=0.62_seed=836',\n",
       " 'girg_n=50000_deg=10_dim=2_ple=2.25_T=0.62_seed=836_square',\n",
       " 'girg_n=50000_deg=10_dim=2_ple=2.25_T=0.76_seed=321',\n",
       " 'girg_n=50000_deg=10_dim=2_ple=2.25_T=0.76_seed=321_square',\n",
       " 'girg_n=50000_deg=10_dim=2_ple=2.25_T=0.76_seed=356',\n",
       " 'girg_n=50000_deg=10_dim=2_ple=2.25_T=0.76_seed=356_square',\n",
       " 'girg_n=50000_deg=10_dim=2_ple=2.25_T=0.76_seed=489',\n",
       " 'girg_n=50000_deg=10_dim=2_ple=2.25_T=0.76_seed=489_square',\n",
       " 'girg_n=50000_deg=10_dim=2_ple=2.25_T=0.76_seed=64',\n",
       " 'girg_n=50000_deg=10_dim=2_ple=2.25_T=0.76_seed=64_square',\n",
       " 'girg_n=50000_deg=10_dim=2_ple=2.25_T=0.76_seed=836',\n",
       " 'girg_n=50000_deg=10_dim=2_ple=2.25_T=0.76_seed=836_square',\n",
       " 'girg_n=50000_deg=10_dim=2_ple=2.25_T=0.7_seed=321',\n",
       " 'girg_n=50000_deg=10_dim=2_ple=2.25_T=0.7_seed=321_square',\n",
       " 'girg_n=50000_deg=10_dim=2_ple=2.25_T=0.7_seed=356',\n",
       " 'girg_n=50000_deg=10_dim=2_ple=2.25_T=0.7_seed=356_square',\n",
       " 'girg_n=50000_deg=10_dim=2_ple=2.25_T=0.7_seed=489',\n",
       " 'girg_n=50000_deg=10_dim=2_ple=2.25_T=0.7_seed=489_square',\n",
       " 'girg_n=50000_deg=10_dim=2_ple=2.25_T=0.7_seed=64',\n",
       " 'girg_n=50000_deg=10_dim=2_ple=2.25_T=0.7_seed=64_square',\n",
       " 'girg_n=50000_deg=10_dim=2_ple=2.25_T=0.7_seed=836',\n",
       " 'girg_n=50000_deg=10_dim=2_ple=2.25_T=0.7_seed=836_square',\n",
       " 'girg_n=50000_deg=10_dim=2_ple=2.25_T=0.82_seed=321',\n",
       " 'girg_n=50000_deg=10_dim=2_ple=2.25_T=0.82_seed=321_square',\n",
       " 'girg_n=50000_deg=10_dim=2_ple=2.25_T=0.82_seed=356',\n",
       " 'girg_n=50000_deg=10_dim=2_ple=2.25_T=0.82_seed=356_square',\n",
       " 'girg_n=50000_deg=10_dim=2_ple=2.25_T=0.82_seed=489',\n",
       " 'girg_n=50000_deg=10_dim=2_ple=2.25_T=0.82_seed=489_square',\n",
       " 'girg_n=50000_deg=10_dim=2_ple=2.25_T=0.82_seed=64',\n",
       " 'girg_n=50000_deg=10_dim=2_ple=2.25_T=0.82_seed=64_square',\n",
       " 'girg_n=50000_deg=10_dim=2_ple=2.25_T=0.82_seed=836',\n",
       " 'girg_n=50000_deg=10_dim=2_ple=2.25_T=0.82_seed=836_square',\n",
       " 'girg_n=50000_deg=10_dim=2_ple=2.25_T=0.88_seed=321',\n",
       " 'girg_n=50000_deg=10_dim=2_ple=2.25_T=0.88_seed=321_square',\n",
       " 'girg_n=50000_deg=10_dim=2_ple=2.25_T=0.88_seed=356',\n",
       " 'girg_n=50000_deg=10_dim=2_ple=2.25_T=0.88_seed=356_square',\n",
       " 'girg_n=50000_deg=10_dim=2_ple=2.25_T=0.88_seed=489',\n",
       " 'girg_n=50000_deg=10_dim=2_ple=2.25_T=0.88_seed=489_square',\n",
       " 'girg_n=50000_deg=10_dim=2_ple=2.25_T=0.88_seed=64',\n",
       " 'girg_n=50000_deg=10_dim=2_ple=2.25_T=0.88_seed=64_square',\n",
       " 'girg_n=50000_deg=10_dim=2_ple=2.25_T=0.88_seed=836',\n",
       " 'girg_n=50000_deg=10_dim=2_ple=2.25_T=0.88_seed=836_square',\n",
       " 'girg_n=50000_deg=10_dim=2_ple=2.25_T=0.94_seed=321',\n",
       " 'girg_n=50000_deg=10_dim=2_ple=2.25_T=0.94_seed=321_square',\n",
       " 'girg_n=50000_deg=10_dim=2_ple=2.25_T=0.94_seed=356',\n",
       " 'girg_n=50000_deg=10_dim=2_ple=2.25_T=0.94_seed=356_square',\n",
       " 'girg_n=50000_deg=10_dim=2_ple=2.25_T=0.94_seed=489',\n",
       " 'girg_n=50000_deg=10_dim=2_ple=2.25_T=0.94_seed=489_square',\n",
       " 'girg_n=50000_deg=10_dim=2_ple=2.25_T=0.94_seed=64',\n",
       " 'girg_n=50000_deg=10_dim=2_ple=2.25_T=0.94_seed=64_square',\n",
       " 'girg_n=50000_deg=10_dim=2_ple=2.25_T=0.94_seed=836',\n",
       " 'girg_n=50000_deg=10_dim=2_ple=2.25_T=0.94_seed=836_square',\n",
       " 'girg_n=50000_deg=10_dim=2_ple=2.25_T=0.9999_seed=321',\n",
       " 'girg_n=50000_deg=10_dim=2_ple=2.25_T=0.9999_seed=321_square',\n",
       " 'girg_n=50000_deg=10_dim=2_ple=2.25_T=0.9999_seed=356',\n",
       " 'girg_n=50000_deg=10_dim=2_ple=2.25_T=0.9999_seed=356_square',\n",
       " 'girg_n=50000_deg=10_dim=2_ple=2.25_T=0.9999_seed=489',\n",
       " 'girg_n=50000_deg=10_dim=2_ple=2.25_T=0.9999_seed=489_square',\n",
       " 'girg_n=50000_deg=10_dim=2_ple=2.25_T=0.9999_seed=64',\n",
       " 'girg_n=50000_deg=10_dim=2_ple=2.25_T=0.9999_seed=64_square',\n",
       " 'girg_n=50000_deg=10_dim=2_ple=2.25_T=0.9999_seed=836',\n",
       " 'girg_n=50000_deg=10_dim=2_ple=2.25_T=0.9999_seed=836_square',\n",
       " 'girg_n=50000_deg=10_dim=2_ple=2.4_T=0.0_seed=321',\n",
       " 'girg_n=50000_deg=10_dim=2_ple=2.4_T=0.0_seed=321_square',\n",
       " 'girg_n=50000_deg=10_dim=2_ple=2.4_T=0.0_seed=356',\n",
       " 'girg_n=50000_deg=10_dim=2_ple=2.4_T=0.0_seed=356_square',\n",
       " 'girg_n=50000_deg=10_dim=2_ple=2.4_T=0.0_seed=489',\n",
       " 'girg_n=50000_deg=10_dim=2_ple=2.4_T=0.0_seed=489_square',\n",
       " 'girg_n=50000_deg=10_dim=2_ple=2.4_T=0.0_seed=64',\n",
       " 'girg_n=50000_deg=10_dim=2_ple=2.4_T=0.0_seed=64_square',\n",
       " 'girg_n=50000_deg=10_dim=2_ple=2.4_T=0.0_seed=836',\n",
       " 'girg_n=50000_deg=10_dim=2_ple=2.4_T=0.0_seed=836_square',\n",
       " 'girg_n=50000_deg=10_dim=2_ple=2.4_T=0.4_seed=321',\n",
       " 'girg_n=50000_deg=10_dim=2_ple=2.4_T=0.4_seed=321_square',\n",
       " 'girg_n=50000_deg=10_dim=2_ple=2.4_T=0.4_seed=356',\n",
       " 'girg_n=50000_deg=10_dim=2_ple=2.4_T=0.4_seed=356_square',\n",
       " 'girg_n=50000_deg=10_dim=2_ple=2.4_T=0.4_seed=489',\n",
       " 'girg_n=50000_deg=10_dim=2_ple=2.4_T=0.4_seed=489_square',\n",
       " 'girg_n=50000_deg=10_dim=2_ple=2.4_T=0.4_seed=64',\n",
       " 'girg_n=50000_deg=10_dim=2_ple=2.4_T=0.4_seed=64_square',\n",
       " 'girg_n=50000_deg=10_dim=2_ple=2.4_T=0.4_seed=836',\n",
       " 'girg_n=50000_deg=10_dim=2_ple=2.4_T=0.4_seed=836_square',\n",
       " 'girg_n=50000_deg=10_dim=2_ple=2.4_T=0.53_seed=321',\n",
       " 'girg_n=50000_deg=10_dim=2_ple=2.4_T=0.53_seed=321_square',\n",
       " 'girg_n=50000_deg=10_dim=2_ple=2.4_T=0.53_seed=356',\n",
       " 'girg_n=50000_deg=10_dim=2_ple=2.4_T=0.53_seed=356_square',\n",
       " 'girg_n=50000_deg=10_dim=2_ple=2.4_T=0.53_seed=489',\n",
       " 'girg_n=50000_deg=10_dim=2_ple=2.4_T=0.53_seed=489_square',\n",
       " 'girg_n=50000_deg=10_dim=2_ple=2.4_T=0.53_seed=64',\n",
       " 'girg_n=50000_deg=10_dim=2_ple=2.4_T=0.53_seed=64_square',\n",
       " 'girg_n=50000_deg=10_dim=2_ple=2.4_T=0.53_seed=836',\n",
       " 'girg_n=50000_deg=10_dim=2_ple=2.4_T=0.53_seed=836_square',\n",
       " 'girg_n=50000_deg=10_dim=2_ple=2.4_T=0.62_seed=321',\n",
       " 'girg_n=50000_deg=10_dim=2_ple=2.4_T=0.62_seed=321_square',\n",
       " 'girg_n=50000_deg=10_dim=2_ple=2.4_T=0.62_seed=356',\n",
       " 'girg_n=50000_deg=10_dim=2_ple=2.4_T=0.62_seed=356_square',\n",
       " 'girg_n=50000_deg=10_dim=2_ple=2.4_T=0.62_seed=489',\n",
       " 'girg_n=50000_deg=10_dim=2_ple=2.4_T=0.62_seed=489_square',\n",
       " 'girg_n=50000_deg=10_dim=2_ple=2.4_T=0.62_seed=64',\n",
       " 'girg_n=50000_deg=10_dim=2_ple=2.4_T=0.62_seed=64_square',\n",
       " 'girg_n=50000_deg=10_dim=2_ple=2.4_T=0.62_seed=836',\n",
       " 'girg_n=50000_deg=10_dim=2_ple=2.4_T=0.62_seed=836_square',\n",
       " 'girg_n=50000_deg=10_dim=2_ple=2.4_T=0.76_seed=321',\n",
       " 'girg_n=50000_deg=10_dim=2_ple=2.4_T=0.76_seed=321_square',\n",
       " 'girg_n=50000_deg=10_dim=2_ple=2.4_T=0.76_seed=356',\n",
       " 'girg_n=50000_deg=10_dim=2_ple=2.4_T=0.76_seed=356_square',\n",
       " 'girg_n=50000_deg=10_dim=2_ple=2.4_T=0.76_seed=489',\n",
       " 'girg_n=50000_deg=10_dim=2_ple=2.4_T=0.76_seed=489_square',\n",
       " 'girg_n=50000_deg=10_dim=2_ple=2.4_T=0.76_seed=64',\n",
       " 'girg_n=50000_deg=10_dim=2_ple=2.4_T=0.76_seed=64_square',\n",
       " 'girg_n=50000_deg=10_dim=2_ple=2.4_T=0.76_seed=836',\n",
       " 'girg_n=50000_deg=10_dim=2_ple=2.4_T=0.76_seed=836_square',\n",
       " 'girg_n=50000_deg=10_dim=2_ple=2.4_T=0.7_seed=321',\n",
       " 'girg_n=50000_deg=10_dim=2_ple=2.4_T=0.7_seed=321_square',\n",
       " 'girg_n=50000_deg=10_dim=2_ple=2.4_T=0.7_seed=356',\n",
       " 'girg_n=50000_deg=10_dim=2_ple=2.4_T=0.7_seed=356_square',\n",
       " 'girg_n=50000_deg=10_dim=2_ple=2.4_T=0.7_seed=489',\n",
       " 'girg_n=50000_deg=10_dim=2_ple=2.4_T=0.7_seed=489_square',\n",
       " 'girg_n=50000_deg=10_dim=2_ple=2.4_T=0.7_seed=64',\n",
       " 'girg_n=50000_deg=10_dim=2_ple=2.4_T=0.7_seed=64_square',\n",
       " 'girg_n=50000_deg=10_dim=2_ple=2.4_T=0.7_seed=836',\n",
       " 'girg_n=50000_deg=10_dim=2_ple=2.4_T=0.7_seed=836_square',\n",
       " 'girg_n=50000_deg=10_dim=2_ple=2.4_T=0.82_seed=321',\n",
       " 'girg_n=50000_deg=10_dim=2_ple=2.4_T=0.82_seed=321_square',\n",
       " 'girg_n=50000_deg=10_dim=2_ple=2.4_T=0.82_seed=356',\n",
       " 'girg_n=50000_deg=10_dim=2_ple=2.4_T=0.82_seed=356_square',\n",
       " 'girg_n=50000_deg=10_dim=2_ple=2.4_T=0.82_seed=489',\n",
       " 'girg_n=50000_deg=10_dim=2_ple=2.4_T=0.82_seed=489_square',\n",
       " 'girg_n=50000_deg=10_dim=2_ple=2.4_T=0.82_seed=64',\n",
       " 'girg_n=50000_deg=10_dim=2_ple=2.4_T=0.82_seed=64_square',\n",
       " 'girg_n=50000_deg=10_dim=2_ple=2.4_T=0.82_seed=836',\n",
       " 'girg_n=50000_deg=10_dim=2_ple=2.4_T=0.82_seed=836_square',\n",
       " 'girg_n=50000_deg=10_dim=2_ple=2.4_T=0.88_seed=321',\n",
       " 'girg_n=50000_deg=10_dim=2_ple=2.4_T=0.88_seed=321_square',\n",
       " 'girg_n=50000_deg=10_dim=2_ple=2.4_T=0.88_seed=356',\n",
       " 'girg_n=50000_deg=10_dim=2_ple=2.4_T=0.88_seed=356_square',\n",
       " 'girg_n=50000_deg=10_dim=2_ple=2.4_T=0.88_seed=489',\n",
       " 'girg_n=50000_deg=10_dim=2_ple=2.4_T=0.88_seed=489_square',\n",
       " 'girg_n=50000_deg=10_dim=2_ple=2.4_T=0.88_seed=64',\n",
       " 'girg_n=50000_deg=10_dim=2_ple=2.4_T=0.88_seed=64_square',\n",
       " 'girg_n=50000_deg=10_dim=2_ple=2.4_T=0.88_seed=836',\n",
       " 'girg_n=50000_deg=10_dim=2_ple=2.4_T=0.88_seed=836_square',\n",
       " 'girg_n=50000_deg=10_dim=2_ple=2.4_T=0.94_seed=321',\n",
       " 'girg_n=50000_deg=10_dim=2_ple=2.4_T=0.94_seed=321_square',\n",
       " 'girg_n=50000_deg=10_dim=2_ple=2.4_T=0.94_seed=356',\n",
       " 'girg_n=50000_deg=10_dim=2_ple=2.4_T=0.94_seed=356_square',\n",
       " 'girg_n=50000_deg=10_dim=2_ple=2.4_T=0.94_seed=489',\n",
       " 'girg_n=50000_deg=10_dim=2_ple=2.4_T=0.94_seed=489_square',\n",
       " 'girg_n=50000_deg=10_dim=2_ple=2.4_T=0.94_seed=64',\n",
       " 'girg_n=50000_deg=10_dim=2_ple=2.4_T=0.94_seed=64_square',\n",
       " 'girg_n=50000_deg=10_dim=2_ple=2.4_T=0.94_seed=836',\n",
       " 'girg_n=50000_deg=10_dim=2_ple=2.4_T=0.94_seed=836_square',\n",
       " 'girg_n=50000_deg=10_dim=2_ple=2.4_T=0.9999_seed=321',\n",
       " 'girg_n=50000_deg=10_dim=2_ple=2.4_T=0.9999_seed=321_square',\n",
       " 'girg_n=50000_deg=10_dim=2_ple=2.4_T=0.9999_seed=356',\n",
       " 'girg_n=50000_deg=10_dim=2_ple=2.4_T=0.9999_seed=356_square',\n",
       " 'girg_n=50000_deg=10_dim=2_ple=2.4_T=0.9999_seed=489',\n",
       " 'girg_n=50000_deg=10_dim=2_ple=2.4_T=0.9999_seed=489_square',\n",
       " 'girg_n=50000_deg=10_dim=2_ple=2.4_T=0.9999_seed=64',\n",
       " 'girg_n=50000_deg=10_dim=2_ple=2.4_T=0.9999_seed=64_square',\n",
       " 'girg_n=50000_deg=10_dim=2_ple=2.4_T=0.9999_seed=836',\n",
       " 'girg_n=50000_deg=10_dim=2_ple=2.4_T=0.9999_seed=836_square',\n",
       " 'girg_n=50000_deg=10_dim=2_ple=2.55_T=0.0_seed=321',\n",
       " 'girg_n=50000_deg=10_dim=2_ple=2.55_T=0.0_seed=321_square',\n",
       " 'girg_n=50000_deg=10_dim=2_ple=2.55_T=0.0_seed=356',\n",
       " 'girg_n=50000_deg=10_dim=2_ple=2.55_T=0.0_seed=356_square',\n",
       " 'girg_n=50000_deg=10_dim=2_ple=2.55_T=0.0_seed=489',\n",
       " 'girg_n=50000_deg=10_dim=2_ple=2.55_T=0.0_seed=489_square',\n",
       " 'girg_n=50000_deg=10_dim=2_ple=2.55_T=0.0_seed=64',\n",
       " 'girg_n=50000_deg=10_dim=2_ple=2.55_T=0.0_seed=64_square',\n",
       " 'girg_n=50000_deg=10_dim=2_ple=2.55_T=0.0_seed=836',\n",
       " 'girg_n=50000_deg=10_dim=2_ple=2.55_T=0.0_seed=836_square',\n",
       " 'girg_n=50000_deg=10_dim=2_ple=2.55_T=0.4_seed=321',\n",
       " 'girg_n=50000_deg=10_dim=2_ple=2.55_T=0.4_seed=321_square',\n",
       " 'girg_n=50000_deg=10_dim=2_ple=2.55_T=0.4_seed=356',\n",
       " 'girg_n=50000_deg=10_dim=2_ple=2.55_T=0.4_seed=356_square',\n",
       " 'girg_n=50000_deg=10_dim=2_ple=2.55_T=0.4_seed=489',\n",
       " 'girg_n=50000_deg=10_dim=2_ple=2.55_T=0.4_seed=489_square',\n",
       " 'girg_n=50000_deg=10_dim=2_ple=2.55_T=0.4_seed=64',\n",
       " 'girg_n=50000_deg=10_dim=2_ple=2.55_T=0.4_seed=64_square',\n",
       " 'girg_n=50000_deg=10_dim=2_ple=2.55_T=0.4_seed=836',\n",
       " 'girg_n=50000_deg=10_dim=2_ple=2.55_T=0.4_seed=836_square',\n",
       " 'girg_n=50000_deg=10_dim=2_ple=2.55_T=0.53_seed=321',\n",
       " 'girg_n=50000_deg=10_dim=2_ple=2.55_T=0.53_seed=321_square',\n",
       " 'girg_n=50000_deg=10_dim=2_ple=2.55_T=0.53_seed=356',\n",
       " 'girg_n=50000_deg=10_dim=2_ple=2.55_T=0.53_seed=356_square',\n",
       " 'girg_n=50000_deg=10_dim=2_ple=2.55_T=0.53_seed=489',\n",
       " 'girg_n=50000_deg=10_dim=2_ple=2.55_T=0.53_seed=489_square',\n",
       " 'girg_n=50000_deg=10_dim=2_ple=2.55_T=0.53_seed=64',\n",
       " 'girg_n=50000_deg=10_dim=2_ple=2.55_T=0.53_seed=64_square',\n",
       " 'girg_n=50000_deg=10_dim=2_ple=2.55_T=0.53_seed=836',\n",
       " 'girg_n=50000_deg=10_dim=2_ple=2.55_T=0.53_seed=836_square',\n",
       " 'girg_n=50000_deg=10_dim=2_ple=2.55_T=0.62_seed=321',\n",
       " 'girg_n=50000_deg=10_dim=2_ple=2.55_T=0.62_seed=321_square',\n",
       " 'girg_n=50000_deg=10_dim=2_ple=2.55_T=0.62_seed=356',\n",
       " 'girg_n=50000_deg=10_dim=2_ple=2.55_T=0.62_seed=356_square',\n",
       " 'girg_n=50000_deg=10_dim=2_ple=2.55_T=0.62_seed=489',\n",
       " 'girg_n=50000_deg=10_dim=2_ple=2.55_T=0.62_seed=489_square',\n",
       " 'girg_n=50000_deg=10_dim=2_ple=2.55_T=0.62_seed=64',\n",
       " 'girg_n=50000_deg=10_dim=2_ple=2.55_T=0.62_seed=64_square',\n",
       " 'girg_n=50000_deg=10_dim=2_ple=2.55_T=0.62_seed=836',\n",
       " 'girg_n=50000_deg=10_dim=2_ple=2.55_T=0.62_seed=836_square',\n",
       " 'girg_n=50000_deg=10_dim=2_ple=2.55_T=0.76_seed=321',\n",
       " 'girg_n=50000_deg=10_dim=2_ple=2.55_T=0.76_seed=321_square',\n",
       " 'girg_n=50000_deg=10_dim=2_ple=2.55_T=0.76_seed=356',\n",
       " 'girg_n=50000_deg=10_dim=2_ple=2.55_T=0.76_seed=356_square',\n",
       " 'girg_n=50000_deg=10_dim=2_ple=2.55_T=0.76_seed=489',\n",
       " 'girg_n=50000_deg=10_dim=2_ple=2.55_T=0.76_seed=489_square',\n",
       " 'girg_n=50000_deg=10_dim=2_ple=2.55_T=0.76_seed=64',\n",
       " 'girg_n=50000_deg=10_dim=2_ple=2.55_T=0.76_seed=64_square',\n",
       " 'girg_n=50000_deg=10_dim=2_ple=2.55_T=0.76_seed=836',\n",
       " 'girg_n=50000_deg=10_dim=2_ple=2.55_T=0.76_seed=836_square',\n",
       " 'girg_n=50000_deg=10_dim=2_ple=2.55_T=0.7_seed=321',\n",
       " 'girg_n=50000_deg=10_dim=2_ple=2.55_T=0.7_seed=321_square',\n",
       " 'girg_n=50000_deg=10_dim=2_ple=2.55_T=0.7_seed=356',\n",
       " 'girg_n=50000_deg=10_dim=2_ple=2.55_T=0.7_seed=356_square',\n",
       " 'girg_n=50000_deg=10_dim=2_ple=2.55_T=0.7_seed=489',\n",
       " 'girg_n=50000_deg=10_dim=2_ple=2.55_T=0.7_seed=489_square',\n",
       " 'girg_n=50000_deg=10_dim=2_ple=2.55_T=0.7_seed=64',\n",
       " 'girg_n=50000_deg=10_dim=2_ple=2.55_T=0.7_seed=64_square',\n",
       " 'girg_n=50000_deg=10_dim=2_ple=2.55_T=0.7_seed=836',\n",
       " 'girg_n=50000_deg=10_dim=2_ple=2.55_T=0.7_seed=836_square',\n",
       " 'girg_n=50000_deg=10_dim=2_ple=2.55_T=0.82_seed=321',\n",
       " 'girg_n=50000_deg=10_dim=2_ple=2.55_T=0.82_seed=321_square',\n",
       " 'girg_n=50000_deg=10_dim=2_ple=2.55_T=0.82_seed=356',\n",
       " 'girg_n=50000_deg=10_dim=2_ple=2.55_T=0.82_seed=356_square',\n",
       " 'girg_n=50000_deg=10_dim=2_ple=2.55_T=0.82_seed=489',\n",
       " 'girg_n=50000_deg=10_dim=2_ple=2.55_T=0.82_seed=489_square',\n",
       " 'girg_n=50000_deg=10_dim=2_ple=2.55_T=0.82_seed=64',\n",
       " 'girg_n=50000_deg=10_dim=2_ple=2.55_T=0.82_seed=64_square',\n",
       " 'girg_n=50000_deg=10_dim=2_ple=2.55_T=0.82_seed=836',\n",
       " 'girg_n=50000_deg=10_dim=2_ple=2.55_T=0.82_seed=836_square',\n",
       " 'girg_n=50000_deg=10_dim=2_ple=2.55_T=0.88_seed=321',\n",
       " 'girg_n=50000_deg=10_dim=2_ple=2.55_T=0.88_seed=321_square',\n",
       " 'girg_n=50000_deg=10_dim=2_ple=2.55_T=0.88_seed=356',\n",
       " 'girg_n=50000_deg=10_dim=2_ple=2.55_T=0.88_seed=356_square',\n",
       " 'girg_n=50000_deg=10_dim=2_ple=2.55_T=0.88_seed=489',\n",
       " 'girg_n=50000_deg=10_dim=2_ple=2.55_T=0.88_seed=489_square',\n",
       " 'girg_n=50000_deg=10_dim=2_ple=2.55_T=0.88_seed=64',\n",
       " 'girg_n=50000_deg=10_dim=2_ple=2.55_T=0.88_seed=64_square',\n",
       " 'girg_n=50000_deg=10_dim=2_ple=2.55_T=0.88_seed=836',\n",
       " 'girg_n=50000_deg=10_dim=2_ple=2.55_T=0.88_seed=836_square',\n",
       " 'girg_n=50000_deg=10_dim=2_ple=2.55_T=0.94_seed=321',\n",
       " 'girg_n=50000_deg=10_dim=2_ple=2.55_T=0.94_seed=321_square',\n",
       " 'girg_n=50000_deg=10_dim=2_ple=2.55_T=0.94_seed=356',\n",
       " 'girg_n=50000_deg=10_dim=2_ple=2.55_T=0.94_seed=356_square',\n",
       " 'girg_n=50000_deg=10_dim=2_ple=2.55_T=0.94_seed=489',\n",
       " 'girg_n=50000_deg=10_dim=2_ple=2.55_T=0.94_seed=489_square',\n",
       " 'girg_n=50000_deg=10_dim=2_ple=2.55_T=0.94_seed=64',\n",
       " 'girg_n=50000_deg=10_dim=2_ple=2.55_T=0.94_seed=64_square',\n",
       " 'girg_n=50000_deg=10_dim=2_ple=2.55_T=0.94_seed=836',\n",
       " 'girg_n=50000_deg=10_dim=2_ple=2.55_T=0.94_seed=836_square',\n",
       " 'girg_n=50000_deg=10_dim=2_ple=2.55_T=0.9999_seed=321',\n",
       " 'girg_n=50000_deg=10_dim=2_ple=2.55_T=0.9999_seed=321_square',\n",
       " 'girg_n=50000_deg=10_dim=2_ple=2.55_T=0.9999_seed=356',\n",
       " 'girg_n=50000_deg=10_dim=2_ple=2.55_T=0.9999_seed=356_square',\n",
       " 'girg_n=50000_deg=10_dim=2_ple=2.55_T=0.9999_seed=489',\n",
       " 'girg_n=50000_deg=10_dim=2_ple=2.55_T=0.9999_seed=489_square',\n",
       " 'girg_n=50000_deg=10_dim=2_ple=2.55_T=0.9999_seed=64',\n",
       " 'girg_n=50000_deg=10_dim=2_ple=2.55_T=0.9999_seed=64_square',\n",
       " 'girg_n=50000_deg=10_dim=2_ple=2.55_T=0.9999_seed=836',\n",
       " 'girg_n=50000_deg=10_dim=2_ple=2.55_T=0.9999_seed=836_square',\n",
       " 'girg_n=50000_deg=10_dim=2_ple=2.75_T=0.0_seed=321',\n",
       " 'girg_n=50000_deg=10_dim=2_ple=2.75_T=0.0_seed=321_square',\n",
       " 'girg_n=50000_deg=10_dim=2_ple=2.75_T=0.0_seed=356',\n",
       " 'girg_n=50000_deg=10_dim=2_ple=2.75_T=0.0_seed=356_square',\n",
       " 'girg_n=50000_deg=10_dim=2_ple=2.75_T=0.0_seed=489',\n",
       " 'girg_n=50000_deg=10_dim=2_ple=2.75_T=0.0_seed=489_square',\n",
       " 'girg_n=50000_deg=10_dim=2_ple=2.75_T=0.0_seed=64',\n",
       " 'girg_n=50000_deg=10_dim=2_ple=2.75_T=0.0_seed=64_square',\n",
       " 'girg_n=50000_deg=10_dim=2_ple=2.75_T=0.0_seed=836',\n",
       " 'girg_n=50000_deg=10_dim=2_ple=2.75_T=0.0_seed=836_square',\n",
       " 'girg_n=50000_deg=10_dim=2_ple=2.75_T=0.4_seed=321',\n",
       " 'girg_n=50000_deg=10_dim=2_ple=2.75_T=0.4_seed=321_square',\n",
       " 'girg_n=50000_deg=10_dim=2_ple=2.75_T=0.4_seed=356',\n",
       " 'girg_n=50000_deg=10_dim=2_ple=2.75_T=0.4_seed=356_square',\n",
       " 'girg_n=50000_deg=10_dim=2_ple=2.75_T=0.4_seed=489',\n",
       " 'girg_n=50000_deg=10_dim=2_ple=2.75_T=0.4_seed=489_square',\n",
       " 'girg_n=50000_deg=10_dim=2_ple=2.75_T=0.4_seed=64',\n",
       " 'girg_n=50000_deg=10_dim=2_ple=2.75_T=0.4_seed=64_square',\n",
       " 'girg_n=50000_deg=10_dim=2_ple=2.75_T=0.4_seed=836',\n",
       " 'girg_n=50000_deg=10_dim=2_ple=2.75_T=0.4_seed=836_square',\n",
       " 'girg_n=50000_deg=10_dim=2_ple=2.75_T=0.53_seed=321',\n",
       " 'girg_n=50000_deg=10_dim=2_ple=2.75_T=0.53_seed=321_square',\n",
       " 'girg_n=50000_deg=10_dim=2_ple=2.75_T=0.53_seed=356',\n",
       " 'girg_n=50000_deg=10_dim=2_ple=2.75_T=0.53_seed=356_square',\n",
       " 'girg_n=50000_deg=10_dim=2_ple=2.75_T=0.53_seed=489',\n",
       " 'girg_n=50000_deg=10_dim=2_ple=2.75_T=0.53_seed=489_square',\n",
       " 'girg_n=50000_deg=10_dim=2_ple=2.75_T=0.53_seed=64',\n",
       " 'girg_n=50000_deg=10_dim=2_ple=2.75_T=0.53_seed=64_square',\n",
       " 'girg_n=50000_deg=10_dim=2_ple=2.75_T=0.53_seed=836',\n",
       " 'girg_n=50000_deg=10_dim=2_ple=2.75_T=0.53_seed=836_square',\n",
       " 'girg_n=50000_deg=10_dim=2_ple=2.75_T=0.62_seed=321',\n",
       " 'girg_n=50000_deg=10_dim=2_ple=2.75_T=0.62_seed=321_square',\n",
       " 'girg_n=50000_deg=10_dim=2_ple=2.75_T=0.62_seed=356',\n",
       " 'girg_n=50000_deg=10_dim=2_ple=2.75_T=0.62_seed=356_square',\n",
       " 'girg_n=50000_deg=10_dim=2_ple=2.75_T=0.62_seed=489',\n",
       " 'girg_n=50000_deg=10_dim=2_ple=2.75_T=0.62_seed=489_square',\n",
       " 'girg_n=50000_deg=10_dim=2_ple=2.75_T=0.62_seed=64',\n",
       " 'girg_n=50000_deg=10_dim=2_ple=2.75_T=0.62_seed=64_square',\n",
       " 'girg_n=50000_deg=10_dim=2_ple=2.75_T=0.62_seed=836',\n",
       " 'girg_n=50000_deg=10_dim=2_ple=2.75_T=0.62_seed=836_square',\n",
       " 'girg_n=50000_deg=10_dim=2_ple=2.75_T=0.76_seed=321',\n",
       " 'girg_n=50000_deg=10_dim=2_ple=2.75_T=0.76_seed=321_square',\n",
       " 'girg_n=50000_deg=10_dim=2_ple=2.75_T=0.76_seed=356',\n",
       " 'girg_n=50000_deg=10_dim=2_ple=2.75_T=0.76_seed=356_square',\n",
       " 'girg_n=50000_deg=10_dim=2_ple=2.75_T=0.76_seed=489',\n",
       " 'girg_n=50000_deg=10_dim=2_ple=2.75_T=0.76_seed=489_square',\n",
       " 'girg_n=50000_deg=10_dim=2_ple=2.75_T=0.76_seed=64',\n",
       " 'girg_n=50000_deg=10_dim=2_ple=2.75_T=0.76_seed=64_square',\n",
       " 'girg_n=50000_deg=10_dim=2_ple=2.75_T=0.76_seed=836',\n",
       " 'girg_n=50000_deg=10_dim=2_ple=2.75_T=0.76_seed=836_square',\n",
       " 'girg_n=50000_deg=10_dim=2_ple=2.75_T=0.7_seed=321',\n",
       " 'girg_n=50000_deg=10_dim=2_ple=2.75_T=0.7_seed=321_square',\n",
       " 'girg_n=50000_deg=10_dim=2_ple=2.75_T=0.7_seed=356',\n",
       " 'girg_n=50000_deg=10_dim=2_ple=2.75_T=0.7_seed=356_square',\n",
       " 'girg_n=50000_deg=10_dim=2_ple=2.75_T=0.7_seed=489',\n",
       " 'girg_n=50000_deg=10_dim=2_ple=2.75_T=0.7_seed=489_square',\n",
       " 'girg_n=50000_deg=10_dim=2_ple=2.75_T=0.7_seed=64',\n",
       " 'girg_n=50000_deg=10_dim=2_ple=2.75_T=0.7_seed=64_square',\n",
       " 'girg_n=50000_deg=10_dim=2_ple=2.75_T=0.7_seed=836',\n",
       " 'girg_n=50000_deg=10_dim=2_ple=2.75_T=0.7_seed=836_square',\n",
       " 'girg_n=50000_deg=10_dim=2_ple=2.75_T=0.82_seed=321',\n",
       " 'girg_n=50000_deg=10_dim=2_ple=2.75_T=0.82_seed=321_square',\n",
       " 'girg_n=50000_deg=10_dim=2_ple=2.75_T=0.82_seed=356',\n",
       " 'girg_n=50000_deg=10_dim=2_ple=2.75_T=0.82_seed=356_square',\n",
       " 'girg_n=50000_deg=10_dim=2_ple=2.75_T=0.82_seed=489',\n",
       " 'girg_n=50000_deg=10_dim=2_ple=2.75_T=0.82_seed=489_square',\n",
       " 'girg_n=50000_deg=10_dim=2_ple=2.75_T=0.82_seed=64',\n",
       " 'girg_n=50000_deg=10_dim=2_ple=2.75_T=0.82_seed=64_square',\n",
       " 'girg_n=50000_deg=10_dim=2_ple=2.75_T=0.82_seed=836',\n",
       " 'girg_n=50000_deg=10_dim=2_ple=2.75_T=0.82_seed=836_square',\n",
       " 'girg_n=50000_deg=10_dim=2_ple=2.75_T=0.88_seed=321',\n",
       " 'girg_n=50000_deg=10_dim=2_ple=2.75_T=0.88_seed=321_square',\n",
       " 'girg_n=50000_deg=10_dim=2_ple=2.75_T=0.88_seed=356',\n",
       " 'girg_n=50000_deg=10_dim=2_ple=2.75_T=0.88_seed=356_square',\n",
       " 'girg_n=50000_deg=10_dim=2_ple=2.75_T=0.88_seed=489',\n",
       " 'girg_n=50000_deg=10_dim=2_ple=2.75_T=0.88_seed=489_square',\n",
       " 'girg_n=50000_deg=10_dim=2_ple=2.75_T=0.88_seed=64',\n",
       " 'girg_n=50000_deg=10_dim=2_ple=2.75_T=0.88_seed=64_square',\n",
       " 'girg_n=50000_deg=10_dim=2_ple=2.75_T=0.88_seed=836',\n",
       " 'girg_n=50000_deg=10_dim=2_ple=2.75_T=0.88_seed=836_square',\n",
       " 'girg_n=50000_deg=10_dim=2_ple=2.75_T=0.94_seed=321',\n",
       " 'girg_n=50000_deg=10_dim=2_ple=2.75_T=0.94_seed=321_square',\n",
       " 'girg_n=50000_deg=10_dim=2_ple=2.75_T=0.94_seed=356',\n",
       " 'girg_n=50000_deg=10_dim=2_ple=2.75_T=0.94_seed=356_square',\n",
       " 'girg_n=50000_deg=10_dim=2_ple=2.75_T=0.94_seed=489',\n",
       " 'girg_n=50000_deg=10_dim=2_ple=2.75_T=0.94_seed=489_square',\n",
       " 'girg_n=50000_deg=10_dim=2_ple=2.75_T=0.94_seed=64',\n",
       " 'girg_n=50000_deg=10_dim=2_ple=2.75_T=0.94_seed=64_square',\n",
       " 'girg_n=50000_deg=10_dim=2_ple=2.75_T=0.94_seed=836',\n",
       " 'girg_n=50000_deg=10_dim=2_ple=2.75_T=0.94_seed=836_square',\n",
       " 'girg_n=50000_deg=10_dim=2_ple=2.75_T=0.9999_seed=321',\n",
       " 'girg_n=50000_deg=10_dim=2_ple=2.75_T=0.9999_seed=321_square',\n",
       " 'girg_n=50000_deg=10_dim=2_ple=2.75_T=0.9999_seed=356',\n",
       " 'girg_n=50000_deg=10_dim=2_ple=2.75_T=0.9999_seed=356_square',\n",
       " 'girg_n=50000_deg=10_dim=2_ple=2.75_T=0.9999_seed=489',\n",
       " 'girg_n=50000_deg=10_dim=2_ple=2.75_T=0.9999_seed=489_square',\n",
       " 'girg_n=50000_deg=10_dim=2_ple=2.75_T=0.9999_seed=64',\n",
       " 'girg_n=50000_deg=10_dim=2_ple=2.75_T=0.9999_seed=64_square',\n",
       " 'girg_n=50000_deg=10_dim=2_ple=2.75_T=0.9999_seed=836',\n",
       " 'girg_n=50000_deg=10_dim=2_ple=2.75_T=0.9999_seed=836_square',\n",
       " 'girg_n=50000_deg=10_dim=2_ple=25.0_T=0.0_seed=321',\n",
       " 'girg_n=50000_deg=10_dim=2_ple=25.0_T=0.0_seed=321_square',\n",
       " 'girg_n=50000_deg=10_dim=2_ple=25.0_T=0.0_seed=356',\n",
       " 'girg_n=50000_deg=10_dim=2_ple=25.0_T=0.0_seed=356_square',\n",
       " 'girg_n=50000_deg=10_dim=2_ple=25.0_T=0.0_seed=489',\n",
       " 'girg_n=50000_deg=10_dim=2_ple=25.0_T=0.0_seed=489_square',\n",
       " 'girg_n=50000_deg=10_dim=2_ple=25.0_T=0.0_seed=64',\n",
       " 'girg_n=50000_deg=10_dim=2_ple=25.0_T=0.0_seed=64_square',\n",
       " 'girg_n=50000_deg=10_dim=2_ple=25.0_T=0.0_seed=836',\n",
       " 'girg_n=50000_deg=10_dim=2_ple=25.0_T=0.0_seed=836_square',\n",
       " 'girg_n=50000_deg=10_dim=2_ple=25.0_T=0.4_seed=321',\n",
       " 'girg_n=50000_deg=10_dim=2_ple=25.0_T=0.4_seed=321_square',\n",
       " 'girg_n=50000_deg=10_dim=2_ple=25.0_T=0.4_seed=356',\n",
       " 'girg_n=50000_deg=10_dim=2_ple=25.0_T=0.4_seed=356_square',\n",
       " 'girg_n=50000_deg=10_dim=2_ple=25.0_T=0.4_seed=489',\n",
       " 'girg_n=50000_deg=10_dim=2_ple=25.0_T=0.4_seed=489_square',\n",
       " 'girg_n=50000_deg=10_dim=2_ple=25.0_T=0.4_seed=64',\n",
       " 'girg_n=50000_deg=10_dim=2_ple=25.0_T=0.4_seed=64_square',\n",
       " 'girg_n=50000_deg=10_dim=2_ple=25.0_T=0.4_seed=836',\n",
       " 'girg_n=50000_deg=10_dim=2_ple=25.0_T=0.4_seed=836_square',\n",
       " 'girg_n=50000_deg=10_dim=2_ple=25.0_T=0.53_seed=321',\n",
       " 'girg_n=50000_deg=10_dim=2_ple=25.0_T=0.53_seed=321_square',\n",
       " 'girg_n=50000_deg=10_dim=2_ple=25.0_T=0.53_seed=356',\n",
       " 'girg_n=50000_deg=10_dim=2_ple=25.0_T=0.53_seed=356_square',\n",
       " 'girg_n=50000_deg=10_dim=2_ple=25.0_T=0.53_seed=489',\n",
       " 'girg_n=50000_deg=10_dim=2_ple=25.0_T=0.53_seed=489_square',\n",
       " 'girg_n=50000_deg=10_dim=2_ple=25.0_T=0.53_seed=64',\n",
       " 'girg_n=50000_deg=10_dim=2_ple=25.0_T=0.53_seed=64_square',\n",
       " 'girg_n=50000_deg=10_dim=2_ple=25.0_T=0.53_seed=836',\n",
       " 'girg_n=50000_deg=10_dim=2_ple=25.0_T=0.53_seed=836_square',\n",
       " 'girg_n=50000_deg=10_dim=2_ple=25.0_T=0.62_seed=321',\n",
       " 'girg_n=50000_deg=10_dim=2_ple=25.0_T=0.62_seed=321_square',\n",
       " 'girg_n=50000_deg=10_dim=2_ple=25.0_T=0.62_seed=356',\n",
       " 'girg_n=50000_deg=10_dim=2_ple=25.0_T=0.62_seed=356_square',\n",
       " 'girg_n=50000_deg=10_dim=2_ple=25.0_T=0.62_seed=489',\n",
       " 'girg_n=50000_deg=10_dim=2_ple=25.0_T=0.62_seed=489_square',\n",
       " 'girg_n=50000_deg=10_dim=2_ple=25.0_T=0.62_seed=64',\n",
       " 'girg_n=50000_deg=10_dim=2_ple=25.0_T=0.62_seed=64_square',\n",
       " 'girg_n=50000_deg=10_dim=2_ple=25.0_T=0.62_seed=836',\n",
       " 'girg_n=50000_deg=10_dim=2_ple=25.0_T=0.62_seed=836_square',\n",
       " 'girg_n=50000_deg=10_dim=2_ple=25.0_T=0.76_seed=321',\n",
       " 'girg_n=50000_deg=10_dim=2_ple=25.0_T=0.76_seed=321_square',\n",
       " 'girg_n=50000_deg=10_dim=2_ple=25.0_T=0.76_seed=356',\n",
       " 'girg_n=50000_deg=10_dim=2_ple=25.0_T=0.76_seed=356_square',\n",
       " 'girg_n=50000_deg=10_dim=2_ple=25.0_T=0.76_seed=489',\n",
       " 'girg_n=50000_deg=10_dim=2_ple=25.0_T=0.76_seed=489_square',\n",
       " 'girg_n=50000_deg=10_dim=2_ple=25.0_T=0.76_seed=64',\n",
       " 'girg_n=50000_deg=10_dim=2_ple=25.0_T=0.76_seed=64_square',\n",
       " 'girg_n=50000_deg=10_dim=2_ple=25.0_T=0.76_seed=836',\n",
       " 'girg_n=50000_deg=10_dim=2_ple=25.0_T=0.76_seed=836_square',\n",
       " 'girg_n=50000_deg=10_dim=2_ple=25.0_T=0.7_seed=321',\n",
       " 'girg_n=50000_deg=10_dim=2_ple=25.0_T=0.7_seed=321_square',\n",
       " 'girg_n=50000_deg=10_dim=2_ple=25.0_T=0.7_seed=356',\n",
       " 'girg_n=50000_deg=10_dim=2_ple=25.0_T=0.7_seed=356_square',\n",
       " 'girg_n=50000_deg=10_dim=2_ple=25.0_T=0.7_seed=489',\n",
       " 'girg_n=50000_deg=10_dim=2_ple=25.0_T=0.7_seed=489_square',\n",
       " 'girg_n=50000_deg=10_dim=2_ple=25.0_T=0.7_seed=64',\n",
       " 'girg_n=50000_deg=10_dim=2_ple=25.0_T=0.7_seed=64_square',\n",
       " 'girg_n=50000_deg=10_dim=2_ple=25.0_T=0.7_seed=836',\n",
       " 'girg_n=50000_deg=10_dim=2_ple=25.0_T=0.7_seed=836_square',\n",
       " 'girg_n=50000_deg=10_dim=2_ple=25.0_T=0.82_seed=321',\n",
       " 'girg_n=50000_deg=10_dim=2_ple=25.0_T=0.82_seed=321_square',\n",
       " 'girg_n=50000_deg=10_dim=2_ple=25.0_T=0.82_seed=356',\n",
       " 'girg_n=50000_deg=10_dim=2_ple=25.0_T=0.82_seed=356_square',\n",
       " 'girg_n=50000_deg=10_dim=2_ple=25.0_T=0.82_seed=489',\n",
       " 'girg_n=50000_deg=10_dim=2_ple=25.0_T=0.82_seed=489_square',\n",
       " 'girg_n=50000_deg=10_dim=2_ple=25.0_T=0.82_seed=64',\n",
       " 'girg_n=50000_deg=10_dim=2_ple=25.0_T=0.82_seed=64_square',\n",
       " 'girg_n=50000_deg=10_dim=2_ple=25.0_T=0.82_seed=836',\n",
       " 'girg_n=50000_deg=10_dim=2_ple=25.0_T=0.82_seed=836_square',\n",
       " 'girg_n=50000_deg=10_dim=2_ple=25.0_T=0.88_seed=321',\n",
       " 'girg_n=50000_deg=10_dim=2_ple=25.0_T=0.88_seed=321_square',\n",
       " 'girg_n=50000_deg=10_dim=2_ple=25.0_T=0.88_seed=356',\n",
       " 'girg_n=50000_deg=10_dim=2_ple=25.0_T=0.88_seed=356_square',\n",
       " 'girg_n=50000_deg=10_dim=2_ple=25.0_T=0.88_seed=489',\n",
       " 'girg_n=50000_deg=10_dim=2_ple=25.0_T=0.88_seed=489_square',\n",
       " 'girg_n=50000_deg=10_dim=2_ple=25.0_T=0.88_seed=64',\n",
       " 'girg_n=50000_deg=10_dim=2_ple=25.0_T=0.88_seed=64_square',\n",
       " 'girg_n=50000_deg=10_dim=2_ple=25.0_T=0.88_seed=836',\n",
       " 'girg_n=50000_deg=10_dim=2_ple=25.0_T=0.88_seed=836_square',\n",
       " 'girg_n=50000_deg=10_dim=2_ple=25.0_T=0.94_seed=321',\n",
       " 'girg_n=50000_deg=10_dim=2_ple=25.0_T=0.94_seed=321_square',\n",
       " 'girg_n=50000_deg=10_dim=2_ple=25.0_T=0.94_seed=356',\n",
       " 'girg_n=50000_deg=10_dim=2_ple=25.0_T=0.94_seed=356_square',\n",
       " 'girg_n=50000_deg=10_dim=2_ple=25.0_T=0.94_seed=489',\n",
       " 'girg_n=50000_deg=10_dim=2_ple=25.0_T=0.94_seed=489_square',\n",
       " 'girg_n=50000_deg=10_dim=2_ple=25.0_T=0.94_seed=64',\n",
       " 'girg_n=50000_deg=10_dim=2_ple=25.0_T=0.94_seed=64_square',\n",
       " 'girg_n=50000_deg=10_dim=2_ple=25.0_T=0.94_seed=836',\n",
       " 'girg_n=50000_deg=10_dim=2_ple=25.0_T=0.94_seed=836_square',\n",
       " 'girg_n=50000_deg=10_dim=2_ple=25.0_T=0.9999_seed=321',\n",
       " 'girg_n=50000_deg=10_dim=2_ple=25.0_T=0.9999_seed=321_square',\n",
       " 'girg_n=50000_deg=10_dim=2_ple=25.0_T=0.9999_seed=356',\n",
       " 'girg_n=50000_deg=10_dim=2_ple=25.0_T=0.9999_seed=356_square',\n",
       " 'girg_n=50000_deg=10_dim=2_ple=25.0_T=0.9999_seed=489',\n",
       " 'girg_n=50000_deg=10_dim=2_ple=25.0_T=0.9999_seed=489_square',\n",
       " 'girg_n=50000_deg=10_dim=2_ple=25.0_T=0.9999_seed=64',\n",
       " 'girg_n=50000_deg=10_dim=2_ple=25.0_T=0.9999_seed=64_square',\n",
       " 'girg_n=50000_deg=10_dim=2_ple=25.0_T=0.9999_seed=836',\n",
       " 'girg_n=50000_deg=10_dim=2_ple=25.0_T=0.9999_seed=836_square',\n",
       " 'girg_n=50000_deg=10_dim=2_ple=3.0_T=0.0_seed=321',\n",
       " 'girg_n=50000_deg=10_dim=2_ple=3.0_T=0.0_seed=321_square',\n",
       " 'girg_n=50000_deg=10_dim=2_ple=3.0_T=0.0_seed=356',\n",
       " 'girg_n=50000_deg=10_dim=2_ple=3.0_T=0.0_seed=356_square',\n",
       " 'girg_n=50000_deg=10_dim=2_ple=3.0_T=0.0_seed=489',\n",
       " 'girg_n=50000_deg=10_dim=2_ple=3.0_T=0.0_seed=489_square',\n",
       " 'girg_n=50000_deg=10_dim=2_ple=3.0_T=0.0_seed=64',\n",
       " 'girg_n=50000_deg=10_dim=2_ple=3.0_T=0.0_seed=64_square',\n",
       " 'girg_n=50000_deg=10_dim=2_ple=3.0_T=0.0_seed=836',\n",
       " 'girg_n=50000_deg=10_dim=2_ple=3.0_T=0.0_seed=836_square',\n",
       " 'girg_n=50000_deg=10_dim=2_ple=3.0_T=0.4_seed=321',\n",
       " 'girg_n=50000_deg=10_dim=2_ple=3.0_T=0.4_seed=321_square',\n",
       " 'girg_n=50000_deg=10_dim=2_ple=3.0_T=0.4_seed=356',\n",
       " 'girg_n=50000_deg=10_dim=2_ple=3.0_T=0.4_seed=356_square',\n",
       " 'girg_n=50000_deg=10_dim=2_ple=3.0_T=0.4_seed=489',\n",
       " 'girg_n=50000_deg=10_dim=2_ple=3.0_T=0.4_seed=489_square',\n",
       " 'girg_n=50000_deg=10_dim=2_ple=3.0_T=0.4_seed=64',\n",
       " 'girg_n=50000_deg=10_dim=2_ple=3.0_T=0.4_seed=64_square',\n",
       " 'girg_n=50000_deg=10_dim=2_ple=3.0_T=0.4_seed=836',\n",
       " 'girg_n=50000_deg=10_dim=2_ple=3.0_T=0.4_seed=836_square',\n",
       " 'girg_n=50000_deg=10_dim=2_ple=3.0_T=0.53_seed=321',\n",
       " 'girg_n=50000_deg=10_dim=2_ple=3.0_T=0.53_seed=321_square',\n",
       " 'girg_n=50000_deg=10_dim=2_ple=3.0_T=0.53_seed=356',\n",
       " 'girg_n=50000_deg=10_dim=2_ple=3.0_T=0.53_seed=356_square',\n",
       " 'girg_n=50000_deg=10_dim=2_ple=3.0_T=0.53_seed=489',\n",
       " 'girg_n=50000_deg=10_dim=2_ple=3.0_T=0.53_seed=489_square',\n",
       " 'girg_n=50000_deg=10_dim=2_ple=3.0_T=0.53_seed=64',\n",
       " 'girg_n=50000_deg=10_dim=2_ple=3.0_T=0.53_seed=64_square',\n",
       " 'girg_n=50000_deg=10_dim=2_ple=3.0_T=0.53_seed=836',\n",
       " 'girg_n=50000_deg=10_dim=2_ple=3.0_T=0.53_seed=836_square',\n",
       " 'girg_n=50000_deg=10_dim=2_ple=3.0_T=0.62_seed=321',\n",
       " 'girg_n=50000_deg=10_dim=2_ple=3.0_T=0.62_seed=321_square',\n",
       " 'girg_n=50000_deg=10_dim=2_ple=3.0_T=0.62_seed=356',\n",
       " 'girg_n=50000_deg=10_dim=2_ple=3.0_T=0.62_seed=356_square',\n",
       " 'girg_n=50000_deg=10_dim=2_ple=3.0_T=0.62_seed=489',\n",
       " 'girg_n=50000_deg=10_dim=2_ple=3.0_T=0.62_seed=489_square',\n",
       " 'girg_n=50000_deg=10_dim=2_ple=3.0_T=0.62_seed=64',\n",
       " 'girg_n=50000_deg=10_dim=2_ple=3.0_T=0.62_seed=64_square',\n",
       " 'girg_n=50000_deg=10_dim=2_ple=3.0_T=0.62_seed=836',\n",
       " 'girg_n=50000_deg=10_dim=2_ple=3.0_T=0.62_seed=836_square',\n",
       " 'girg_n=50000_deg=10_dim=2_ple=3.0_T=0.76_seed=321',\n",
       " 'girg_n=50000_deg=10_dim=2_ple=3.0_T=0.76_seed=321_square',\n",
       " 'girg_n=50000_deg=10_dim=2_ple=3.0_T=0.76_seed=356',\n",
       " 'girg_n=50000_deg=10_dim=2_ple=3.0_T=0.76_seed=356_square',\n",
       " 'girg_n=50000_deg=10_dim=2_ple=3.0_T=0.76_seed=489',\n",
       " 'girg_n=50000_deg=10_dim=2_ple=3.0_T=0.76_seed=489_square',\n",
       " 'girg_n=50000_deg=10_dim=2_ple=3.0_T=0.76_seed=64',\n",
       " 'girg_n=50000_deg=10_dim=2_ple=3.0_T=0.76_seed=64_square',\n",
       " 'girg_n=50000_deg=10_dim=2_ple=3.0_T=0.76_seed=836',\n",
       " 'girg_n=50000_deg=10_dim=2_ple=3.0_T=0.76_seed=836_square',\n",
       " 'girg_n=50000_deg=10_dim=2_ple=3.0_T=0.7_seed=321',\n",
       " 'girg_n=50000_deg=10_dim=2_ple=3.0_T=0.7_seed=321_square',\n",
       " 'girg_n=50000_deg=10_dim=2_ple=3.0_T=0.7_seed=356',\n",
       " 'girg_n=50000_deg=10_dim=2_ple=3.0_T=0.7_seed=356_square',\n",
       " 'girg_n=50000_deg=10_dim=2_ple=3.0_T=0.7_seed=489',\n",
       " 'girg_n=50000_deg=10_dim=2_ple=3.0_T=0.7_seed=489_square',\n",
       " 'girg_n=50000_deg=10_dim=2_ple=3.0_T=0.7_seed=64',\n",
       " 'girg_n=50000_deg=10_dim=2_ple=3.0_T=0.7_seed=64_square',\n",
       " 'girg_n=50000_deg=10_dim=2_ple=3.0_T=0.7_seed=836',\n",
       " 'girg_n=50000_deg=10_dim=2_ple=3.0_T=0.7_seed=836_square',\n",
       " 'girg_n=50000_deg=10_dim=2_ple=3.0_T=0.82_seed=321',\n",
       " 'girg_n=50000_deg=10_dim=2_ple=3.0_T=0.82_seed=321_square',\n",
       " 'girg_n=50000_deg=10_dim=2_ple=3.0_T=0.82_seed=356',\n",
       " 'girg_n=50000_deg=10_dim=2_ple=3.0_T=0.82_seed=356_square',\n",
       " 'girg_n=50000_deg=10_dim=2_ple=3.0_T=0.82_seed=489',\n",
       " 'girg_n=50000_deg=10_dim=2_ple=3.0_T=0.82_seed=489_square',\n",
       " 'girg_n=50000_deg=10_dim=2_ple=3.0_T=0.82_seed=64',\n",
       " 'girg_n=50000_deg=10_dim=2_ple=3.0_T=0.82_seed=64_square',\n",
       " 'girg_n=50000_deg=10_dim=2_ple=3.0_T=0.82_seed=836',\n",
       " 'girg_n=50000_deg=10_dim=2_ple=3.0_T=0.82_seed=836_square',\n",
       " 'girg_n=50000_deg=10_dim=2_ple=3.0_T=0.88_seed=321',\n",
       " 'girg_n=50000_deg=10_dim=2_ple=3.0_T=0.88_seed=321_square',\n",
       " 'girg_n=50000_deg=10_dim=2_ple=3.0_T=0.88_seed=356',\n",
       " 'girg_n=50000_deg=10_dim=2_ple=3.0_T=0.88_seed=356_square',\n",
       " 'girg_n=50000_deg=10_dim=2_ple=3.0_T=0.88_seed=489',\n",
       " 'girg_n=50000_deg=10_dim=2_ple=3.0_T=0.88_seed=489_square',\n",
       " 'girg_n=50000_deg=10_dim=2_ple=3.0_T=0.88_seed=64',\n",
       " 'girg_n=50000_deg=10_dim=2_ple=3.0_T=0.88_seed=64_square',\n",
       " 'girg_n=50000_deg=10_dim=2_ple=3.0_T=0.88_seed=836',\n",
       " 'girg_n=50000_deg=10_dim=2_ple=3.0_T=0.88_seed=836_square',\n",
       " 'girg_n=50000_deg=10_dim=2_ple=3.0_T=0.94_seed=321',\n",
       " 'girg_n=50000_deg=10_dim=2_ple=3.0_T=0.94_seed=321_square',\n",
       " 'girg_n=50000_deg=10_dim=2_ple=3.0_T=0.94_seed=356',\n",
       " 'girg_n=50000_deg=10_dim=2_ple=3.0_T=0.94_seed=356_square',\n",
       " 'girg_n=50000_deg=10_dim=2_ple=3.0_T=0.94_seed=489',\n",
       " 'girg_n=50000_deg=10_dim=2_ple=3.0_T=0.94_seed=489_square',\n",
       " 'girg_n=50000_deg=10_dim=2_ple=3.0_T=0.94_seed=64',\n",
       " 'girg_n=50000_deg=10_dim=2_ple=3.0_T=0.94_seed=64_square',\n",
       " 'girg_n=50000_deg=10_dim=2_ple=3.0_T=0.94_seed=836',\n",
       " 'girg_n=50000_deg=10_dim=2_ple=3.0_T=0.94_seed=836_square',\n",
       " 'girg_n=50000_deg=10_dim=2_ple=3.0_T=0.9999_seed=321',\n",
       " 'girg_n=50000_deg=10_dim=2_ple=3.0_T=0.9999_seed=321_square',\n",
       " 'girg_n=50000_deg=10_dim=2_ple=3.0_T=0.9999_seed=356',\n",
       " 'girg_n=50000_deg=10_dim=2_ple=3.0_T=0.9999_seed=356_square',\n",
       " 'girg_n=50000_deg=10_dim=2_ple=3.0_T=0.9999_seed=489',\n",
       " 'girg_n=50000_deg=10_dim=2_ple=3.0_T=0.9999_seed=489_square',\n",
       " 'girg_n=50000_deg=10_dim=2_ple=3.0_T=0.9999_seed=64',\n",
       " 'girg_n=50000_deg=10_dim=2_ple=3.0_T=0.9999_seed=64_square',\n",
       " 'girg_n=50000_deg=10_dim=2_ple=3.0_T=0.9999_seed=836',\n",
       " 'girg_n=50000_deg=10_dim=2_ple=3.0_T=0.9999_seed=836_square',\n",
       " 'girg_n=50000_deg=10_dim=2_ple=3.35_T=0.0_seed=321',\n",
       " 'girg_n=50000_deg=10_dim=2_ple=3.35_T=0.0_seed=321_square',\n",
       " 'girg_n=50000_deg=10_dim=2_ple=3.35_T=0.0_seed=356',\n",
       " 'girg_n=50000_deg=10_dim=2_ple=3.35_T=0.0_seed=356_square',\n",
       " 'girg_n=50000_deg=10_dim=2_ple=3.35_T=0.0_seed=489',\n",
       " 'girg_n=50000_deg=10_dim=2_ple=3.35_T=0.0_seed=489_square',\n",
       " 'girg_n=50000_deg=10_dim=2_ple=3.35_T=0.0_seed=64',\n",
       " 'girg_n=50000_deg=10_dim=2_ple=3.35_T=0.0_seed=64_square',\n",
       " 'girg_n=50000_deg=10_dim=2_ple=3.35_T=0.0_seed=836',\n",
       " 'girg_n=50000_deg=10_dim=2_ple=3.35_T=0.0_seed=836_square',\n",
       " 'girg_n=50000_deg=10_dim=2_ple=3.35_T=0.4_seed=321',\n",
       " 'girg_n=50000_deg=10_dim=2_ple=3.35_T=0.4_seed=321_square',\n",
       " 'girg_n=50000_deg=10_dim=2_ple=3.35_T=0.4_seed=356',\n",
       " 'girg_n=50000_deg=10_dim=2_ple=3.35_T=0.4_seed=356_square',\n",
       " 'girg_n=50000_deg=10_dim=2_ple=3.35_T=0.4_seed=489',\n",
       " 'girg_n=50000_deg=10_dim=2_ple=3.35_T=0.4_seed=489_square',\n",
       " 'girg_n=50000_deg=10_dim=2_ple=3.35_T=0.4_seed=64',\n",
       " 'girg_n=50000_deg=10_dim=2_ple=3.35_T=0.4_seed=64_square',\n",
       " 'girg_n=50000_deg=10_dim=2_ple=3.35_T=0.4_seed=836',\n",
       " 'girg_n=50000_deg=10_dim=2_ple=3.35_T=0.4_seed=836_square',\n",
       " 'girg_n=50000_deg=10_dim=2_ple=3.35_T=0.53_seed=321',\n",
       " 'girg_n=50000_deg=10_dim=2_ple=3.35_T=0.53_seed=321_square',\n",
       " 'girg_n=50000_deg=10_dim=2_ple=3.35_T=0.53_seed=356',\n",
       " 'girg_n=50000_deg=10_dim=2_ple=3.35_T=0.53_seed=356_square',\n",
       " 'girg_n=50000_deg=10_dim=2_ple=3.35_T=0.53_seed=489',\n",
       " 'girg_n=50000_deg=10_dim=2_ple=3.35_T=0.53_seed=489_square',\n",
       " 'girg_n=50000_deg=10_dim=2_ple=3.35_T=0.53_seed=64',\n",
       " 'girg_n=50000_deg=10_dim=2_ple=3.35_T=0.53_seed=64_square',\n",
       " 'girg_n=50000_deg=10_dim=2_ple=3.35_T=0.53_seed=836',\n",
       " 'girg_n=50000_deg=10_dim=2_ple=3.35_T=0.53_seed=836_square',\n",
       " 'girg_n=50000_deg=10_dim=2_ple=3.35_T=0.62_seed=321',\n",
       " 'girg_n=50000_deg=10_dim=2_ple=3.35_T=0.62_seed=321_square',\n",
       " 'girg_n=50000_deg=10_dim=2_ple=3.35_T=0.62_seed=356',\n",
       " 'girg_n=50000_deg=10_dim=2_ple=3.35_T=0.62_seed=356_square',\n",
       " 'girg_n=50000_deg=10_dim=2_ple=3.35_T=0.62_seed=489',\n",
       " 'girg_n=50000_deg=10_dim=2_ple=3.35_T=0.62_seed=489_square',\n",
       " 'girg_n=50000_deg=10_dim=2_ple=3.35_T=0.62_seed=64',\n",
       " 'girg_n=50000_deg=10_dim=2_ple=3.35_T=0.62_seed=64_square',\n",
       " 'girg_n=50000_deg=10_dim=2_ple=3.35_T=0.62_seed=836',\n",
       " 'girg_n=50000_deg=10_dim=2_ple=3.35_T=0.62_seed=836_square',\n",
       " 'girg_n=50000_deg=10_dim=2_ple=3.35_T=0.76_seed=321',\n",
       " 'girg_n=50000_deg=10_dim=2_ple=3.35_T=0.76_seed=321_square',\n",
       " 'girg_n=50000_deg=10_dim=2_ple=3.35_T=0.76_seed=356',\n",
       " 'girg_n=50000_deg=10_dim=2_ple=3.35_T=0.76_seed=356_square',\n",
       " 'girg_n=50000_deg=10_dim=2_ple=3.35_T=0.76_seed=489',\n",
       " 'girg_n=50000_deg=10_dim=2_ple=3.35_T=0.76_seed=489_square',\n",
       " 'girg_n=50000_deg=10_dim=2_ple=3.35_T=0.76_seed=64',\n",
       " 'girg_n=50000_deg=10_dim=2_ple=3.35_T=0.76_seed=64_square',\n",
       " 'girg_n=50000_deg=10_dim=2_ple=3.35_T=0.76_seed=836',\n",
       " 'girg_n=50000_deg=10_dim=2_ple=3.35_T=0.76_seed=836_square',\n",
       " 'girg_n=50000_deg=10_dim=2_ple=3.35_T=0.7_seed=321',\n",
       " 'girg_n=50000_deg=10_dim=2_ple=3.35_T=0.7_seed=321_square',\n",
       " 'girg_n=50000_deg=10_dim=2_ple=3.35_T=0.7_seed=356',\n",
       " 'girg_n=50000_deg=10_dim=2_ple=3.35_T=0.7_seed=356_square',\n",
       " 'girg_n=50000_deg=10_dim=2_ple=3.35_T=0.7_seed=489',\n",
       " 'girg_n=50000_deg=10_dim=2_ple=3.35_T=0.7_seed=489_square',\n",
       " 'girg_n=50000_deg=10_dim=2_ple=3.35_T=0.7_seed=64',\n",
       " 'girg_n=50000_deg=10_dim=2_ple=3.35_T=0.7_seed=64_square',\n",
       " 'girg_n=50000_deg=10_dim=2_ple=3.35_T=0.7_seed=836',\n",
       " 'girg_n=50000_deg=10_dim=2_ple=3.35_T=0.7_seed=836_square',\n",
       " 'girg_n=50000_deg=10_dim=2_ple=3.35_T=0.82_seed=321',\n",
       " 'girg_n=50000_deg=10_dim=2_ple=3.35_T=0.82_seed=321_square',\n",
       " 'girg_n=50000_deg=10_dim=2_ple=3.35_T=0.82_seed=356',\n",
       " 'girg_n=50000_deg=10_dim=2_ple=3.35_T=0.82_seed=356_square',\n",
       " 'girg_n=50000_deg=10_dim=2_ple=3.35_T=0.82_seed=489',\n",
       " 'girg_n=50000_deg=10_dim=2_ple=3.35_T=0.82_seed=489_square',\n",
       " 'girg_n=50000_deg=10_dim=2_ple=3.35_T=0.82_seed=64',\n",
       " 'girg_n=50000_deg=10_dim=2_ple=3.35_T=0.82_seed=64_square',\n",
       " 'girg_n=50000_deg=10_dim=2_ple=3.35_T=0.82_seed=836',\n",
       " 'girg_n=50000_deg=10_dim=2_ple=3.35_T=0.82_seed=836_square',\n",
       " 'girg_n=50000_deg=10_dim=2_ple=3.35_T=0.88_seed=321',\n",
       " 'girg_n=50000_deg=10_dim=2_ple=3.35_T=0.88_seed=321_square',\n",
       " 'girg_n=50000_deg=10_dim=2_ple=3.35_T=0.88_seed=356',\n",
       " 'girg_n=50000_deg=10_dim=2_ple=3.35_T=0.88_seed=356_square',\n",
       " 'girg_n=50000_deg=10_dim=2_ple=3.35_T=0.88_seed=489',\n",
       " 'girg_n=50000_deg=10_dim=2_ple=3.35_T=0.88_seed=489_square',\n",
       " 'girg_n=50000_deg=10_dim=2_ple=3.35_T=0.88_seed=64',\n",
       " 'girg_n=50000_deg=10_dim=2_ple=3.35_T=0.88_seed=64_square',\n",
       " 'girg_n=50000_deg=10_dim=2_ple=3.35_T=0.88_seed=836',\n",
       " 'girg_n=50000_deg=10_dim=2_ple=3.35_T=0.88_seed=836_square',\n",
       " 'girg_n=50000_deg=10_dim=2_ple=3.35_T=0.94_seed=321',\n",
       " 'girg_n=50000_deg=10_dim=2_ple=3.35_T=0.94_seed=321_square',\n",
       " 'girg_n=50000_deg=10_dim=2_ple=3.35_T=0.94_seed=356',\n",
       " 'girg_n=50000_deg=10_dim=2_ple=3.35_T=0.94_seed=356_square',\n",
       " 'girg_n=50000_deg=10_dim=2_ple=3.35_T=0.94_seed=489',\n",
       " 'girg_n=50000_deg=10_dim=2_ple=3.35_T=0.94_seed=489_square',\n",
       " 'girg_n=50000_deg=10_dim=2_ple=3.35_T=0.94_seed=64',\n",
       " 'girg_n=50000_deg=10_dim=2_ple=3.35_T=0.94_seed=64_square',\n",
       " 'girg_n=50000_deg=10_dim=2_ple=3.35_T=0.94_seed=836',\n",
       " 'girg_n=50000_deg=10_dim=2_ple=3.35_T=0.94_seed=836_square',\n",
       " 'girg_n=50000_deg=10_dim=2_ple=3.35_T=0.9999_seed=321',\n",
       " 'girg_n=50000_deg=10_dim=2_ple=3.35_T=0.9999_seed=321_square',\n",
       " 'girg_n=50000_deg=10_dim=2_ple=3.35_T=0.9999_seed=356',\n",
       " 'girg_n=50000_deg=10_dim=2_ple=3.35_T=0.9999_seed=356_square',\n",
       " 'girg_n=50000_deg=10_dim=2_ple=3.35_T=0.9999_seed=489',\n",
       " 'girg_n=50000_deg=10_dim=2_ple=3.35_T=0.9999_seed=489_square',\n",
       " 'girg_n=50000_deg=10_dim=2_ple=3.35_T=0.9999_seed=64',\n",
       " 'girg_n=50000_deg=10_dim=2_ple=3.35_T=0.9999_seed=64_square',\n",
       " 'girg_n=50000_deg=10_dim=2_ple=3.35_T=0.9999_seed=836',\n",
       " 'girg_n=50000_deg=10_dim=2_ple=3.35_T=0.9999_seed=836_square',\n",
       " 'girg_n=50000_deg=10_dim=2_ple=3.9_T=0.0_seed=321',\n",
       " 'girg_n=50000_deg=10_dim=2_ple=3.9_T=0.0_seed=321_square',\n",
       " 'girg_n=50000_deg=10_dim=2_ple=3.9_T=0.0_seed=356',\n",
       " 'girg_n=50000_deg=10_dim=2_ple=3.9_T=0.0_seed=356_square',\n",
       " 'girg_n=50000_deg=10_dim=2_ple=3.9_T=0.0_seed=489',\n",
       " 'girg_n=50000_deg=10_dim=2_ple=3.9_T=0.0_seed=489_square',\n",
       " 'girg_n=50000_deg=10_dim=2_ple=3.9_T=0.0_seed=64',\n",
       " 'girg_n=50000_deg=10_dim=2_ple=3.9_T=0.0_seed=64_square',\n",
       " 'girg_n=50000_deg=10_dim=2_ple=3.9_T=0.0_seed=836',\n",
       " 'girg_n=50000_deg=10_dim=2_ple=3.9_T=0.0_seed=836_square',\n",
       " 'girg_n=50000_deg=10_dim=2_ple=3.9_T=0.4_seed=321',\n",
       " 'girg_n=50000_deg=10_dim=2_ple=3.9_T=0.4_seed=321_square',\n",
       " 'girg_n=50000_deg=10_dim=2_ple=3.9_T=0.4_seed=356',\n",
       " 'girg_n=50000_deg=10_dim=2_ple=3.9_T=0.4_seed=356_square',\n",
       " 'girg_n=50000_deg=10_dim=2_ple=3.9_T=0.4_seed=489',\n",
       " 'girg_n=50000_deg=10_dim=2_ple=3.9_T=0.4_seed=489_square',\n",
       " 'girg_n=50000_deg=10_dim=2_ple=3.9_T=0.4_seed=64',\n",
       " 'girg_n=50000_deg=10_dim=2_ple=3.9_T=0.4_seed=64_square',\n",
       " 'girg_n=50000_deg=10_dim=2_ple=3.9_T=0.4_seed=836',\n",
       " 'girg_n=50000_deg=10_dim=2_ple=3.9_T=0.4_seed=836_square',\n",
       " 'girg_n=50000_deg=10_dim=2_ple=3.9_T=0.53_seed=321',\n",
       " 'girg_n=50000_deg=10_dim=2_ple=3.9_T=0.53_seed=321_square',\n",
       " 'girg_n=50000_deg=10_dim=2_ple=3.9_T=0.53_seed=356',\n",
       " 'girg_n=50000_deg=10_dim=2_ple=3.9_T=0.53_seed=356_square',\n",
       " 'girg_n=50000_deg=10_dim=2_ple=3.9_T=0.53_seed=489',\n",
       " 'girg_n=50000_deg=10_dim=2_ple=3.9_T=0.53_seed=489_square',\n",
       " 'girg_n=50000_deg=10_dim=2_ple=3.9_T=0.53_seed=64',\n",
       " 'girg_n=50000_deg=10_dim=2_ple=3.9_T=0.53_seed=64_square',\n",
       " 'girg_n=50000_deg=10_dim=2_ple=3.9_T=0.53_seed=836',\n",
       " 'girg_n=50000_deg=10_dim=2_ple=3.9_T=0.53_seed=836_square',\n",
       " 'girg_n=50000_deg=10_dim=2_ple=3.9_T=0.62_seed=321',\n",
       " 'girg_n=50000_deg=10_dim=2_ple=3.9_T=0.62_seed=321_square',\n",
       " 'girg_n=50000_deg=10_dim=2_ple=3.9_T=0.62_seed=356',\n",
       " 'girg_n=50000_deg=10_dim=2_ple=3.9_T=0.62_seed=356_square',\n",
       " 'girg_n=50000_deg=10_dim=2_ple=3.9_T=0.62_seed=489',\n",
       " 'girg_n=50000_deg=10_dim=2_ple=3.9_T=0.62_seed=489_square',\n",
       " 'girg_n=50000_deg=10_dim=2_ple=3.9_T=0.62_seed=64',\n",
       " 'girg_n=50000_deg=10_dim=2_ple=3.9_T=0.62_seed=64_square',\n",
       " 'girg_n=50000_deg=10_dim=2_ple=3.9_T=0.62_seed=836',\n",
       " 'girg_n=50000_deg=10_dim=2_ple=3.9_T=0.62_seed=836_square',\n",
       " 'girg_n=50000_deg=10_dim=2_ple=3.9_T=0.76_seed=321',\n",
       " 'girg_n=50000_deg=10_dim=2_ple=3.9_T=0.76_seed=321_square',\n",
       " 'girg_n=50000_deg=10_dim=2_ple=3.9_T=0.76_seed=356',\n",
       " 'girg_n=50000_deg=10_dim=2_ple=3.9_T=0.76_seed=356_square',\n",
       " 'girg_n=50000_deg=10_dim=2_ple=3.9_T=0.76_seed=489',\n",
       " 'girg_n=50000_deg=10_dim=2_ple=3.9_T=0.76_seed=489_square',\n",
       " 'girg_n=50000_deg=10_dim=2_ple=3.9_T=0.76_seed=64',\n",
       " 'girg_n=50000_deg=10_dim=2_ple=3.9_T=0.76_seed=64_square',\n",
       " 'girg_n=50000_deg=10_dim=2_ple=3.9_T=0.76_seed=836',\n",
       " 'girg_n=50000_deg=10_dim=2_ple=3.9_T=0.76_seed=836_square',\n",
       " 'girg_n=50000_deg=10_dim=2_ple=3.9_T=0.7_seed=321',\n",
       " 'girg_n=50000_deg=10_dim=2_ple=3.9_T=0.7_seed=321_square',\n",
       " 'girg_n=50000_deg=10_dim=2_ple=3.9_T=0.7_seed=356',\n",
       " 'girg_n=50000_deg=10_dim=2_ple=3.9_T=0.7_seed=356_square',\n",
       " 'girg_n=50000_deg=10_dim=2_ple=3.9_T=0.7_seed=489',\n",
       " 'girg_n=50000_deg=10_dim=2_ple=3.9_T=0.7_seed=489_square',\n",
       " 'girg_n=50000_deg=10_dim=2_ple=3.9_T=0.7_seed=64',\n",
       " 'girg_n=50000_deg=10_dim=2_ple=3.9_T=0.7_seed=64_square',\n",
       " 'girg_n=50000_deg=10_dim=2_ple=3.9_T=0.7_seed=836',\n",
       " 'girg_n=50000_deg=10_dim=2_ple=3.9_T=0.7_seed=836_square',\n",
       " 'girg_n=50000_deg=10_dim=2_ple=3.9_T=0.82_seed=321',\n",
       " 'girg_n=50000_deg=10_dim=2_ple=3.9_T=0.82_seed=321_square',\n",
       " 'girg_n=50000_deg=10_dim=2_ple=3.9_T=0.82_seed=356',\n",
       " 'girg_n=50000_deg=10_dim=2_ple=3.9_T=0.82_seed=356_square',\n",
       " 'girg_n=50000_deg=10_dim=2_ple=3.9_T=0.82_seed=489',\n",
       " 'girg_n=50000_deg=10_dim=2_ple=3.9_T=0.82_seed=489_square',\n",
       " 'girg_n=50000_deg=10_dim=2_ple=3.9_T=0.82_seed=64',\n",
       " 'girg_n=50000_deg=10_dim=2_ple=3.9_T=0.82_seed=64_square',\n",
       " 'girg_n=50000_deg=10_dim=2_ple=3.9_T=0.82_seed=836',\n",
       " 'girg_n=50000_deg=10_dim=2_ple=3.9_T=0.82_seed=836_square',\n",
       " 'girg_n=50000_deg=10_dim=2_ple=3.9_T=0.88_seed=321',\n",
       " 'girg_n=50000_deg=10_dim=2_ple=3.9_T=0.88_seed=321_square',\n",
       " 'girg_n=50000_deg=10_dim=2_ple=3.9_T=0.88_seed=356',\n",
       " 'girg_n=50000_deg=10_dim=2_ple=3.9_T=0.88_seed=356_square',\n",
       " 'girg_n=50000_deg=10_dim=2_ple=3.9_T=0.88_seed=489',\n",
       " 'girg_n=50000_deg=10_dim=2_ple=3.9_T=0.88_seed=489_square',\n",
       " 'girg_n=50000_deg=10_dim=2_ple=3.9_T=0.88_seed=64',\n",
       " 'girg_n=50000_deg=10_dim=2_ple=3.9_T=0.88_seed=64_square',\n",
       " 'girg_n=50000_deg=10_dim=2_ple=3.9_T=0.88_seed=836',\n",
       " 'girg_n=50000_deg=10_dim=2_ple=3.9_T=0.88_seed=836_square',\n",
       " 'girg_n=50000_deg=10_dim=2_ple=3.9_T=0.94_seed=321',\n",
       " 'girg_n=50000_deg=10_dim=2_ple=3.9_T=0.94_seed=321_square',\n",
       " 'girg_n=50000_deg=10_dim=2_ple=3.9_T=0.94_seed=356',\n",
       " 'girg_n=50000_deg=10_dim=2_ple=3.9_T=0.94_seed=356_square',\n",
       " 'girg_n=50000_deg=10_dim=2_ple=3.9_T=0.94_seed=489',\n",
       " 'girg_n=50000_deg=10_dim=2_ple=3.9_T=0.94_seed=489_square',\n",
       " 'girg_n=50000_deg=10_dim=2_ple=3.9_T=0.94_seed=64',\n",
       " 'girg_n=50000_deg=10_dim=2_ple=3.9_T=0.94_seed=64_square',\n",
       " 'girg_n=50000_deg=10_dim=2_ple=3.9_T=0.94_seed=836',\n",
       " 'girg_n=50000_deg=10_dim=2_ple=3.9_T=0.94_seed=836_square',\n",
       " 'girg_n=50000_deg=10_dim=2_ple=3.9_T=0.9999_seed=321',\n",
       " 'girg_n=50000_deg=10_dim=2_ple=3.9_T=0.9999_seed=321_square',\n",
       " 'girg_n=50000_deg=10_dim=2_ple=3.9_T=0.9999_seed=356',\n",
       " 'girg_n=50000_deg=10_dim=2_ple=3.9_T=0.9999_seed=356_square',\n",
       " 'girg_n=50000_deg=10_dim=2_ple=3.9_T=0.9999_seed=489',\n",
       " 'girg_n=50000_deg=10_dim=2_ple=3.9_T=0.9999_seed=489_square',\n",
       " 'girg_n=50000_deg=10_dim=2_ple=3.9_T=0.9999_seed=64',\n",
       " 'girg_n=50000_deg=10_dim=2_ple=3.9_T=0.9999_seed=64_square',\n",
       " 'girg_n=50000_deg=10_dim=2_ple=3.9_T=0.9999_seed=836',\n",
       " 'girg_n=50000_deg=10_dim=2_ple=3.9_T=0.9999_seed=836_square',\n",
       " 'girg_n=50000_deg=10_dim=2_ple=5.1_T=0.0_seed=321',\n",
       " 'girg_n=50000_deg=10_dim=2_ple=5.1_T=0.0_seed=321_square',\n",
       " 'girg_n=50000_deg=10_dim=2_ple=5.1_T=0.0_seed=356',\n",
       " 'girg_n=50000_deg=10_dim=2_ple=5.1_T=0.0_seed=356_square',\n",
       " 'girg_n=50000_deg=10_dim=2_ple=5.1_T=0.0_seed=489',\n",
       " 'girg_n=50000_deg=10_dim=2_ple=5.1_T=0.0_seed=489_square',\n",
       " 'girg_n=50000_deg=10_dim=2_ple=5.1_T=0.0_seed=64',\n",
       " 'girg_n=50000_deg=10_dim=2_ple=5.1_T=0.0_seed=64_square',\n",
       " 'girg_n=50000_deg=10_dim=2_ple=5.1_T=0.0_seed=836',\n",
       " 'girg_n=50000_deg=10_dim=2_ple=5.1_T=0.0_seed=836_square',\n",
       " 'girg_n=50000_deg=10_dim=2_ple=5.1_T=0.4_seed=321',\n",
       " 'girg_n=50000_deg=10_dim=2_ple=5.1_T=0.4_seed=321_square',\n",
       " 'girg_n=50000_deg=10_dim=2_ple=5.1_T=0.4_seed=356',\n",
       " 'girg_n=50000_deg=10_dim=2_ple=5.1_T=0.4_seed=356_square',\n",
       " 'girg_n=50000_deg=10_dim=2_ple=5.1_T=0.4_seed=489',\n",
       " 'girg_n=50000_deg=10_dim=2_ple=5.1_T=0.4_seed=489_square',\n",
       " 'girg_n=50000_deg=10_dim=2_ple=5.1_T=0.4_seed=64',\n",
       " 'girg_n=50000_deg=10_dim=2_ple=5.1_T=0.4_seed=64_square',\n",
       " 'girg_n=50000_deg=10_dim=2_ple=5.1_T=0.4_seed=836',\n",
       " 'girg_n=50000_deg=10_dim=2_ple=5.1_T=0.4_seed=836_square',\n",
       " 'girg_n=50000_deg=10_dim=2_ple=5.1_T=0.53_seed=321',\n",
       " 'girg_n=50000_deg=10_dim=2_ple=5.1_T=0.53_seed=321_square',\n",
       " 'girg_n=50000_deg=10_dim=2_ple=5.1_T=0.53_seed=356',\n",
       " 'girg_n=50000_deg=10_dim=2_ple=5.1_T=0.53_seed=356_square',\n",
       " 'girg_n=50000_deg=10_dim=2_ple=5.1_T=0.53_seed=489',\n",
       " 'girg_n=50000_deg=10_dim=2_ple=5.1_T=0.53_seed=489_square',\n",
       " 'girg_n=50000_deg=10_dim=2_ple=5.1_T=0.53_seed=64',\n",
       " 'girg_n=50000_deg=10_dim=2_ple=5.1_T=0.53_seed=64_square',\n",
       " 'girg_n=50000_deg=10_dim=2_ple=5.1_T=0.53_seed=836',\n",
       " 'girg_n=50000_deg=10_dim=2_ple=5.1_T=0.53_seed=836_square',\n",
       " 'girg_n=50000_deg=10_dim=2_ple=5.1_T=0.62_seed=321',\n",
       " 'girg_n=50000_deg=10_dim=2_ple=5.1_T=0.62_seed=321_square',\n",
       " 'girg_n=50000_deg=10_dim=2_ple=5.1_T=0.62_seed=356',\n",
       " 'girg_n=50000_deg=10_dim=2_ple=5.1_T=0.62_seed=356_square',\n",
       " 'girg_n=50000_deg=10_dim=2_ple=5.1_T=0.62_seed=489',\n",
       " 'girg_n=50000_deg=10_dim=2_ple=5.1_T=0.62_seed=489_square',\n",
       " 'girg_n=50000_deg=10_dim=2_ple=5.1_T=0.62_seed=64',\n",
       " 'girg_n=50000_deg=10_dim=2_ple=5.1_T=0.62_seed=64_square',\n",
       " 'girg_n=50000_deg=10_dim=2_ple=5.1_T=0.62_seed=836',\n",
       " 'girg_n=50000_deg=10_dim=2_ple=5.1_T=0.62_seed=836_square',\n",
       " 'girg_n=50000_deg=10_dim=2_ple=5.1_T=0.76_seed=321',\n",
       " 'girg_n=50000_deg=10_dim=2_ple=5.1_T=0.76_seed=321_square',\n",
       " 'girg_n=50000_deg=10_dim=2_ple=5.1_T=0.76_seed=356',\n",
       " 'girg_n=50000_deg=10_dim=2_ple=5.1_T=0.76_seed=356_square',\n",
       " 'girg_n=50000_deg=10_dim=2_ple=5.1_T=0.76_seed=489',\n",
       " 'girg_n=50000_deg=10_dim=2_ple=5.1_T=0.76_seed=489_square',\n",
       " 'girg_n=50000_deg=10_dim=2_ple=5.1_T=0.76_seed=64',\n",
       " 'girg_n=50000_deg=10_dim=2_ple=5.1_T=0.76_seed=64_square',\n",
       " 'girg_n=50000_deg=10_dim=2_ple=5.1_T=0.76_seed=836',\n",
       " 'girg_n=50000_deg=10_dim=2_ple=5.1_T=0.76_seed=836_square',\n",
       " 'girg_n=50000_deg=10_dim=2_ple=5.1_T=0.7_seed=321',\n",
       " 'girg_n=50000_deg=10_dim=2_ple=5.1_T=0.7_seed=321_square',\n",
       " 'girg_n=50000_deg=10_dim=2_ple=5.1_T=0.7_seed=356',\n",
       " 'girg_n=50000_deg=10_dim=2_ple=5.1_T=0.7_seed=356_square',\n",
       " 'girg_n=50000_deg=10_dim=2_ple=5.1_T=0.7_seed=489',\n",
       " 'girg_n=50000_deg=10_dim=2_ple=5.1_T=0.7_seed=489_square',\n",
       " 'girg_n=50000_deg=10_dim=2_ple=5.1_T=0.7_seed=64',\n",
       " 'girg_n=50000_deg=10_dim=2_ple=5.1_T=0.7_seed=64_square',\n",
       " 'girg_n=50000_deg=10_dim=2_ple=5.1_T=0.7_seed=836',\n",
       " 'girg_n=50000_deg=10_dim=2_ple=5.1_T=0.7_seed=836_square',\n",
       " 'girg_n=50000_deg=10_dim=2_ple=5.1_T=0.82_seed=321',\n",
       " 'girg_n=50000_deg=10_dim=2_ple=5.1_T=0.82_seed=321_square',\n",
       " 'girg_n=50000_deg=10_dim=2_ple=5.1_T=0.82_seed=356',\n",
       " 'girg_n=50000_deg=10_dim=2_ple=5.1_T=0.82_seed=356_square',\n",
       " 'girg_n=50000_deg=10_dim=2_ple=5.1_T=0.82_seed=489',\n",
       " 'girg_n=50000_deg=10_dim=2_ple=5.1_T=0.82_seed=489_square',\n",
       " 'girg_n=50000_deg=10_dim=2_ple=5.1_T=0.82_seed=64',\n",
       " 'girg_n=50000_deg=10_dim=2_ple=5.1_T=0.82_seed=64_square',\n",
       " 'girg_n=50000_deg=10_dim=2_ple=5.1_T=0.82_seed=836',\n",
       " 'girg_n=50000_deg=10_dim=2_ple=5.1_T=0.82_seed=836_square',\n",
       " 'girg_n=50000_deg=10_dim=2_ple=5.1_T=0.88_seed=321',\n",
       " 'girg_n=50000_deg=10_dim=2_ple=5.1_T=0.88_seed=321_square',\n",
       " 'girg_n=50000_deg=10_dim=2_ple=5.1_T=0.88_seed=356',\n",
       " 'girg_n=50000_deg=10_dim=2_ple=5.1_T=0.88_seed=356_square',\n",
       " 'girg_n=50000_deg=10_dim=2_ple=5.1_T=0.88_seed=489',\n",
       " 'girg_n=50000_deg=10_dim=2_ple=5.1_T=0.88_seed=489_square',\n",
       " 'girg_n=50000_deg=10_dim=2_ple=5.1_T=0.88_seed=64',\n",
       " 'girg_n=50000_deg=10_dim=2_ple=5.1_T=0.88_seed=64_square',\n",
       " 'girg_n=50000_deg=10_dim=2_ple=5.1_T=0.88_seed=836',\n",
       " 'girg_n=50000_deg=10_dim=2_ple=5.1_T=0.88_seed=836_square',\n",
       " 'girg_n=50000_deg=10_dim=2_ple=5.1_T=0.94_seed=321',\n",
       " 'girg_n=50000_deg=10_dim=2_ple=5.1_T=0.94_seed=321_square',\n",
       " 'girg_n=50000_deg=10_dim=2_ple=5.1_T=0.94_seed=356',\n",
       " 'girg_n=50000_deg=10_dim=2_ple=5.1_T=0.94_seed=356_square',\n",
       " 'girg_n=50000_deg=10_dim=2_ple=5.1_T=0.94_seed=489',\n",
       " 'girg_n=50000_deg=10_dim=2_ple=5.1_T=0.94_seed=489_square',\n",
       " 'girg_n=50000_deg=10_dim=2_ple=5.1_T=0.94_seed=64',\n",
       " 'girg_n=50000_deg=10_dim=2_ple=5.1_T=0.94_seed=64_square',\n",
       " 'girg_n=50000_deg=10_dim=2_ple=5.1_T=0.94_seed=836',\n",
       " 'girg_n=50000_deg=10_dim=2_ple=5.1_T=0.94_seed=836_square',\n",
       " 'girg_n=50000_deg=10_dim=2_ple=5.1_T=0.9999_seed=321',\n",
       " 'girg_n=50000_deg=10_dim=2_ple=5.1_T=0.9999_seed=321_square',\n",
       " 'girg_n=50000_deg=10_dim=2_ple=5.1_T=0.9999_seed=356',\n",
       " 'girg_n=50000_deg=10_dim=2_ple=5.1_T=0.9999_seed=356_square',\n",
       " 'girg_n=50000_deg=10_dim=2_ple=5.1_T=0.9999_seed=489',\n",
       " 'girg_n=50000_deg=10_dim=2_ple=5.1_T=0.9999_seed=489_square',\n",
       " 'girg_n=50000_deg=10_dim=2_ple=5.1_T=0.9999_seed=64',\n",
       " 'girg_n=50000_deg=10_dim=2_ple=5.1_T=0.9999_seed=64_square',\n",
       " 'girg_n=50000_deg=10_dim=2_ple=5.1_T=0.9999_seed=836',\n",
       " 'girg_n=50000_deg=10_dim=2_ple=5.1_T=0.9999_seed=836_square']"
      ]
     },
     "execution_count": 107,
     "metadata": {},
     "output_type": "execute_result"
    }
   ],
   "source": [
    "utils.input_names_girg"
   ]
  },
  {
   "cell_type": "markdown",
   "metadata": {},
   "source": [
    "## Multi hist plots"
   ]
  },
  {
   "cell_type": "code",
   "execution_count": 21,
   "metadata": {},
   "outputs": [
    {
     "data": {
      "image/png": "[encoded data removed]",
      "text/plain": [
       "<Figure size 1500x1000 with 6 Axes>"
      ]
     },
     "metadata": {},
     "output_type": "display_data"
    }
   ],
   "source": [
    "# plot the same for the first 6 graphs\n",
    "graphs = utils.input_names_real_with_cl[:50]\n",
    "\n",
    "dfs = []\n",
    "for graph in graphs:\n",
    "    df = utils.graph_name_to_resultsdf(graph)\n",
    "    dfs.append(df)\n",
    "\n",
    "import matplotlib.pyplot as plt\n",
    "\n",
    "fig, axs = plt.subplots(2, 3, figsize=(15, 10))\n",
    "for i, df in enumerate(dfs):\n",
    "    _ = ax = axs[i // 3, i % 3]\n",
    "    _ = df.loc[(df.algo == 'VBA') & (df.graph.str.contains('_cl')),\n",
    "           'search_space'].hist(bins=20, ax=ax, alpha=0.5)\n",
    "    _ = df.loc[(df.algo == 'VBA') & (~df.graph.str.contains('_cl')),\n",
    "        'search_space'].hist(bins=20, ax=ax, alpha=0.5)\n",
    "    _ = ax.set_title(graphs[i])"
   ]
  },
  {
   "cell_type": "code",
   "execution_count": 4,
   "metadata": {},
   "outputs": [
    {
     "name": "stderr",
     "output_type": "stream",
     "text": [
      "100%|██████████| 2705/2705 [01:11<00:00, 38.08it/s]\n"
     ]
    }
   ],
   "source": [
    "import glob\n",
    "csvs = glob.glob(utils.p + 'real_fake_output/*')\n",
    "import tqdm\n",
    "dfs = []\n",
    "for csv in tqdm.tqdm(csvs):\n",
    "    df = pd.read_csv(csv)\n",
    "    dfs.append(df)\n"
   ]
  },
  {
   "cell_type": "code",
   "execution_count": 5,
   "metadata": {},
   "outputs": [],
   "source": [
    "df = pd.concat(dfs)"
   ]
  },
  {
   "cell_type": "code",
   "execution_count": 9,
   "metadata": {},
   "outputs": [
    {
     "data": {
      "text/plain": [
       "(40000, 7)"
      ]
     },
     "execution_count": 9,
     "metadata": {},
     "output_type": "execute_result"
    }
   ],
   "source": [
    "df.loc[df.graph == 'DD_g488'].shape"
   ]
  },
  {
   "cell_type": "code",
   "execution_count": 10,
   "metadata": {},
   "outputs": [
    {
     "data": {
      "text/plain": [
       "10000.0"
      ]
     },
     "execution_count": 10,
     "metadata": {},
     "output_type": "execute_result"
    }
   ],
   "source": [
    "40000/4"
   ]
  },
  {
   "cell_type": "code",
   "execution_count": 12,
   "metadata": {},
   "outputs": [],
   "source": [
    "x = df.loc[df.graph == 'DD_g488'].algo"
   ]
  },
  {
   "cell_type": "code",
   "execution_count": 13,
   "metadata": {},
   "outputs": [
    {
     "data": {
      "text/plain": [
       "4999    python-BiBFS_VertexBalancedApproximate\n",
       "5000    python-BiBFS_VertexBalancedApproximate\n",
       "Name: algo, dtype: object"
      ]
     },
     "execution_count": 13,
     "metadata": {},
     "output_type": "execute_result"
    }
   ],
   "source": [
    "x.iloc[4999:5001]"
   ]
  },
  {
   "cell_type": "code",
   "execution_count": 14,
   "metadata": {},
   "outputs": [
    {
     "data": {
      "text/plain": [
       "9999     python-BiBFS_VertexBalancedApproximate\n",
       "10000      python-BiBFS_ExactExpandSmallerQueue\n",
       "Name: algo, dtype: object"
      ]
     },
     "execution_count": 14,
     "metadata": {},
     "output_type": "execute_result"
    }
   ],
   "source": [
    "x.iloc[9999:10001]"
   ]
  },
  {
   "cell_type": "code",
   "execution_count": 18,
   "metadata": {},
   "outputs": [],
   "source": [
    "fn = f'{utils.p}real_fake_output/130bit.csv'\n",
    "foo = pd.read_csv(fn)"
   ]
  },
  {
   "cell_type": "code",
   "execution_count": 24,
   "metadata": {},
   "outputs": [
    {
     "data": {
      "text/plain": [
       "Index(['s', 't', 'algo', 'search_space', 'dist', 'time_dist', 'graph'], dtype='object')"
      ]
     },
     "execution_count": 24,
     "metadata": {},
     "output_type": "execute_result"
    }
   ],
   "source": [
    "foo.columns"
   ]
  },
  {
   "cell_type": "code",
   "execution_count": 15,
   "metadata": {},
   "outputs": [
    {
     "data": {
      "text/plain": [
       "['130bit',\n",
       " '145bit',\n",
       " '162bit',\n",
       " '176bit',\n",
       " '192bit',\n",
       " '208bit',\n",
       " '2D_27628_bjtcai',\n",
       " '2D_54019_highK',\n",
       " '2cubes_sphere',\n",
       " '3D_28984_Tetra']"
      ]
     },
     "execution_count": 15,
     "metadata": {},
     "output_type": "execute_result"
    }
   ],
   "source": [
    "utils.input_names_real_with_cl[:10]"
   ]
  }
 ],
 "metadata": {
  "kernelspec": {
   "display_name": "base",
   "language": "python",
   "name": "python3"
  },
  "language_info": {
   "codemirror_mode": {
    "name": "ipython",
    "version": 3
   },
   "file_extension": ".py",
   "mimetype": "text/x-python",
   "name": "python",
   "nbconvert_exporter": "python",
   "pygments_lexer": "ipython3",
   "version": "3.9.13"
  }
 },
 "nbformat": 4,
 "nbformat_minor": 2
}
